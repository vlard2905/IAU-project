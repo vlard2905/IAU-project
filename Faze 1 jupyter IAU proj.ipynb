{
 "cells": [
  {
   "cell_type": "markdown",
   "id": "a504c346-8a00-46e2-b7b7-b0fc938633ae",
   "metadata": {},
   "source": [
    "# Loading data"
   ]
  },
  {
   "cell_type": "code",
   "execution_count": 3,
   "id": "fc6e59f2",
   "metadata": {},
   "outputs": [],
   "source": [
    "import matplotlib.pyplot as plt\n",
    "import seaborn as sns\n",
    "import pandas as pd\n",
    "import numpy as np\n",
    "import scipy.stats as stats\n",
    "from scipy.stats import shapiro"
   ]
  },
  {
   "cell_type": "code",
   "execution_count": 4,
   "id": "216da6a2",
   "metadata": {},
   "outputs": [],
   "source": [
    "user = pd.read_csv(\"dataset_iau/user.csv\", sep='\\t')\n",
    "session = pd.read_csv(\"dataset_iau/session.csv\", sep='\\t')\n",
    "product = pd.read_csv(\"dataset_iau/product.csv\", sep='\\t')"
   ]
  },
  {
   "cell_type": "code",
   "execution_count": 5,
   "id": "fa738d47-5882-442b-9676-f682094d1300",
   "metadata": {},
   "outputs": [
    {
     "data": {
      "text/html": [
       "<div>\n",
       "<style scoped>\n",
       "    .dataframe tbody tr th:only-of-type {\n",
       "        vertical-align: middle;\n",
       "    }\n",
       "\n",
       "    .dataframe tbody tr th {\n",
       "        vertical-align: top;\n",
       "    }\n",
       "\n",
       "    .dataframe thead th {\n",
       "        text-align: right;\n",
       "    }\n",
       "</style>\n",
       "<table border=\"1\" class=\"dataframe\">\n",
       "  <thead>\n",
       "    <tr style=\"text-align: right;\">\n",
       "      <th></th>\n",
       "      <th>product_ean</th>\n",
       "      <th>code</th>\n",
       "      <th>store_name</th>\n",
       "      <th>location</th>\n",
       "    </tr>\n",
       "  </thead>\n",
       "  <tbody>\n",
       "    <tr>\n",
       "      <th>0</th>\n",
       "      <td>4309748882180</td>\n",
       "      <td>US</td>\n",
       "      <td>Tyler</td>\n",
       "      <td>America/Chicago</td>\n",
       "    </tr>\n",
       "    <tr>\n",
       "      <th>1</th>\n",
       "      <td>5851941655164</td>\n",
       "      <td>PK</td>\n",
       "      <td>Alipur</td>\n",
       "      <td>Asia/Karachi</td>\n",
       "    </tr>\n",
       "    <tr>\n",
       "      <th>2</th>\n",
       "      <td>5289124458231</td>\n",
       "      <td>MY</td>\n",
       "      <td>Kampung Ayer Molek</td>\n",
       "      <td>Asia/Kuala_Lumpur</td>\n",
       "    </tr>\n",
       "    <tr>\n",
       "      <th>3</th>\n",
       "      <td>6565130443652</td>\n",
       "      <td>US</td>\n",
       "      <td>Glendale</td>\n",
       "      <td>America/Los_Angeles</td>\n",
       "    </tr>\n",
       "    <tr>\n",
       "      <th>4</th>\n",
       "      <td>8081875346334</td>\n",
       "      <td>PH</td>\n",
       "      <td>Naga</td>\n",
       "      <td>Asia/Manila</td>\n",
       "    </tr>\n",
       "  </tbody>\n",
       "</table>\n",
       "</div>"
      ],
      "text/plain": [
       "     product_ean code          store_name             location\n",
       "0  4309748882180   US               Tyler      America/Chicago\n",
       "1  5851941655164   PK              Alipur         Asia/Karachi\n",
       "2  5289124458231   MY  Kampung Ayer Molek    Asia/Kuala_Lumpur\n",
       "3  6565130443652   US            Glendale  America/Los_Angeles\n",
       "4  8081875346334   PH                Naga          Asia/Manila"
      ]
     },
     "execution_count": 5,
     "metadata": {},
     "output_type": "execute_result"
    }
   ],
   "source": [
    "product.head()"
   ]
  },
  {
   "cell_type": "code",
   "execution_count": 6,
   "id": "27c30caf-fe45-4d58-9853-a565ea4def02",
   "metadata": {},
   "outputs": [
    {
     "data": {
      "text/html": [
       "<div>\n",
       "<style scoped>\n",
       "    .dataframe tbody tr th:only-of-type {\n",
       "        vertical-align: middle;\n",
       "    }\n",
       "\n",
       "    .dataframe tbody tr th {\n",
       "        vertical-align: top;\n",
       "    }\n",
       "\n",
       "    .dataframe thead th {\n",
       "        text-align: right;\n",
       "    }\n",
       "</style>\n",
       "<table border=\"1\" class=\"dataframe\">\n",
       "  <thead>\n",
       "    <tr style=\"text-align: right;\">\n",
       "      <th></th>\n",
       "      <th>residence</th>\n",
       "      <th>sex</th>\n",
       "      <th>username</th>\n",
       "      <th>user_id</th>\n",
       "      <th>address</th>\n",
       "      <th>birthdate</th>\n",
       "      <th>race</th>\n",
       "      <th>job</th>\n",
       "      <th>name</th>\n",
       "      <th>current_location</th>\n",
       "      <th>mail</th>\n",
       "    </tr>\n",
       "  </thead>\n",
       "  <tbody>\n",
       "    <tr>\n",
       "      <th>0</th>\n",
       "      <td>NaN</td>\n",
       "      <td>F</td>\n",
       "      <td>vigorellimatilda</td>\n",
       "      <td>295</td>\n",
       "      <td>Borgo Gelsomina, 3 Piano 9\\n12013, Chiusa Di P...</td>\n",
       "      <td>1917-03-25</td>\n",
       "      <td>NaN</td>\n",
       "      <td>NaN</td>\n",
       "      <td>Gemma Baracca</td>\n",
       "      <td>NaN</td>\n",
       "      <td>cesarecagnotto@tim.it</td>\n",
       "    </tr>\n",
       "    <tr>\n",
       "      <th>1</th>\n",
       "      <td>山口県立川市北上野40丁目24番4号 上野公園コーポ077</td>\n",
       "      <td>M</td>\n",
       "      <td>matsumotoasuka</td>\n",
       "      <td>298</td>\n",
       "      <td>三重県西東京市上広谷3丁目27番1号</td>\n",
       "      <td>NaN</td>\n",
       "      <td>NaN</td>\n",
       "      <td>演歌歌手</td>\n",
       "      <td>近藤 翼</td>\n",
       "      <td>(Decimal('44.4329015'), Decimal('-94.188145'))</td>\n",
       "      <td>nakajimaatsushi@yahoo.com</td>\n",
       "    </tr>\n",
       "    <tr>\n",
       "      <th>2</th>\n",
       "      <td>68187 Matthews Turnpike Suite 738\\nWhitebury, ...</td>\n",
       "      <td>F</td>\n",
       "      <td>debra19</td>\n",
       "      <td>591</td>\n",
       "      <td>63067 Jeffrey Village\\nEast Jeffrey, TX 08868</td>\n",
       "      <td>1985-05-21</td>\n",
       "      <td>white</td>\n",
       "      <td>Tourism officer</td>\n",
       "      <td>Belinda Harvey</td>\n",
       "      <td>(Decimal('17.674891'), Decimal('43.063751'))</td>\n",
       "      <td>kevindeleon@yahoo.com</td>\n",
       "    </tr>\n",
       "    <tr>\n",
       "      <th>3</th>\n",
       "      <td>Canale Majorana, 522\\n98168, Villaggio Annunzi...</td>\n",
       "      <td>NaN</td>\n",
       "      <td>udineseimelda</td>\n",
       "      <td>2538</td>\n",
       "      <td>NaN</td>\n",
       "      <td>2012-01-02</td>\n",
       "      <td>asian</td>\n",
       "      <td>NaN</td>\n",
       "      <td>Sig.ra Susanna Roero</td>\n",
       "      <td>(Decimal('-65.4578585'), Decimal('-162.734373'))</td>\n",
       "      <td>federicacaccioppoli@tele2.it</td>\n",
       "    </tr>\n",
       "    <tr>\n",
       "      <th>4</th>\n",
       "      <td>NaN</td>\n",
       "      <td>NaN</td>\n",
       "      <td>debra72</td>\n",
       "      <td>590</td>\n",
       "      <td>USCGC Kim\\nFPO AA 25581</td>\n",
       "      <td>NaN</td>\n",
       "      <td>white</td>\n",
       "      <td>NaN</td>\n",
       "      <td>Deborah Larson</td>\n",
       "      <td>(Decimal('-67.907028'), Decimal('-104.061594'))</td>\n",
       "      <td>stevendavis@yahoo.com</td>\n",
       "    </tr>\n",
       "  </tbody>\n",
       "</table>\n",
       "</div>"
      ],
      "text/plain": [
       "                                           residence  sex          username  \\\n",
       "0                                                NaN    F  vigorellimatilda   \n",
       "1                      山口県立川市北上野40丁目24番4号 上野公園コーポ077    M    matsumotoasuka   \n",
       "2  68187 Matthews Turnpike Suite 738\\nWhitebury, ...    F           debra19   \n",
       "3  Canale Majorana, 522\\n98168, Villaggio Annunzi...  NaN     udineseimelda   \n",
       "4                                                NaN  NaN           debra72   \n",
       "\n",
       "   user_id                                            address   birthdate  \\\n",
       "0      295  Borgo Gelsomina, 3 Piano 9\\n12013, Chiusa Di P...  1917-03-25   \n",
       "1      298                                 三重県西東京市上広谷3丁目27番1号         NaN   \n",
       "2      591      63067 Jeffrey Village\\nEast Jeffrey, TX 08868  1985-05-21   \n",
       "3     2538                                                NaN  2012-01-02   \n",
       "4      590                            USCGC Kim\\nFPO AA 25581         NaN   \n",
       "\n",
       "    race              job                  name  \\\n",
       "0    NaN              NaN         Gemma Baracca   \n",
       "1    NaN             演歌歌手                  近藤 翼   \n",
       "2  white  Tourism officer        Belinda Harvey   \n",
       "3  asian              NaN  Sig.ra Susanna Roero   \n",
       "4  white              NaN        Deborah Larson   \n",
       "\n",
       "                                   current_location  \\\n",
       "0                                               NaN   \n",
       "1    (Decimal('44.4329015'), Decimal('-94.188145'))   \n",
       "2      (Decimal('17.674891'), Decimal('43.063751'))   \n",
       "3  (Decimal('-65.4578585'), Decimal('-162.734373'))   \n",
       "4   (Decimal('-67.907028'), Decimal('-104.061594'))   \n",
       "\n",
       "                           mail  \n",
       "0         cesarecagnotto@tim.it  \n",
       "1     nakajimaatsushi@yahoo.com  \n",
       "2         kevindeleon@yahoo.com  \n",
       "3  federicacaccioppoli@tele2.it  \n",
       "4         stevendavis@yahoo.com  "
      ]
     },
     "execution_count": 6,
     "metadata": {},
     "output_type": "execute_result"
    }
   ],
   "source": [
    "user.head()"
   ]
  },
  {
   "cell_type": "code",
   "execution_count": 7,
   "id": "5fa25b9c-7f21-42f1-8d98-e41c33813c3e",
   "metadata": {},
   "outputs": [
    {
     "data": {
      "text/html": [
       "<div>\n",
       "<style scoped>\n",
       "    .dataframe tbody tr th:only-of-type {\n",
       "        vertical-align: middle;\n",
       "    }\n",
       "\n",
       "    .dataframe tbody tr th {\n",
       "        vertical-align: top;\n",
       "    }\n",
       "\n",
       "    .dataframe thead th {\n",
       "        text-align: right;\n",
       "    }\n",
       "</style>\n",
       "<table border=\"1\" class=\"dataframe\">\n",
       "  <thead>\n",
       "    <tr style=\"text-align: right;\">\n",
       "      <th></th>\n",
       "      <th>pct_mouse_click</th>\n",
       "      <th>total_load_time</th>\n",
       "      <th>mouse_move_total_rel_distance</th>\n",
       "      <th>session_start</th>\n",
       "      <th>session_id</th>\n",
       "      <th>ack</th>\n",
       "      <th>screen_width</th>\n",
       "      <th>pct_click</th>\n",
       "      <th>browser_name</th>\n",
       "      <th>pct_mouse_move</th>\n",
       "      <th>...</th>\n",
       "      <th>pct_rage_click</th>\n",
       "      <th>scroll_move_total_rel_distance</th>\n",
       "      <th>user_id</th>\n",
       "      <th>screen_height</th>\n",
       "      <th>pct_input</th>\n",
       "      <th>pct_doubleclick</th>\n",
       "      <th>product_ean</th>\n",
       "      <th>pct_scroll_move</th>\n",
       "      <th>pct_wild_mouse</th>\n",
       "      <th>wild_mouse_duration</th>\n",
       "    </tr>\n",
       "  </thead>\n",
       "  <tbody>\n",
       "    <tr>\n",
       "      <th>0</th>\n",
       "      <td>6.76035</td>\n",
       "      <td>15.00632</td>\n",
       "      <td>7.91611</td>\n",
       "      <td>2023-07-06 00:59:11</td>\n",
       "      <td>719775</td>\n",
       "      <td>0.0</td>\n",
       "      <td>lower</td>\n",
       "      <td>6.95057</td>\n",
       "      <td>opera</td>\n",
       "      <td>6.03169</td>\n",
       "      <td>...</td>\n",
       "      <td>27.21166</td>\n",
       "      <td>6.09851</td>\n",
       "      <td>868</td>\n",
       "      <td>1080</td>\n",
       "      <td>1.95647</td>\n",
       "      <td>6.97834</td>\n",
       "      <td>248099568029</td>\n",
       "      <td>44.03202</td>\n",
       "      <td>46.68163</td>\n",
       "      <td>10.74376</td>\n",
       "    </tr>\n",
       "    <tr>\n",
       "      <th>1</th>\n",
       "      <td>5.46624</td>\n",
       "      <td>1.04290</td>\n",
       "      <td>8.84385</td>\n",
       "      <td>2021-01-17 05:46:46</td>\n",
       "      <td>92085</td>\n",
       "      <td>0.0</td>\n",
       "      <td>800</td>\n",
       "      <td>NaN</td>\n",
       "      <td>edge</td>\n",
       "      <td>6.70707</td>\n",
       "      <td>...</td>\n",
       "      <td>57.45350</td>\n",
       "      <td>9.70491</td>\n",
       "      <td>748</td>\n",
       "      <td>1080</td>\n",
       "      <td>2.29294</td>\n",
       "      <td>9.61049</td>\n",
       "      <td>6638480475311</td>\n",
       "      <td>29.28054</td>\n",
       "      <td>65.50466</td>\n",
       "      <td>10.91609</td>\n",
       "    </tr>\n",
       "    <tr>\n",
       "      <th>2</th>\n",
       "      <td>6.75326</td>\n",
       "      <td>5.53722</td>\n",
       "      <td>8.14337</td>\n",
       "      <td>2019-02-13 15:46:33</td>\n",
       "      <td>1194424</td>\n",
       "      <td>0.0</td>\n",
       "      <td>lower</td>\n",
       "      <td>7.19415</td>\n",
       "      <td>edge</td>\n",
       "      <td>5.84443</td>\n",
       "      <td>...</td>\n",
       "      <td>47.46144</td>\n",
       "      <td>5.79315</td>\n",
       "      <td>1959</td>\n",
       "      <td>768</td>\n",
       "      <td>0.36497</td>\n",
       "      <td>5.14403</td>\n",
       "      <td>7111799508394</td>\n",
       "      <td>41.13195</td>\n",
       "      <td>66.42266</td>\n",
       "      <td>8.70608</td>\n",
       "    </tr>\n",
       "    <tr>\n",
       "      <th>3</th>\n",
       "      <td>9.09710</td>\n",
       "      <td>6.81720</td>\n",
       "      <td>6.52434</td>\n",
       "      <td>2019-06-15 19:33:59</td>\n",
       "      <td>335521</td>\n",
       "      <td>1.0</td>\n",
       "      <td>1280</td>\n",
       "      <td>9.56752</td>\n",
       "      <td>chrome</td>\n",
       "      <td>8.75647</td>\n",
       "      <td>...</td>\n",
       "      <td>45.16742</td>\n",
       "      <td>9.26782</td>\n",
       "      <td>1587</td>\n",
       "      <td>1080</td>\n",
       "      <td>0.15159</td>\n",
       "      <td>10.58422</td>\n",
       "      <td>2755517198198</td>\n",
       "      <td>53.76225</td>\n",
       "      <td>49.90523</td>\n",
       "      <td>7.34936</td>\n",
       "    </tr>\n",
       "    <tr>\n",
       "      <th>4</th>\n",
       "      <td>4.85419</td>\n",
       "      <td>3.92631</td>\n",
       "      <td>7.87990</td>\n",
       "      <td>2022-09-22 07:44:05</td>\n",
       "      <td>1144426</td>\n",
       "      <td>1.0</td>\n",
       "      <td>1366</td>\n",
       "      <td>7.21841</td>\n",
       "      <td>mobile</td>\n",
       "      <td>5.68521</td>\n",
       "      <td>...</td>\n",
       "      <td>51.15321</td>\n",
       "      <td>12.26355</td>\n",
       "      <td>2476</td>\n",
       "      <td>1024</td>\n",
       "      <td>0.10660</td>\n",
       "      <td>9.54298</td>\n",
       "      <td>4511971237235</td>\n",
       "      <td>56.00922</td>\n",
       "      <td>41.36312</td>\n",
       "      <td>6.19937</td>\n",
       "    </tr>\n",
       "  </tbody>\n",
       "</table>\n",
       "<p>5 rows × 25 columns</p>\n",
       "</div>"
      ],
      "text/plain": [
       "   pct_mouse_click  total_load_time  mouse_move_total_rel_distance  \\\n",
       "0          6.76035         15.00632                        7.91611   \n",
       "1          5.46624          1.04290                        8.84385   \n",
       "2          6.75326          5.53722                        8.14337   \n",
       "3          9.09710          6.81720                        6.52434   \n",
       "4          4.85419          3.92631                        7.87990   \n",
       "\n",
       "         session_start  session_id  ack screen_width  pct_click browser_name  \\\n",
       "0  2023-07-06 00:59:11      719775  0.0        lower    6.95057        opera   \n",
       "1  2021-01-17 05:46:46       92085  0.0          800        NaN         edge   \n",
       "2  2019-02-13 15:46:33     1194424  0.0        lower    7.19415         edge   \n",
       "3  2019-06-15 19:33:59      335521  1.0         1280    9.56752       chrome   \n",
       "4  2022-09-22 07:44:05     1144426  1.0         1366    7.21841       mobile   \n",
       "\n",
       "   pct_mouse_move  ...  pct_rage_click  scroll_move_total_rel_distance  \\\n",
       "0         6.03169  ...        27.21166                         6.09851   \n",
       "1         6.70707  ...        57.45350                         9.70491   \n",
       "2         5.84443  ...        47.46144                         5.79315   \n",
       "3         8.75647  ...        45.16742                         9.26782   \n",
       "4         5.68521  ...        51.15321                        12.26355   \n",
       "\n",
       "   user_id  screen_height  pct_input  pct_doubleclick    product_ean  \\\n",
       "0      868           1080    1.95647          6.97834   248099568029   \n",
       "1      748           1080    2.29294          9.61049  6638480475311   \n",
       "2     1959            768    0.36497          5.14403  7111799508394   \n",
       "3     1587           1080    0.15159         10.58422  2755517198198   \n",
       "4     2476           1024    0.10660          9.54298  4511971237235   \n",
       "\n",
       "   pct_scroll_move pct_wild_mouse  wild_mouse_duration  \n",
       "0         44.03202       46.68163             10.74376  \n",
       "1         29.28054       65.50466             10.91609  \n",
       "2         41.13195       66.42266              8.70608  \n",
       "3         53.76225       49.90523              7.34936  \n",
       "4         56.00922       41.36312              6.19937  \n",
       "\n",
       "[5 rows x 25 columns]"
      ]
     },
     "execution_count": 7,
     "metadata": {},
     "output_type": "execute_result"
    }
   ],
   "source": [
    "session.head()"
   ]
  },
  {
   "cell_type": "markdown",
   "id": "040baf41-3135-4c34-858f-8cafd38f5f4d",
   "metadata": {},
   "source": [
    "# Analysis of the data structures"
   ]
  },
  {
   "cell_type": "markdown",
   "id": "cc02f577",
   "metadata": {},
   "source": [
    "We are working with the dataset 70. It contains 3 files: product.csv, session.csv, user.csv (csv - comma-separated values)."
   ]
  },
  {
   "cell_type": "markdown",
   "id": "8df74260-5995-4ea5-a6fc-81cc6282cd26",
   "metadata": {},
   "source": [
    "### FILE product.csv"
   ]
  },
  {
   "cell_type": "markdown",
   "id": "47bc8231-b556-48a5-8f22-38c394749e0f",
   "metadata": {},
   "source": [
    "The file associates products with the stores that sell them and lists the locations of those stores. It is 613 KB long and contains 4 columns."
   ]
  },
  {
   "cell_type": "code",
   "execution_count": 8,
   "id": "73350e02-9660-4747-a87c-f6d196f2c82a",
   "metadata": {},
   "outputs": [
    {
     "name": "stdout",
     "output_type": "stream",
     "text": [
      "<class 'pandas.core.frame.DataFrame'>\n",
      "RangeIndex: 14958 entries, 0 to 14957\n",
      "Data columns (total 4 columns):\n",
      " #   Column       Non-Null Count  Dtype \n",
      "---  ------       --------------  ----- \n",
      " 0   product_ean  14958 non-null  int64 \n",
      " 1   code         14941 non-null  object\n",
      " 2   store_name   14958 non-null  object\n",
      " 3   location     14958 non-null  object\n",
      "dtypes: int64(1), object(3)\n",
      "memory usage: 467.6+ KB\n"
     ]
    }
   ],
   "source": [
    "product.info()"
   ]
  },
  {
   "cell_type": "markdown",
   "id": "031e4f92-8cff-4b08-b069-9169189188e9",
   "metadata": {},
   "source": [
    "### FILE user.csv"
   ]
  },
  {
   "cell_type": "markdown",
   "id": "f1856a68-3334-494b-9f53-b668688cb08e",
   "metadata": {},
   "source": [
    "The file provides details of the users observed, such as their permanent residence, gender, date of birth, occupation. It is 446 KB and contains 11 columns.)"
   ]
  },
  {
   "cell_type": "code",
   "execution_count": 9,
   "id": "f002499f-da3c-44b3-867c-d33837aff095",
   "metadata": {},
   "outputs": [
    {
     "name": "stdout",
     "output_type": "stream",
     "text": [
      "<class 'pandas.core.frame.DataFrame'>\n",
      "RangeIndex: 2542 entries, 0 to 2541\n",
      "Data columns (total 11 columns):\n",
      " #   Column            Non-Null Count  Dtype \n",
      "---  ------            --------------  ----- \n",
      " 0   residence         890 non-null    object\n",
      " 1   sex               1271 non-null   object\n",
      " 2   username          2542 non-null   object\n",
      " 3   user_id           2542 non-null   int64 \n",
      " 4   address           2161 non-null   object\n",
      " 5   birthdate         1398 non-null   object\n",
      " 6   race              763 non-null    object\n",
      " 7   job               1017 non-null   object\n",
      " 8   name              2542 non-null   object\n",
      " 9   current_location  2415 non-null   object\n",
      " 10  mail              2542 non-null   object\n",
      "dtypes: int64(1), object(10)\n",
      "memory usage: 218.6+ KB\n"
     ]
    }
   ],
   "source": [
    "user.info()"
   ]
  },
  {
   "cell_type": "markdown",
   "id": "275ccbe6-8b2a-41f2-843b-cf40ee01f28a",
   "metadata": {},
   "source": [
    "### FILE session.csv"
   ]
  },
  {
   "cell_type": "markdown",
   "id": "743eba00-cc3a-4590-a989-b5d5c9b02492",
   "metadata": {},
   "source": [
    "The file contains details of individual user sessions. It provides various details, in particular information on whether the session ended with a product purchase (ack), the identifier of the user who attended the session (user_id) and the identifier of the product (product_ean) that was involved. In addition, it also describes, for example, the length of the session, the screen size of the device or the speed of the user's mouse movement. It is 2.26 MB and contains 25 columns."
   ]
  },
  {
   "cell_type": "code",
   "execution_count": 10,
   "id": "1825b664-2c9a-42d3-86fa-fec91964041b",
   "metadata": {},
   "outputs": [
    {
     "name": "stdout",
     "output_type": "stream",
     "text": [
      "<class 'pandas.core.frame.DataFrame'>\n",
      "RangeIndex: 11089 entries, 0 to 11088\n",
      "Data columns (total 25 columns):\n",
      " #   Column                          Non-Null Count  Dtype  \n",
      "---  ------                          --------------  -----  \n",
      " 0   pct_mouse_click                 11078 non-null  float64\n",
      " 1   total_load_time                 11089 non-null  float64\n",
      " 2   mouse_move_total_rel_distance   11078 non-null  float64\n",
      " 3   session_start                   11089 non-null  object \n",
      " 4   session_id                      11089 non-null  int64  \n",
      " 5   ack                             11089 non-null  float64\n",
      " 6   screen_width                    11089 non-null  object \n",
      " 7   pct_click                       11078 non-null  float64\n",
      " 8   browser_name                    11089 non-null  object \n",
      " 9   pct_mouse_move                  11078 non-null  float64\n",
      " 10  pct_click_product_info          11078 non-null  float64\n",
      " 11  pct_scroll_move_duration        11078 non-null  float64\n",
      " 12  pct_scrandom                    11078 non-null  float64\n",
      " 13  session_duration                11089 non-null  float64\n",
      " 14  page_activity_duration          11078 non-null  float64\n",
      " 15  pct_rage_click                  11078 non-null  float64\n",
      " 16  scroll_move_total_rel_distance  11078 non-null  float64\n",
      " 17  user_id                         11089 non-null  int64  \n",
      " 18  screen_height                   11089 non-null  object \n",
      " 19  pct_input                       11078 non-null  float64\n",
      " 20  pct_doubleclick                 11078 non-null  float64\n",
      " 21  product_ean                     11089 non-null  int64  \n",
      " 22  pct_scroll_move                 11077 non-null  float64\n",
      " 23  pct_wild_mouse                  11078 non-null  float64\n",
      " 24  wild_mouse_duration             11078 non-null  float64\n",
      "dtypes: float64(18), int64(3), object(4)\n",
      "memory usage: 2.1+ MB\n"
     ]
    }
   ],
   "source": [
    "session.info()"
   ]
  },
  {
   "cell_type": "markdown",
   "id": "f239d73a",
   "metadata": {},
   "source": [
    "# IDENTIFING PROBLEMS IN DATA (WITH PARTIAL SOLUTION)"
   ]
  },
  {
   "cell_type": "markdown",
   "id": "89cb8617",
   "metadata": {},
   "source": [
    "## FIRST SEEN:"
   ]
  },
  {
   "cell_type": "markdown",
   "id": "d6d6931a",
   "metadata": {},
   "source": [
    "***In the provided date consisting of three datasets, we can find problems of the following types:***\n",
    "\n",
    "   **USER**\n",
    "    \n",
    "   1. From the output of the first rows of the **user table**, we can see that some rows are written in **hieroglyphs**. (we have 2 options for dealing with this problem: either write a function that can translate from hieroglyphs to Latin symbols, or if their number is NOT significant - **delete it**, if significant - one of the **options for dealing with NaN**)\n",
    "        \n",
    "        \n",
    "   2. **Unstructured data** in some fields, such as address or residence. In some of them there are postal codes, in random places. (Are these indexes necessary at all? How will they affect data analysis? I think that it will be possible to write an additional function that will **correct the unstructuredness**, **remove additional characters**, such as, for example: numbers, tabs, newline characters. Perhaps the address can be simplified to the simplier form (cities).) I think that this problem needs a more difficult solution, so we will solve it in the **second phase of the project**.\n",
    "   \n",
    "   \n",
    "    \n",
    "   3. In the field **job** using the unique method, you can see that the job attributes **is too long** what is unnecessary for analysis. I think that it will be possible **to write a function** that standardizes all works **to a more readable form**.\n",
    "    \n",
    "    \n",
    "   4. In the **current_location** field, you can see a type of data that is not convenient for analysis **(Decimal('44.4329015'), Decimal('-94.188145'))**. I think that this problem needs a more difficult solution, so we will solve it in the **second phase of the project**.\n",
    "    \n",
    "    \n",
    "   5. etc.\n",
    "    \n",
    "   **PRODUCT**\n",
    "   \n",
    "   1. The **location** field can be divided into a more convenient view, that is, **into 2 columns, country and city**.\n",
    "    \n",
    "   2. etc.\n",
    "    \n",
    "   **SESSION**\n",
    "   \n",
    "   1. In the dataset MAYBE there are a lot of **unnecessary fields** that will not be triggered in the analysis, that do not represent analytical value. For example, what exhibits can we make from information about the user's extension? (Let's just remove some, in our opinion, redundant information from the dataset)\n",
    "    \n",
    "   2. etc.\n",
    "   \n",
    "   **ETC.**\n",
    "   \n",
    "       Almost all datasets have outliers + duplicates + missing data. We will deal with this situationally in most cases. In particular, we will delete only rows with a too large percentage of missing data, because these rows do not represent analytical value for us.\n",
    "       \n",
    "   **ADDITIONAL NOTES**\n",
    "   \n",
    "        The goal is also to output one continuous dataset by connecting fields (product_ean, user_id). This will provide us with a faster and, accordingly, more practical access to data. Except for some exceptional cases where we will probably need to use split datasets."
   ]
  },
  {
   "cell_type": "markdown",
   "id": "886335e3",
   "metadata": {},
   "source": [
    "## USER CORRECTING"
   ]
  },
  {
   "cell_type": "markdown",
   "id": "a5bab30e",
   "metadata": {},
   "source": [
    "### USEFULLNESS OF FIELDS"
   ]
  },
  {
   "cell_type": "markdown",
   "id": "5be8f6b9",
   "metadata": {},
   "source": [
    "- Fields **race, username and mail** are **NOT analyticly valuable**. So that we can delete them.\n",
    "\n",
    "- **residence vs. address vs. current_location**?? Do we need all of them??\n",
    "\n",
    "     \n",
    "\n",
    "- We can check exactly which **coordinates** are presented in the field of **current_location**, accordingly in some variants we will get values that refer us to the middle of the ocean, which leads us to the **conclusion about the randomness** of some data. Accordingly, it is not yet known how exactly we should use this attribute.\n",
    "\n",
    "  **Example:** \n",
    "  \n",
    "           (Decimal('-67.907028'), Decimal('-104.061594')) - 67°54'25.3\"S 104°03'41.7\"W (Pacific Ocean)\n",
    "  \n",
    "           (Decimal('-85.641904'), Decimal('-53.404531')) - 85°38'30.9\"S 53°24'16.3\"W (Antarctic Ice shield)\n",
    "           \n",
    "           (Decimal('85.034897'), Decimal('164.620498')) - 85°02'05.6\"N 164°37'13.8\"E (Arctic Ocean)\n",
    "\n",
    "- Can use name for **predicting sex** (using it as ack)?? For example, if we shall get **from name** last char, and it appears to be 'a', and if sex=\"NaN\", then we change it to F. (just theory)\n"
   ]
  },
  {
   "cell_type": "code",
   "execution_count": 11,
   "id": "0c8e0922",
   "metadata": {},
   "outputs": [
    {
     "data": {
      "text/html": [
       "<div>\n",
       "<style scoped>\n",
       "    .dataframe tbody tr th:only-of-type {\n",
       "        vertical-align: middle;\n",
       "    }\n",
       "\n",
       "    .dataframe tbody tr th {\n",
       "        vertical-align: top;\n",
       "    }\n",
       "\n",
       "    .dataframe thead th {\n",
       "        text-align: right;\n",
       "    }\n",
       "</style>\n",
       "<table border=\"1\" class=\"dataframe\">\n",
       "  <thead>\n",
       "    <tr style=\"text-align: right;\">\n",
       "      <th></th>\n",
       "      <th>residence</th>\n",
       "      <th>sex</th>\n",
       "      <th>user_id</th>\n",
       "      <th>address</th>\n",
       "      <th>birthdate</th>\n",
       "      <th>current_location</th>\n",
       "    </tr>\n",
       "  </thead>\n",
       "  <tbody>\n",
       "    <tr>\n",
       "      <th>0</th>\n",
       "      <td>NaN</td>\n",
       "      <td>F</td>\n",
       "      <td>295</td>\n",
       "      <td>Borgo Gelsomina, 3 Piano 9\\n12013, Chiusa Di P...</td>\n",
       "      <td>1917-03-25</td>\n",
       "      <td>NaN</td>\n",
       "    </tr>\n",
       "    <tr>\n",
       "      <th>1</th>\n",
       "      <td>山口県立川市北上野40丁目24番4号 上野公園コーポ077</td>\n",
       "      <td>M</td>\n",
       "      <td>298</td>\n",
       "      <td>三重県西東京市上広谷3丁目27番1号</td>\n",
       "      <td>NaN</td>\n",
       "      <td>(Decimal('44.4329015'), Decimal('-94.188145'))</td>\n",
       "    </tr>\n",
       "    <tr>\n",
       "      <th>2</th>\n",
       "      <td>68187 Matthews Turnpike Suite 738\\nWhitebury, ...</td>\n",
       "      <td>F</td>\n",
       "      <td>591</td>\n",
       "      <td>63067 Jeffrey Village\\nEast Jeffrey, TX 08868</td>\n",
       "      <td>1985-05-21</td>\n",
       "      <td>(Decimal('17.674891'), Decimal('43.063751'))</td>\n",
       "    </tr>\n",
       "    <tr>\n",
       "      <th>3</th>\n",
       "      <td>Canale Majorana, 522\\n98168, Villaggio Annunzi...</td>\n",
       "      <td>NaN</td>\n",
       "      <td>2538</td>\n",
       "      <td>NaN</td>\n",
       "      <td>2012-01-02</td>\n",
       "      <td>(Decimal('-65.4578585'), Decimal('-162.734373'))</td>\n",
       "    </tr>\n",
       "    <tr>\n",
       "      <th>4</th>\n",
       "      <td>NaN</td>\n",
       "      <td>NaN</td>\n",
       "      <td>590</td>\n",
       "      <td>USCGC Kim\\nFPO AA 25581</td>\n",
       "      <td>NaN</td>\n",
       "      <td>(Decimal('-67.907028'), Decimal('-104.061594'))</td>\n",
       "    </tr>\n",
       "    <tr>\n",
       "      <th>...</th>\n",
       "      <td>...</td>\n",
       "      <td>...</td>\n",
       "      <td>...</td>\n",
       "      <td>...</td>\n",
       "      <td>...</td>\n",
       "      <td>...</td>\n",
       "    </tr>\n",
       "    <tr>\n",
       "      <th>2537</th>\n",
       "      <td>NaN</td>\n",
       "      <td>M</td>\n",
       "      <td>2423</td>\n",
       "      <td>Dobrošovská 506\\n487 16 Vysoké nad Jizerou</td>\n",
       "      <td>NaN</td>\n",
       "      <td>(Decimal('6.326596'), Decimal('50.261770'))</td>\n",
       "    </tr>\n",
       "    <tr>\n",
       "      <th>2538</th>\n",
       "      <td>NaN</td>\n",
       "      <td>F</td>\n",
       "      <td>1783</td>\n",
       "      <td>Bachmanngasse 96\\n15562 Pasewalk</td>\n",
       "      <td>NaN</td>\n",
       "      <td>(Decimal('-20.2418925'), Decimal('-42.286118'))</td>\n",
       "    </tr>\n",
       "    <tr>\n",
       "      <th>2539</th>\n",
       "      <td>Canale Maria, 73\\n20080, Bubbiano (MI)</td>\n",
       "      <td>F</td>\n",
       "      <td>2024</td>\n",
       "      <td>Canale Lorenzo, 4\\n21030, Cugliate (VA)</td>\n",
       "      <td>NaN</td>\n",
       "      <td>(Decimal('-85.641904'), Decimal('-53.404531'))</td>\n",
       "    </tr>\n",
       "    <tr>\n",
       "      <th>2540</th>\n",
       "      <td>NaN</td>\n",
       "      <td>M</td>\n",
       "      <td>936</td>\n",
       "      <td>Chácara João Lucas Rezende, 76\\nVila Da Paz\\n9...</td>\n",
       "      <td>1954-07-03</td>\n",
       "      <td>(Decimal('-51.687864'), Decimal('135.289800'))</td>\n",
       "    </tr>\n",
       "    <tr>\n",
       "      <th>2541</th>\n",
       "      <td>NaN</td>\n",
       "      <td>F</td>\n",
       "      <td>939</td>\n",
       "      <td>Na Zahrádkách 67\\n402 77 Trhové Sviny</td>\n",
       "      <td>NaN</td>\n",
       "      <td>(Decimal('85.034897'), Decimal('164.620498'))</td>\n",
       "    </tr>\n",
       "  </tbody>\n",
       "</table>\n",
       "<p>2542 rows × 6 columns</p>\n",
       "</div>"
      ],
      "text/plain": [
       "                                              residence  sex  user_id  \\\n",
       "0                                                   NaN    F      295   \n",
       "1                         山口県立川市北上野40丁目24番4号 上野公園コーポ077    M      298   \n",
       "2     68187 Matthews Turnpike Suite 738\\nWhitebury, ...    F      591   \n",
       "3     Canale Majorana, 522\\n98168, Villaggio Annunzi...  NaN     2538   \n",
       "4                                                   NaN  NaN      590   \n",
       "...                                                 ...  ...      ...   \n",
       "2537                                                NaN    M     2423   \n",
       "2538                                                NaN    F     1783   \n",
       "2539             Canale Maria, 73\\n20080, Bubbiano (MI)    F     2024   \n",
       "2540                                                NaN    M      936   \n",
       "2541                                                NaN    F      939   \n",
       "\n",
       "                                                address   birthdate  \\\n",
       "0     Borgo Gelsomina, 3 Piano 9\\n12013, Chiusa Di P...  1917-03-25   \n",
       "1                                    三重県西東京市上広谷3丁目27番1号         NaN   \n",
       "2         63067 Jeffrey Village\\nEast Jeffrey, TX 08868  1985-05-21   \n",
       "3                                                   NaN  2012-01-02   \n",
       "4                               USCGC Kim\\nFPO AA 25581         NaN   \n",
       "...                                                 ...         ...   \n",
       "2537         Dobrošovská 506\\n487 16 Vysoké nad Jizerou         NaN   \n",
       "2538                   Bachmanngasse 96\\n15562 Pasewalk         NaN   \n",
       "2539            Canale Lorenzo, 4\\n21030, Cugliate (VA)         NaN   \n",
       "2540  Chácara João Lucas Rezende, 76\\nVila Da Paz\\n9...  1954-07-03   \n",
       "2541              Na Zahrádkách 67\\n402 77 Trhové Sviny         NaN   \n",
       "\n",
       "                                      current_location  \n",
       "0                                                  NaN  \n",
       "1       (Decimal('44.4329015'), Decimal('-94.188145'))  \n",
       "2         (Decimal('17.674891'), Decimal('43.063751'))  \n",
       "3     (Decimal('-65.4578585'), Decimal('-162.734373'))  \n",
       "4      (Decimal('-67.907028'), Decimal('-104.061594'))  \n",
       "...                                                ...  \n",
       "2537       (Decimal('6.326596'), Decimal('50.261770'))  \n",
       "2538   (Decimal('-20.2418925'), Decimal('-42.286118'))  \n",
       "2539    (Decimal('-85.641904'), Decimal('-53.404531'))  \n",
       "2540    (Decimal('-51.687864'), Decimal('135.289800'))  \n",
       "2541     (Decimal('85.034897'), Decimal('164.620498'))  \n",
       "\n",
       "[2542 rows x 6 columns]"
      ]
     },
     "execution_count": 11,
     "metadata": {},
     "output_type": "execute_result"
    }
   ],
   "source": [
    "user = user.drop(columns=['race', 'username', 'mail', 'name', 'job'], axis=1)\n",
    "user"
   ]
  },
  {
   "cell_type": "code",
   "execution_count": 12,
   "id": "0f47ada2",
   "metadata": {},
   "outputs": [
    {
     "data": {
      "text/html": [
       "<div>\n",
       "<style scoped>\n",
       "    .dataframe tbody tr th:only-of-type {\n",
       "        vertical-align: middle;\n",
       "    }\n",
       "\n",
       "    .dataframe tbody tr th {\n",
       "        vertical-align: top;\n",
       "    }\n",
       "\n",
       "    .dataframe thead th {\n",
       "        text-align: right;\n",
       "    }\n",
       "</style>\n",
       "<table border=\"1\" class=\"dataframe\">\n",
       "  <thead>\n",
       "    <tr style=\"text-align: right;\">\n",
       "      <th></th>\n",
       "      <th>residence</th>\n",
       "      <th>sex</th>\n",
       "      <th>user_id</th>\n",
       "      <th>address</th>\n",
       "      <th>current_location</th>\n",
       "      <th>age</th>\n",
       "    </tr>\n",
       "  </thead>\n",
       "  <tbody>\n",
       "    <tr>\n",
       "      <th>0</th>\n",
       "      <td>NaN</td>\n",
       "      <td>F</td>\n",
       "      <td>295</td>\n",
       "      <td>Borgo Gelsomina, 3 Piano 9\\n12013, Chiusa Di P...</td>\n",
       "      <td>NaN</td>\n",
       "      <td>106.0</td>\n",
       "    </tr>\n",
       "    <tr>\n",
       "      <th>1</th>\n",
       "      <td>山口県立川市北上野40丁目24番4号 上野公園コーポ077</td>\n",
       "      <td>M</td>\n",
       "      <td>298</td>\n",
       "      <td>三重県西東京市上広谷3丁目27番1号</td>\n",
       "      <td>(Decimal('44.4329015'), Decimal('-94.188145'))</td>\n",
       "      <td>NaN</td>\n",
       "    </tr>\n",
       "    <tr>\n",
       "      <th>2</th>\n",
       "      <td>68187 Matthews Turnpike Suite 738\\nWhitebury, ...</td>\n",
       "      <td>F</td>\n",
       "      <td>591</td>\n",
       "      <td>63067 Jeffrey Village\\nEast Jeffrey, TX 08868</td>\n",
       "      <td>(Decimal('17.674891'), Decimal('43.063751'))</td>\n",
       "      <td>38.0</td>\n",
       "    </tr>\n",
       "    <tr>\n",
       "      <th>3</th>\n",
       "      <td>Canale Majorana, 522\\n98168, Villaggio Annunzi...</td>\n",
       "      <td>NaN</td>\n",
       "      <td>2538</td>\n",
       "      <td>NaN</td>\n",
       "      <td>(Decimal('-65.4578585'), Decimal('-162.734373'))</td>\n",
       "      <td>11.0</td>\n",
       "    </tr>\n",
       "    <tr>\n",
       "      <th>4</th>\n",
       "      <td>NaN</td>\n",
       "      <td>NaN</td>\n",
       "      <td>590</td>\n",
       "      <td>USCGC Kim\\nFPO AA 25581</td>\n",
       "      <td>(Decimal('-67.907028'), Decimal('-104.061594'))</td>\n",
       "      <td>NaN</td>\n",
       "    </tr>\n",
       "    <tr>\n",
       "      <th>...</th>\n",
       "      <td>...</td>\n",
       "      <td>...</td>\n",
       "      <td>...</td>\n",
       "      <td>...</td>\n",
       "      <td>...</td>\n",
       "      <td>...</td>\n",
       "    </tr>\n",
       "    <tr>\n",
       "      <th>2537</th>\n",
       "      <td>NaN</td>\n",
       "      <td>M</td>\n",
       "      <td>2423</td>\n",
       "      <td>Dobrošovská 506\\n487 16 Vysoké nad Jizerou</td>\n",
       "      <td>(Decimal('6.326596'), Decimal('50.261770'))</td>\n",
       "      <td>NaN</td>\n",
       "    </tr>\n",
       "    <tr>\n",
       "      <th>2538</th>\n",
       "      <td>NaN</td>\n",
       "      <td>F</td>\n",
       "      <td>1783</td>\n",
       "      <td>Bachmanngasse 96\\n15562 Pasewalk</td>\n",
       "      <td>(Decimal('-20.2418925'), Decimal('-42.286118'))</td>\n",
       "      <td>NaN</td>\n",
       "    </tr>\n",
       "    <tr>\n",
       "      <th>2539</th>\n",
       "      <td>Canale Maria, 73\\n20080, Bubbiano (MI)</td>\n",
       "      <td>F</td>\n",
       "      <td>2024</td>\n",
       "      <td>Canale Lorenzo, 4\\n21030, Cugliate (VA)</td>\n",
       "      <td>(Decimal('-85.641904'), Decimal('-53.404531'))</td>\n",
       "      <td>NaN</td>\n",
       "    </tr>\n",
       "    <tr>\n",
       "      <th>2540</th>\n",
       "      <td>NaN</td>\n",
       "      <td>M</td>\n",
       "      <td>936</td>\n",
       "      <td>Chácara João Lucas Rezende, 76\\nVila Da Paz\\n9...</td>\n",
       "      <td>(Decimal('-51.687864'), Decimal('135.289800'))</td>\n",
       "      <td>69.0</td>\n",
       "    </tr>\n",
       "    <tr>\n",
       "      <th>2541</th>\n",
       "      <td>NaN</td>\n",
       "      <td>F</td>\n",
       "      <td>939</td>\n",
       "      <td>Na Zahrádkách 67\\n402 77 Trhové Sviny</td>\n",
       "      <td>(Decimal('85.034897'), Decimal('164.620498'))</td>\n",
       "      <td>NaN</td>\n",
       "    </tr>\n",
       "  </tbody>\n",
       "</table>\n",
       "<p>2542 rows × 6 columns</p>\n",
       "</div>"
      ],
      "text/plain": [
       "                                              residence  sex  user_id  \\\n",
       "0                                                   NaN    F      295   \n",
       "1                         山口県立川市北上野40丁目24番4号 上野公園コーポ077    M      298   \n",
       "2     68187 Matthews Turnpike Suite 738\\nWhitebury, ...    F      591   \n",
       "3     Canale Majorana, 522\\n98168, Villaggio Annunzi...  NaN     2538   \n",
       "4                                                   NaN  NaN      590   \n",
       "...                                                 ...  ...      ...   \n",
       "2537                                                NaN    M     2423   \n",
       "2538                                                NaN    F     1783   \n",
       "2539             Canale Maria, 73\\n20080, Bubbiano (MI)    F     2024   \n",
       "2540                                                NaN    M      936   \n",
       "2541                                                NaN    F      939   \n",
       "\n",
       "                                                address  \\\n",
       "0     Borgo Gelsomina, 3 Piano 9\\n12013, Chiusa Di P...   \n",
       "1                                    三重県西東京市上広谷3丁目27番1号   \n",
       "2         63067 Jeffrey Village\\nEast Jeffrey, TX 08868   \n",
       "3                                                   NaN   \n",
       "4                               USCGC Kim\\nFPO AA 25581   \n",
       "...                                                 ...   \n",
       "2537         Dobrošovská 506\\n487 16 Vysoké nad Jizerou   \n",
       "2538                   Bachmanngasse 96\\n15562 Pasewalk   \n",
       "2539            Canale Lorenzo, 4\\n21030, Cugliate (VA)   \n",
       "2540  Chácara João Lucas Rezende, 76\\nVila Da Paz\\n9...   \n",
       "2541              Na Zahrádkách 67\\n402 77 Trhové Sviny   \n",
       "\n",
       "                                      current_location    age  \n",
       "0                                                  NaN  106.0  \n",
       "1       (Decimal('44.4329015'), Decimal('-94.188145'))    NaN  \n",
       "2         (Decimal('17.674891'), Decimal('43.063751'))   38.0  \n",
       "3     (Decimal('-65.4578585'), Decimal('-162.734373'))   11.0  \n",
       "4      (Decimal('-67.907028'), Decimal('-104.061594'))    NaN  \n",
       "...                                                ...    ...  \n",
       "2537       (Decimal('6.326596'), Decimal('50.261770'))    NaN  \n",
       "2538   (Decimal('-20.2418925'), Decimal('-42.286118'))    NaN  \n",
       "2539    (Decimal('-85.641904'), Decimal('-53.404531'))    NaN  \n",
       "2540    (Decimal('-51.687864'), Decimal('135.289800'))   69.0  \n",
       "2541     (Decimal('85.034897'), Decimal('164.620498'))    NaN  \n",
       "\n",
       "[2542 rows x 6 columns]"
      ]
     },
     "execution_count": 12,
     "metadata": {},
     "output_type": "execute_result"
    }
   ],
   "source": [
    "from datetime import datetime\n",
    "user['birthdate'] = pd.to_datetime(user['birthdate'])\n",
    "today = datetime(2023, 10, 29)\n",
    "user['age'] = today - user['birthdate']\n",
    "user['age'] = user['age'] // pd.Timedelta(days=365.25)\n",
    "user = user.drop('birthdate', axis=1)\n",
    "#user['age'].fillna(-1, inplace=True)\n",
    "#user['age'] = user['age'].astype(int)\n",
    "#user = user.replace(-1, np.nan)\n",
    "user"
   ]
  },
  {
   "cell_type": "code",
   "execution_count": 13,
   "id": "603a959f",
   "metadata": {},
   "outputs": [],
   "source": [
    "# from decimal import Decimal\n",
    "\n",
    "# def convert_to_dms(coordinate, is_latitude):\n",
    "#     try:\n",
    "#         decimal_coordinate = Decimal(coordinate)\n",
    "#         degrees = int(abs(decimal_coordinate))\n",
    "#         minutes = int((abs(decimal_coordinate) - degrees) * 60)\n",
    "#         seconds = (abs(decimal_coordinate) - degrees - minutes / 60) * 3600\n",
    "\n",
    "#         if is_latitude:\n",
    "#             direction = \"N\" if decimal_coordinate >= 0 else \"S\"\n",
    "#         else:\n",
    "#             direction = \"E\" if decimal_coordinate >= 0 else \"W\"\n",
    "\n",
    "#         formatted_value = f\"{degrees}°{minutes}'{seconds:.1f}\\\"{direction}\"\n",
    "#         return formatted_value\n",
    "#     except ValueError:\n",
    "#         return np.nan\n",
    "\n",
    "# user['current_location'] = user['current_location'].apply(lambda x: convert_decimal_to_dms(x, is_latitude=True))"
   ]
  },
  {
   "cell_type": "markdown",
   "id": "3960296e",
   "metadata": {},
   "source": [
    "### OUTLAYER PROBLEMS"
   ]
  },
  {
   "cell_type": "markdown",
   "id": "69bdf4c4",
   "metadata": {},
   "source": [
    "*Main outlayer problem in user dataset is **hieroglyphs' form of some attributes**. So that we can check its count form **.unique() method**. Let's write the method for **checking percentage** of hieroglyph symbols in each column.*"
   ]
  },
  {
   "cell_type": "code",
   "execution_count": 14,
   "id": "6e23fc03",
   "metadata": {},
   "outputs": [
    {
     "name": "stdout",
     "output_type": "stream",
     "text": [
      "Count of NOT hieroglyph: 737\n",
      "Count of all unique: 891\n",
      "Percent of hieroglyphs in residence: 17.28395061728395%\n",
      "Count of NOT hieroglyph: 1749\n",
      "Count of all unique: 2162\n",
      "Percent of hieroglyphs in address: 19.102682701202582%\n"
     ]
    }
   ],
   "source": [
    "import re\n",
    "\n",
    "def get_percent_of_hieroglyphs(col):\n",
    "    uniq = user[col].unique()\n",
    "    not_hieroh = []\n",
    "    pattern = r\"^[a-zA-Z0-9]+\"\n",
    "    for text in uniq:\n",
    "        if isinstance(text, str) and re.match(pattern, text):\n",
    "            not_hieroh.append(text)\n",
    "    print(f\"Count of NOT hieroglyph: {len(not_hieroh)}\")\n",
    "    print(f\"Count of all unique: {len(uniq)}\")\n",
    "    print(f\"Percent of hieroglyphs in {col}: {100 - (len(not_hieroh)/len(uniq) * 100)}%\")\n",
    "\n",
    "get_percent_of_hieroglyphs(\"residence\")\n",
    "get_percent_of_hieroglyphs(\"address\")"
   ]
  },
  {
   "cell_type": "markdown",
   "id": "04b374d4",
   "metadata": {},
   "source": [
    "*We have too much words in job attributes, that's why we should **simplifize some of jobs to one word**, if we could, for this we will write a **method:***"
   ]
  },
  {
   "cell_type": "markdown",
   "id": "13ee50c9",
   "metadata": {},
   "source": [
    "### DUPLICATES PROBLEMS"
   ]
  },
  {
   "cell_type": "code",
   "execution_count": 15,
   "id": "0e74e7ae",
   "metadata": {},
   "outputs": [
    {
     "data": {
      "text/plain": [
       "residence           1651\n",
       "sex                 2539\n",
       "user_id              936\n",
       "address              380\n",
       "current_location     126\n",
       "age                 2424\n",
       "dtype: int64"
      ]
     },
     "execution_count": 15,
     "metadata": {},
     "output_type": "execute_result"
    }
   ],
   "source": [
    "duplicates_count = user.apply(lambda x: x.duplicated().sum())\n",
    "duplicates_count"
   ]
  },
  {
   "cell_type": "code",
   "execution_count": 16,
   "id": "de5847f0",
   "metadata": {},
   "outputs": [
    {
     "data": {
      "text/html": [
       "<div>\n",
       "<style scoped>\n",
       "    .dataframe tbody tr th:only-of-type {\n",
       "        vertical-align: middle;\n",
       "    }\n",
       "\n",
       "    .dataframe tbody tr th {\n",
       "        vertical-align: top;\n",
       "    }\n",
       "\n",
       "    .dataframe thead th {\n",
       "        text-align: right;\n",
       "    }\n",
       "</style>\n",
       "<table border=\"1\" class=\"dataframe\">\n",
       "  <thead>\n",
       "    <tr style=\"text-align: right;\">\n",
       "      <th></th>\n",
       "      <th>residence</th>\n",
       "      <th>sex</th>\n",
       "      <th>user_id</th>\n",
       "      <th>address</th>\n",
       "      <th>current_location</th>\n",
       "      <th>age</th>\n",
       "    </tr>\n",
       "  </thead>\n",
       "  <tbody>\n",
       "    <tr>\n",
       "      <th>0</th>\n",
       "      <td>NaN</td>\n",
       "      <td>F</td>\n",
       "      <td>295</td>\n",
       "      <td>Borgo Gelsomina, 3 Piano 9\\n12013, Chiusa Di P...</td>\n",
       "      <td>NaN</td>\n",
       "      <td>106.0</td>\n",
       "    </tr>\n",
       "    <tr>\n",
       "      <th>1</th>\n",
       "      <td>山口県立川市北上野40丁目24番4号 上野公園コーポ077</td>\n",
       "      <td>M</td>\n",
       "      <td>298</td>\n",
       "      <td>三重県西東京市上広谷3丁目27番1号</td>\n",
       "      <td>(Decimal('44.4329015'), Decimal('-94.188145'))</td>\n",
       "      <td>NaN</td>\n",
       "    </tr>\n",
       "    <tr>\n",
       "      <th>2</th>\n",
       "      <td>68187 Matthews Turnpike Suite 738\\nWhitebury, ...</td>\n",
       "      <td>F</td>\n",
       "      <td>591</td>\n",
       "      <td>63067 Jeffrey Village\\nEast Jeffrey, TX 08868</td>\n",
       "      <td>(Decimal('17.674891'), Decimal('43.063751'))</td>\n",
       "      <td>38.0</td>\n",
       "    </tr>\n",
       "    <tr>\n",
       "      <th>3</th>\n",
       "      <td>Canale Majorana, 522\\n98168, Villaggio Annunzi...</td>\n",
       "      <td>NaN</td>\n",
       "      <td>2538</td>\n",
       "      <td>NaN</td>\n",
       "      <td>(Decimal('-65.4578585'), Decimal('-162.734373'))</td>\n",
       "      <td>11.0</td>\n",
       "    </tr>\n",
       "    <tr>\n",
       "      <th>4</th>\n",
       "      <td>NaN</td>\n",
       "      <td>NaN</td>\n",
       "      <td>590</td>\n",
       "      <td>USCGC Kim\\nFPO AA 25581</td>\n",
       "      <td>(Decimal('-67.907028'), Decimal('-104.061594'))</td>\n",
       "      <td>NaN</td>\n",
       "    </tr>\n",
       "    <tr>\n",
       "      <th>...</th>\n",
       "      <td>...</td>\n",
       "      <td>...</td>\n",
       "      <td>...</td>\n",
       "      <td>...</td>\n",
       "      <td>...</td>\n",
       "      <td>...</td>\n",
       "    </tr>\n",
       "    <tr>\n",
       "      <th>2537</th>\n",
       "      <td>NaN</td>\n",
       "      <td>M</td>\n",
       "      <td>2423</td>\n",
       "      <td>Dobrošovská 506\\n487 16 Vysoké nad Jizerou</td>\n",
       "      <td>(Decimal('6.326596'), Decimal('50.261770'))</td>\n",
       "      <td>NaN</td>\n",
       "    </tr>\n",
       "    <tr>\n",
       "      <th>2538</th>\n",
       "      <td>NaN</td>\n",
       "      <td>F</td>\n",
       "      <td>1783</td>\n",
       "      <td>Bachmanngasse 96\\n15562 Pasewalk</td>\n",
       "      <td>(Decimal('-20.2418925'), Decimal('-42.286118'))</td>\n",
       "      <td>NaN</td>\n",
       "    </tr>\n",
       "    <tr>\n",
       "      <th>2539</th>\n",
       "      <td>Canale Maria, 73\\n20080, Bubbiano (MI)</td>\n",
       "      <td>F</td>\n",
       "      <td>2024</td>\n",
       "      <td>Canale Lorenzo, 4\\n21030, Cugliate (VA)</td>\n",
       "      <td>(Decimal('-85.641904'), Decimal('-53.404531'))</td>\n",
       "      <td>NaN</td>\n",
       "    </tr>\n",
       "    <tr>\n",
       "      <th>2540</th>\n",
       "      <td>NaN</td>\n",
       "      <td>M</td>\n",
       "      <td>936</td>\n",
       "      <td>Chácara João Lucas Rezende, 76\\nVila Da Paz\\n9...</td>\n",
       "      <td>(Decimal('-51.687864'), Decimal('135.289800'))</td>\n",
       "      <td>69.0</td>\n",
       "    </tr>\n",
       "    <tr>\n",
       "      <th>2541</th>\n",
       "      <td>NaN</td>\n",
       "      <td>F</td>\n",
       "      <td>939</td>\n",
       "      <td>Na Zahrádkách 67\\n402 77 Trhové Sviny</td>\n",
       "      <td>(Decimal('85.034897'), Decimal('164.620498'))</td>\n",
       "      <td>NaN</td>\n",
       "    </tr>\n",
       "  </tbody>\n",
       "</table>\n",
       "<p>2542 rows × 6 columns</p>\n",
       "</div>"
      ],
      "text/plain": [
       "                                              residence  sex  user_id  \\\n",
       "0                                                   NaN    F      295   \n",
       "1                         山口県立川市北上野40丁目24番4号 上野公園コーポ077    M      298   \n",
       "2     68187 Matthews Turnpike Suite 738\\nWhitebury, ...    F      591   \n",
       "3     Canale Majorana, 522\\n98168, Villaggio Annunzi...  NaN     2538   \n",
       "4                                                   NaN  NaN      590   \n",
       "...                                                 ...  ...      ...   \n",
       "2537                                                NaN    M     2423   \n",
       "2538                                                NaN    F     1783   \n",
       "2539             Canale Maria, 73\\n20080, Bubbiano (MI)    F     2024   \n",
       "2540                                                NaN    M      936   \n",
       "2541                                                NaN    F      939   \n",
       "\n",
       "                                                address  \\\n",
       "0     Borgo Gelsomina, 3 Piano 9\\n12013, Chiusa Di P...   \n",
       "1                                    三重県西東京市上広谷3丁目27番1号   \n",
       "2         63067 Jeffrey Village\\nEast Jeffrey, TX 08868   \n",
       "3                                                   NaN   \n",
       "4                               USCGC Kim\\nFPO AA 25581   \n",
       "...                                                 ...   \n",
       "2537         Dobrošovská 506\\n487 16 Vysoké nad Jizerou   \n",
       "2538                   Bachmanngasse 96\\n15562 Pasewalk   \n",
       "2539            Canale Lorenzo, 4\\n21030, Cugliate (VA)   \n",
       "2540  Chácara João Lucas Rezende, 76\\nVila Da Paz\\n9...   \n",
       "2541              Na Zahrádkách 67\\n402 77 Trhové Sviny   \n",
       "\n",
       "                                      current_location    age  \n",
       "0                                                  NaN  106.0  \n",
       "1       (Decimal('44.4329015'), Decimal('-94.188145'))    NaN  \n",
       "2         (Decimal('17.674891'), Decimal('43.063751'))   38.0  \n",
       "3     (Decimal('-65.4578585'), Decimal('-162.734373'))   11.0  \n",
       "4      (Decimal('-67.907028'), Decimal('-104.061594'))    NaN  \n",
       "...                                                ...    ...  \n",
       "2537       (Decimal('6.326596'), Decimal('50.261770'))    NaN  \n",
       "2538   (Decimal('-20.2418925'), Decimal('-42.286118'))    NaN  \n",
       "2539    (Decimal('-85.641904'), Decimal('-53.404531'))    NaN  \n",
       "2540    (Decimal('-51.687864'), Decimal('135.289800'))   69.0  \n",
       "2541     (Decimal('85.034897'), Decimal('164.620498'))    NaN  \n",
       "\n",
       "[2542 rows x 6 columns]"
      ]
     },
     "execution_count": 16,
     "metadata": {},
     "output_type": "execute_result"
    }
   ],
   "source": [
    "user = user.drop_duplicates(keep='first')\n",
    "user"
   ]
  },
  {
   "cell_type": "code",
   "execution_count": 17,
   "id": "8e5173c7",
   "metadata": {},
   "outputs": [
    {
     "name": "stdout",
     "output_type": "stream",
     "text": [
      "Count of user duplicates: 936\n"
     ]
    }
   ],
   "source": [
    "count_of_user_dup = user['user_id'].duplicated().sum()\n",
    "print(f\"Count of user duplicates: {count_of_user_dup}\")"
   ]
  },
  {
   "cell_type": "code",
   "execution_count": 18,
   "id": "60fad26e",
   "metadata": {},
   "outputs": [
    {
     "data": {
      "text/html": [
       "<div>\n",
       "<style scoped>\n",
       "    .dataframe tbody tr th:only-of-type {\n",
       "        vertical-align: middle;\n",
       "    }\n",
       "\n",
       "    .dataframe tbody tr th {\n",
       "        vertical-align: top;\n",
       "    }\n",
       "\n",
       "    .dataframe thead th {\n",
       "        text-align: right;\n",
       "    }\n",
       "</style>\n",
       "<table border=\"1\" class=\"dataframe\">\n",
       "  <thead>\n",
       "    <tr style=\"text-align: right;\">\n",
       "      <th></th>\n",
       "      <th>user_id</th>\n",
       "      <th>count_of_duplicates</th>\n",
       "    </tr>\n",
       "  </thead>\n",
       "  <tbody>\n",
       "    <tr>\n",
       "      <th>0</th>\n",
       "      <td>368</td>\n",
       "      <td>6</td>\n",
       "    </tr>\n",
       "    <tr>\n",
       "      <th>1</th>\n",
       "      <td>961</td>\n",
       "      <td>6</td>\n",
       "    </tr>\n",
       "    <tr>\n",
       "      <th>2</th>\n",
       "      <td>1023</td>\n",
       "      <td>5</td>\n",
       "    </tr>\n",
       "    <tr>\n",
       "      <th>3</th>\n",
       "      <td>2057</td>\n",
       "      <td>5</td>\n",
       "    </tr>\n",
       "    <tr>\n",
       "      <th>4</th>\n",
       "      <td>1702</td>\n",
       "      <td>5</td>\n",
       "    </tr>\n",
       "    <tr>\n",
       "      <th>...</th>\n",
       "      <td>...</td>\n",
       "      <td>...</td>\n",
       "    </tr>\n",
       "    <tr>\n",
       "      <th>1601</th>\n",
       "      <td>175</td>\n",
       "      <td>1</td>\n",
       "    </tr>\n",
       "    <tr>\n",
       "      <th>1602</th>\n",
       "      <td>2129</td>\n",
       "      <td>1</td>\n",
       "    </tr>\n",
       "    <tr>\n",
       "      <th>1603</th>\n",
       "      <td>12</td>\n",
       "      <td>1</td>\n",
       "    </tr>\n",
       "    <tr>\n",
       "      <th>1604</th>\n",
       "      <td>1963</td>\n",
       "      <td>1</td>\n",
       "    </tr>\n",
       "    <tr>\n",
       "      <th>1605</th>\n",
       "      <td>2423</td>\n",
       "      <td>1</td>\n",
       "    </tr>\n",
       "  </tbody>\n",
       "</table>\n",
       "<p>1606 rows × 2 columns</p>\n",
       "</div>"
      ],
      "text/plain": [
       "      user_id  count_of_duplicates\n",
       "0         368                    6\n",
       "1         961                    6\n",
       "2        1023                    5\n",
       "3        2057                    5\n",
       "4        1702                    5\n",
       "...       ...                  ...\n",
       "1601      175                    1\n",
       "1602     2129                    1\n",
       "1603       12                    1\n",
       "1604     1963                    1\n",
       "1605     2423                    1\n",
       "\n",
       "[1606 rows x 2 columns]"
      ]
     },
     "execution_count": 18,
     "metadata": {},
     "output_type": "execute_result"
    }
   ],
   "source": [
    "# duplicates = user[user['user_id'].duplicated(keep=False)]\n",
    "# duplicates \n",
    "duplicates_count = user['user_id'].value_counts()\n",
    "duplicates_count_df = duplicates_count.reset_index()\n",
    "duplicates_count_df.columns = ['user_id', 'count_of_duplicates']\n",
    "duplicates_count_df\n"
   ]
  },
  {
   "cell_type": "markdown",
   "id": "23995a3d",
   "metadata": {},
   "source": [
    "*We have a problem with the fact that there may be duplicates in the user_id attribute denoting a unique user profile, which, accordingly, creates competition in claiming a profile for a session in the corresponding user_id attribute. This has the following consequences: our dataset will conflict in determining the correspondence between sessions and users. Accordingly, the conclusion is suggested that we should delete all duplicate user_idishniki. (this issue needs updates and will be resolved in the next phases)*"
   ]
  },
  {
   "cell_type": "code",
   "execution_count": null,
   "id": "50006224",
   "metadata": {},
   "outputs": [],
   "source": []
  },
  {
   "cell_type": "code",
   "execution_count": 19,
   "id": "15f8c7b4",
   "metadata": {},
   "outputs": [],
   "source": [
    "#user.info()"
   ]
  },
  {
   "cell_type": "markdown",
   "id": "322cca4e",
   "metadata": {},
   "source": [
    "### NAN PROBLEMS"
   ]
  },
  {
   "cell_type": "code",
   "execution_count": 20,
   "id": "5d04f65a",
   "metadata": {},
   "outputs": [
    {
     "data": {
      "text/plain": [
       "residence           1652\n",
       "sex                 1271\n",
       "user_id                0\n",
       "address              381\n",
       "current_location     127\n",
       "age                 1144\n",
       "dtype: int64"
      ]
     },
     "execution_count": 20,
     "metadata": {},
     "output_type": "execute_result"
    }
   ],
   "source": [
    "nan_user_counts = user.isna().sum()\n",
    "nan_user_counts"
   ]
  },
  {
   "cell_type": "markdown",
   "id": "5624c776",
   "metadata": {},
   "source": [
    "***With the help of the | user.dropna(thresh=3) | command, we can delete all rows that have more than 3 NaN values. This will quickly search for lines that are not needed for research.***"
   ]
  },
  {
   "cell_type": "code",
   "execution_count": 21,
   "id": "28513ed5",
   "metadata": {},
   "outputs": [
    {
     "data": {
      "text/html": [
       "<div>\n",
       "<style scoped>\n",
       "    .dataframe tbody tr th:only-of-type {\n",
       "        vertical-align: middle;\n",
       "    }\n",
       "\n",
       "    .dataframe tbody tr th {\n",
       "        vertical-align: top;\n",
       "    }\n",
       "\n",
       "    .dataframe thead th {\n",
       "        text-align: right;\n",
       "    }\n",
       "</style>\n",
       "<table border=\"1\" class=\"dataframe\">\n",
       "  <thead>\n",
       "    <tr style=\"text-align: right;\">\n",
       "      <th></th>\n",
       "      <th>residence</th>\n",
       "      <th>sex</th>\n",
       "      <th>user_id</th>\n",
       "      <th>address</th>\n",
       "      <th>current_location</th>\n",
       "      <th>age</th>\n",
       "    </tr>\n",
       "  </thead>\n",
       "  <tbody>\n",
       "    <tr>\n",
       "      <th>0</th>\n",
       "      <td>NaN</td>\n",
       "      <td>F</td>\n",
       "      <td>295</td>\n",
       "      <td>Borgo Gelsomina, 3 Piano 9\\n12013, Chiusa Di P...</td>\n",
       "      <td>NaN</td>\n",
       "      <td>106.0</td>\n",
       "    </tr>\n",
       "    <tr>\n",
       "      <th>1</th>\n",
       "      <td>山口県立川市北上野40丁目24番4号 上野公園コーポ077</td>\n",
       "      <td>M</td>\n",
       "      <td>298</td>\n",
       "      <td>三重県西東京市上広谷3丁目27番1号</td>\n",
       "      <td>(Decimal('44.4329015'), Decimal('-94.188145'))</td>\n",
       "      <td>NaN</td>\n",
       "    </tr>\n",
       "    <tr>\n",
       "      <th>2</th>\n",
       "      <td>68187 Matthews Turnpike Suite 738\\nWhitebury, ...</td>\n",
       "      <td>F</td>\n",
       "      <td>591</td>\n",
       "      <td>63067 Jeffrey Village\\nEast Jeffrey, TX 08868</td>\n",
       "      <td>(Decimal('17.674891'), Decimal('43.063751'))</td>\n",
       "      <td>38.0</td>\n",
       "    </tr>\n",
       "    <tr>\n",
       "      <th>3</th>\n",
       "      <td>Canale Majorana, 522\\n98168, Villaggio Annunzi...</td>\n",
       "      <td>NaN</td>\n",
       "      <td>2538</td>\n",
       "      <td>NaN</td>\n",
       "      <td>(Decimal('-65.4578585'), Decimal('-162.734373'))</td>\n",
       "      <td>11.0</td>\n",
       "    </tr>\n",
       "    <tr>\n",
       "      <th>4</th>\n",
       "      <td>NaN</td>\n",
       "      <td>NaN</td>\n",
       "      <td>590</td>\n",
       "      <td>USCGC Kim\\nFPO AA 25581</td>\n",
       "      <td>(Decimal('-67.907028'), Decimal('-104.061594'))</td>\n",
       "      <td>NaN</td>\n",
       "    </tr>\n",
       "    <tr>\n",
       "      <th>...</th>\n",
       "      <td>...</td>\n",
       "      <td>...</td>\n",
       "      <td>...</td>\n",
       "      <td>...</td>\n",
       "      <td>...</td>\n",
       "      <td>...</td>\n",
       "    </tr>\n",
       "    <tr>\n",
       "      <th>2537</th>\n",
       "      <td>NaN</td>\n",
       "      <td>M</td>\n",
       "      <td>2423</td>\n",
       "      <td>Dobrošovská 506\\n487 16 Vysoké nad Jizerou</td>\n",
       "      <td>(Decimal('6.326596'), Decimal('50.261770'))</td>\n",
       "      <td>NaN</td>\n",
       "    </tr>\n",
       "    <tr>\n",
       "      <th>2538</th>\n",
       "      <td>NaN</td>\n",
       "      <td>F</td>\n",
       "      <td>1783</td>\n",
       "      <td>Bachmanngasse 96\\n15562 Pasewalk</td>\n",
       "      <td>(Decimal('-20.2418925'), Decimal('-42.286118'))</td>\n",
       "      <td>NaN</td>\n",
       "    </tr>\n",
       "    <tr>\n",
       "      <th>2539</th>\n",
       "      <td>Canale Maria, 73\\n20080, Bubbiano (MI)</td>\n",
       "      <td>F</td>\n",
       "      <td>2024</td>\n",
       "      <td>Canale Lorenzo, 4\\n21030, Cugliate (VA)</td>\n",
       "      <td>(Decimal('-85.641904'), Decimal('-53.404531'))</td>\n",
       "      <td>NaN</td>\n",
       "    </tr>\n",
       "    <tr>\n",
       "      <th>2540</th>\n",
       "      <td>NaN</td>\n",
       "      <td>M</td>\n",
       "      <td>936</td>\n",
       "      <td>Chácara João Lucas Rezende, 76\\nVila Da Paz\\n9...</td>\n",
       "      <td>(Decimal('-51.687864'), Decimal('135.289800'))</td>\n",
       "      <td>69.0</td>\n",
       "    </tr>\n",
       "    <tr>\n",
       "      <th>2541</th>\n",
       "      <td>NaN</td>\n",
       "      <td>F</td>\n",
       "      <td>939</td>\n",
       "      <td>Na Zahrádkách 67\\n402 77 Trhové Sviny</td>\n",
       "      <td>(Decimal('85.034897'), Decimal('164.620498'))</td>\n",
       "      <td>NaN</td>\n",
       "    </tr>\n",
       "  </tbody>\n",
       "</table>\n",
       "<p>2467 rows × 6 columns</p>\n",
       "</div>"
      ],
      "text/plain": [
       "                                              residence  sex  user_id  \\\n",
       "0                                                   NaN    F      295   \n",
       "1                         山口県立川市北上野40丁目24番4号 上野公園コーポ077    M      298   \n",
       "2     68187 Matthews Turnpike Suite 738\\nWhitebury, ...    F      591   \n",
       "3     Canale Majorana, 522\\n98168, Villaggio Annunzi...  NaN     2538   \n",
       "4                                                   NaN  NaN      590   \n",
       "...                                                 ...  ...      ...   \n",
       "2537                                                NaN    M     2423   \n",
       "2538                                                NaN    F     1783   \n",
       "2539             Canale Maria, 73\\n20080, Bubbiano (MI)    F     2024   \n",
       "2540                                                NaN    M      936   \n",
       "2541                                                NaN    F      939   \n",
       "\n",
       "                                                address  \\\n",
       "0     Borgo Gelsomina, 3 Piano 9\\n12013, Chiusa Di P...   \n",
       "1                                    三重県西東京市上広谷3丁目27番1号   \n",
       "2         63067 Jeffrey Village\\nEast Jeffrey, TX 08868   \n",
       "3                                                   NaN   \n",
       "4                               USCGC Kim\\nFPO AA 25581   \n",
       "...                                                 ...   \n",
       "2537         Dobrošovská 506\\n487 16 Vysoké nad Jizerou   \n",
       "2538                   Bachmanngasse 96\\n15562 Pasewalk   \n",
       "2539            Canale Lorenzo, 4\\n21030, Cugliate (VA)   \n",
       "2540  Chácara João Lucas Rezende, 76\\nVila Da Paz\\n9...   \n",
       "2541              Na Zahrádkách 67\\n402 77 Trhové Sviny   \n",
       "\n",
       "                                      current_location    age  \n",
       "0                                                  NaN  106.0  \n",
       "1       (Decimal('44.4329015'), Decimal('-94.188145'))    NaN  \n",
       "2         (Decimal('17.674891'), Decimal('43.063751'))   38.0  \n",
       "3     (Decimal('-65.4578585'), Decimal('-162.734373'))   11.0  \n",
       "4      (Decimal('-67.907028'), Decimal('-104.061594'))    NaN  \n",
       "...                                                ...    ...  \n",
       "2537       (Decimal('6.326596'), Decimal('50.261770'))    NaN  \n",
       "2538   (Decimal('-20.2418925'), Decimal('-42.286118'))    NaN  \n",
       "2539    (Decimal('-85.641904'), Decimal('-53.404531'))    NaN  \n",
       "2540    (Decimal('-51.687864'), Decimal('135.289800'))   69.0  \n",
       "2541     (Decimal('85.034897'), Decimal('164.620498'))    NaN  \n",
       "\n",
       "[2467 rows x 6 columns]"
      ]
     },
     "execution_count": 21,
     "metadata": {},
     "output_type": "execute_result"
    }
   ],
   "source": [
    "user = user.dropna(thresh=3)\n",
    "user"
   ]
  },
  {
   "cell_type": "markdown",
   "id": "09ddce5a",
   "metadata": {},
   "source": [
    "## SESSION ANALYZING"
   ]
  },
  {
   "cell_type": "markdown",
   "id": "b2705349",
   "metadata": {},
   "source": []
  },
  {
   "cell_type": "code",
   "execution_count": 22,
   "id": "6bd09798",
   "metadata": {},
   "outputs": [
    {
     "data": {
      "text/html": [
       "<div>\n",
       "<style scoped>\n",
       "    .dataframe tbody tr th:only-of-type {\n",
       "        vertical-align: middle;\n",
       "    }\n",
       "\n",
       "    .dataframe tbody tr th {\n",
       "        vertical-align: top;\n",
       "    }\n",
       "\n",
       "    .dataframe thead th {\n",
       "        text-align: right;\n",
       "    }\n",
       "</style>\n",
       "<table border=\"1\" class=\"dataframe\">\n",
       "  <thead>\n",
       "    <tr style=\"text-align: right;\">\n",
       "      <th></th>\n",
       "      <th>pct_mouse_click</th>\n",
       "      <th>total_load_time</th>\n",
       "      <th>mouse_move_total_rel_distance</th>\n",
       "      <th>session_start</th>\n",
       "      <th>session_id</th>\n",
       "      <th>ack</th>\n",
       "      <th>screen_width</th>\n",
       "      <th>pct_click</th>\n",
       "      <th>browser_name</th>\n",
       "      <th>pct_mouse_move</th>\n",
       "      <th>...</th>\n",
       "      <th>pct_rage_click</th>\n",
       "      <th>scroll_move_total_rel_distance</th>\n",
       "      <th>user_id</th>\n",
       "      <th>screen_height</th>\n",
       "      <th>pct_input</th>\n",
       "      <th>pct_doubleclick</th>\n",
       "      <th>product_ean</th>\n",
       "      <th>pct_scroll_move</th>\n",
       "      <th>pct_wild_mouse</th>\n",
       "      <th>wild_mouse_duration</th>\n",
       "    </tr>\n",
       "  </thead>\n",
       "  <tbody>\n",
       "    <tr>\n",
       "      <th>0</th>\n",
       "      <td>6.76035</td>\n",
       "      <td>15.00632</td>\n",
       "      <td>7.91611</td>\n",
       "      <td>2023-07-06 00:59:11</td>\n",
       "      <td>719775</td>\n",
       "      <td>0.0</td>\n",
       "      <td>lower</td>\n",
       "      <td>6.95057</td>\n",
       "      <td>opera</td>\n",
       "      <td>6.03169</td>\n",
       "      <td>...</td>\n",
       "      <td>27.21166</td>\n",
       "      <td>6.09851</td>\n",
       "      <td>868</td>\n",
       "      <td>1080</td>\n",
       "      <td>1.95647</td>\n",
       "      <td>6.97834</td>\n",
       "      <td>248099568029</td>\n",
       "      <td>44.03202</td>\n",
       "      <td>46.68163</td>\n",
       "      <td>10.74376</td>\n",
       "    </tr>\n",
       "    <tr>\n",
       "      <th>1</th>\n",
       "      <td>5.46624</td>\n",
       "      <td>1.04290</td>\n",
       "      <td>8.84385</td>\n",
       "      <td>2021-01-17 05:46:46</td>\n",
       "      <td>92085</td>\n",
       "      <td>0.0</td>\n",
       "      <td>800</td>\n",
       "      <td>NaN</td>\n",
       "      <td>edge</td>\n",
       "      <td>6.70707</td>\n",
       "      <td>...</td>\n",
       "      <td>57.45350</td>\n",
       "      <td>9.70491</td>\n",
       "      <td>748</td>\n",
       "      <td>1080</td>\n",
       "      <td>2.29294</td>\n",
       "      <td>9.61049</td>\n",
       "      <td>6638480475311</td>\n",
       "      <td>29.28054</td>\n",
       "      <td>65.50466</td>\n",
       "      <td>10.91609</td>\n",
       "    </tr>\n",
       "    <tr>\n",
       "      <th>2</th>\n",
       "      <td>6.75326</td>\n",
       "      <td>5.53722</td>\n",
       "      <td>8.14337</td>\n",
       "      <td>2019-02-13 15:46:33</td>\n",
       "      <td>1194424</td>\n",
       "      <td>0.0</td>\n",
       "      <td>lower</td>\n",
       "      <td>7.19415</td>\n",
       "      <td>edge</td>\n",
       "      <td>5.84443</td>\n",
       "      <td>...</td>\n",
       "      <td>47.46144</td>\n",
       "      <td>5.79315</td>\n",
       "      <td>1959</td>\n",
       "      <td>768</td>\n",
       "      <td>0.36497</td>\n",
       "      <td>5.14403</td>\n",
       "      <td>7111799508394</td>\n",
       "      <td>41.13195</td>\n",
       "      <td>66.42266</td>\n",
       "      <td>8.70608</td>\n",
       "    </tr>\n",
       "    <tr>\n",
       "      <th>3</th>\n",
       "      <td>9.09710</td>\n",
       "      <td>6.81720</td>\n",
       "      <td>6.52434</td>\n",
       "      <td>2019-06-15 19:33:59</td>\n",
       "      <td>335521</td>\n",
       "      <td>1.0</td>\n",
       "      <td>1280</td>\n",
       "      <td>9.56752</td>\n",
       "      <td>chrome</td>\n",
       "      <td>8.75647</td>\n",
       "      <td>...</td>\n",
       "      <td>45.16742</td>\n",
       "      <td>9.26782</td>\n",
       "      <td>1587</td>\n",
       "      <td>1080</td>\n",
       "      <td>0.15159</td>\n",
       "      <td>10.58422</td>\n",
       "      <td>2755517198198</td>\n",
       "      <td>53.76225</td>\n",
       "      <td>49.90523</td>\n",
       "      <td>7.34936</td>\n",
       "    </tr>\n",
       "    <tr>\n",
       "      <th>4</th>\n",
       "      <td>4.85419</td>\n",
       "      <td>3.92631</td>\n",
       "      <td>7.87990</td>\n",
       "      <td>2022-09-22 07:44:05</td>\n",
       "      <td>1144426</td>\n",
       "      <td>1.0</td>\n",
       "      <td>1366</td>\n",
       "      <td>7.21841</td>\n",
       "      <td>mobile</td>\n",
       "      <td>5.68521</td>\n",
       "      <td>...</td>\n",
       "      <td>51.15321</td>\n",
       "      <td>12.26355</td>\n",
       "      <td>2476</td>\n",
       "      <td>1024</td>\n",
       "      <td>0.10660</td>\n",
       "      <td>9.54298</td>\n",
       "      <td>4511971237235</td>\n",
       "      <td>56.00922</td>\n",
       "      <td>41.36312</td>\n",
       "      <td>6.19937</td>\n",
       "    </tr>\n",
       "    <tr>\n",
       "      <th>...</th>\n",
       "      <td>...</td>\n",
       "      <td>...</td>\n",
       "      <td>...</td>\n",
       "      <td>...</td>\n",
       "      <td>...</td>\n",
       "      <td>...</td>\n",
       "      <td>...</td>\n",
       "      <td>...</td>\n",
       "      <td>...</td>\n",
       "      <td>...</td>\n",
       "      <td>...</td>\n",
       "      <td>...</td>\n",
       "      <td>...</td>\n",
       "      <td>...</td>\n",
       "      <td>...</td>\n",
       "      <td>...</td>\n",
       "      <td>...</td>\n",
       "      <td>...</td>\n",
       "      <td>...</td>\n",
       "      <td>...</td>\n",
       "      <td>...</td>\n",
       "    </tr>\n",
       "    <tr>\n",
       "      <th>11084</th>\n",
       "      <td>9.85009</td>\n",
       "      <td>2.90130</td>\n",
       "      <td>5.35139</td>\n",
       "      <td>2022-05-28 00:56:48</td>\n",
       "      <td>1424279</td>\n",
       "      <td>0.0</td>\n",
       "      <td>1920</td>\n",
       "      <td>5.59338</td>\n",
       "      <td>firefox</td>\n",
       "      <td>9.67918</td>\n",
       "      <td>...</td>\n",
       "      <td>47.14750</td>\n",
       "      <td>NaN</td>\n",
       "      <td>463</td>\n",
       "      <td>lower</td>\n",
       "      <td>1.62560</td>\n",
       "      <td>5.15106</td>\n",
       "      <td>5854850554306</td>\n",
       "      <td>60.29421</td>\n",
       "      <td>50.56457</td>\n",
       "      <td>10.57640</td>\n",
       "    </tr>\n",
       "    <tr>\n",
       "      <th>11085</th>\n",
       "      <td>8.06033</td>\n",
       "      <td>8.88865</td>\n",
       "      <td>7.53117</td>\n",
       "      <td>2022-04-08 01:42:18</td>\n",
       "      <td>263847</td>\n",
       "      <td>0.0</td>\n",
       "      <td>1280</td>\n",
       "      <td>5.16977</td>\n",
       "      <td>mobile</td>\n",
       "      <td>8.28987</td>\n",
       "      <td>...</td>\n",
       "      <td>39.86244</td>\n",
       "      <td>5.79656</td>\n",
       "      <td>445</td>\n",
       "      <td>768</td>\n",
       "      <td>1.04892</td>\n",
       "      <td>7.14042</td>\n",
       "      <td>2516168790601</td>\n",
       "      <td>56.63606</td>\n",
       "      <td>49.23994</td>\n",
       "      <td>10.07923</td>\n",
       "    </tr>\n",
       "    <tr>\n",
       "      <th>11086</th>\n",
       "      <td>12.62420</td>\n",
       "      <td>6.86250</td>\n",
       "      <td>8.03572</td>\n",
       "      <td>2019-06-18 14:13:21</td>\n",
       "      <td>644898</td>\n",
       "      <td>1.0</td>\n",
       "      <td>1024</td>\n",
       "      <td>11.54376</td>\n",
       "      <td>mobile</td>\n",
       "      <td>11.46814</td>\n",
       "      <td>...</td>\n",
       "      <td>35.09946</td>\n",
       "      <td>7.35456</td>\n",
       "      <td>1688</td>\n",
       "      <td>768</td>\n",
       "      <td>0.10712</td>\n",
       "      <td>9.25177</td>\n",
       "      <td>144629156509</td>\n",
       "      <td>55.18118</td>\n",
       "      <td>63.97125</td>\n",
       "      <td>3.45022</td>\n",
       "    </tr>\n",
       "    <tr>\n",
       "      <th>11087</th>\n",
       "      <td>6.78625</td>\n",
       "      <td>3.70992</td>\n",
       "      <td>8.78765</td>\n",
       "      <td>2020-03-23 08:11:59</td>\n",
       "      <td>720161</td>\n",
       "      <td>1.0</td>\n",
       "      <td>1920</td>\n",
       "      <td>4.38175</td>\n",
       "      <td>chrome</td>\n",
       "      <td>9.94778</td>\n",
       "      <td>...</td>\n",
       "      <td>57.69495</td>\n",
       "      <td>8.65941</td>\n",
       "      <td>755</td>\n",
       "      <td>800</td>\n",
       "      <td>0.29624</td>\n",
       "      <td>4.01411</td>\n",
       "      <td>344747904604</td>\n",
       "      <td>49.92276</td>\n",
       "      <td>60.56904</td>\n",
       "      <td>8.45471</td>\n",
       "    </tr>\n",
       "    <tr>\n",
       "      <th>11088</th>\n",
       "      <td>7.07958</td>\n",
       "      <td>6.72045</td>\n",
       "      <td>9.36633</td>\n",
       "      <td>2018-11-17 08:16:49</td>\n",
       "      <td>1071587</td>\n",
       "      <td>1.0</td>\n",
       "      <td>1366</td>\n",
       "      <td>9.24425</td>\n",
       "      <td>chrome</td>\n",
       "      <td>9.20802</td>\n",
       "      <td>...</td>\n",
       "      <td>31.02474</td>\n",
       "      <td>10.02871</td>\n",
       "      <td>1225</td>\n",
       "      <td>800</td>\n",
       "      <td>6.36579</td>\n",
       "      <td>6.67738</td>\n",
       "      <td>3867238836545</td>\n",
       "      <td>55.22194</td>\n",
       "      <td>57.79482</td>\n",
       "      <td>11.95888</td>\n",
       "    </tr>\n",
       "  </tbody>\n",
       "</table>\n",
       "<p>11089 rows × 25 columns</p>\n",
       "</div>"
      ],
      "text/plain": [
       "       pct_mouse_click  total_load_time  mouse_move_total_rel_distance  \\\n",
       "0              6.76035         15.00632                        7.91611   \n",
       "1              5.46624          1.04290                        8.84385   \n",
       "2              6.75326          5.53722                        8.14337   \n",
       "3              9.09710          6.81720                        6.52434   \n",
       "4              4.85419          3.92631                        7.87990   \n",
       "...                ...              ...                            ...   \n",
       "11084          9.85009          2.90130                        5.35139   \n",
       "11085          8.06033          8.88865                        7.53117   \n",
       "11086         12.62420          6.86250                        8.03572   \n",
       "11087          6.78625          3.70992                        8.78765   \n",
       "11088          7.07958          6.72045                        9.36633   \n",
       "\n",
       "             session_start  session_id  ack screen_width  pct_click  \\\n",
       "0      2023-07-06 00:59:11      719775  0.0        lower    6.95057   \n",
       "1      2021-01-17 05:46:46       92085  0.0          800        NaN   \n",
       "2      2019-02-13 15:46:33     1194424  0.0        lower    7.19415   \n",
       "3      2019-06-15 19:33:59      335521  1.0         1280    9.56752   \n",
       "4      2022-09-22 07:44:05     1144426  1.0         1366    7.21841   \n",
       "...                    ...         ...  ...          ...        ...   \n",
       "11084  2022-05-28 00:56:48     1424279  0.0         1920    5.59338   \n",
       "11085  2022-04-08 01:42:18      263847  0.0         1280    5.16977   \n",
       "11086  2019-06-18 14:13:21      644898  1.0         1024   11.54376   \n",
       "11087  2020-03-23 08:11:59      720161  1.0         1920    4.38175   \n",
       "11088  2018-11-17 08:16:49     1071587  1.0         1366    9.24425   \n",
       "\n",
       "      browser_name  pct_mouse_move  ...  pct_rage_click  \\\n",
       "0            opera         6.03169  ...        27.21166   \n",
       "1             edge         6.70707  ...        57.45350   \n",
       "2             edge         5.84443  ...        47.46144   \n",
       "3           chrome         8.75647  ...        45.16742   \n",
       "4           mobile         5.68521  ...        51.15321   \n",
       "...            ...             ...  ...             ...   \n",
       "11084      firefox         9.67918  ...        47.14750   \n",
       "11085       mobile         8.28987  ...        39.86244   \n",
       "11086       mobile        11.46814  ...        35.09946   \n",
       "11087       chrome         9.94778  ...        57.69495   \n",
       "11088       chrome         9.20802  ...        31.02474   \n",
       "\n",
       "       scroll_move_total_rel_distance  user_id  screen_height  pct_input  \\\n",
       "0                             6.09851      868           1080    1.95647   \n",
       "1                             9.70491      748           1080    2.29294   \n",
       "2                             5.79315     1959            768    0.36497   \n",
       "3                             9.26782     1587           1080    0.15159   \n",
       "4                            12.26355     2476           1024    0.10660   \n",
       "...                               ...      ...            ...        ...   \n",
       "11084                             NaN      463          lower    1.62560   \n",
       "11085                         5.79656      445            768    1.04892   \n",
       "11086                         7.35456     1688            768    0.10712   \n",
       "11087                         8.65941      755            800    0.29624   \n",
       "11088                        10.02871     1225            800    6.36579   \n",
       "\n",
       "       pct_doubleclick    product_ean  pct_scroll_move pct_wild_mouse  \\\n",
       "0              6.97834   248099568029         44.03202       46.68163   \n",
       "1              9.61049  6638480475311         29.28054       65.50466   \n",
       "2              5.14403  7111799508394         41.13195       66.42266   \n",
       "3             10.58422  2755517198198         53.76225       49.90523   \n",
       "4              9.54298  4511971237235         56.00922       41.36312   \n",
       "...                ...            ...              ...            ...   \n",
       "11084          5.15106  5854850554306         60.29421       50.56457   \n",
       "11085          7.14042  2516168790601         56.63606       49.23994   \n",
       "11086          9.25177   144629156509         55.18118       63.97125   \n",
       "11087          4.01411   344747904604         49.92276       60.56904   \n",
       "11088          6.67738  3867238836545         55.22194       57.79482   \n",
       "\n",
       "       wild_mouse_duration  \n",
       "0                 10.74376  \n",
       "1                 10.91609  \n",
       "2                  8.70608  \n",
       "3                  7.34936  \n",
       "4                  6.19937  \n",
       "...                    ...  \n",
       "11084             10.57640  \n",
       "11085             10.07923  \n",
       "11086              3.45022  \n",
       "11087              8.45471  \n",
       "11088             11.95888  \n",
       "\n",
       "[11089 rows x 25 columns]"
      ]
     },
     "execution_count": 22,
     "metadata": {},
     "output_type": "execute_result"
    }
   ],
   "source": [
    "session"
   ]
  },
  {
   "cell_type": "markdown",
   "id": "1cd73ff3",
   "metadata": {},
   "source": [
    "### USEFULLNESS OF FIELDS"
   ]
  },
  {
   "cell_type": "markdown",
   "id": "b77f7fc9",
   "metadata": {},
   "source": [
    "**ALL OF THEM CAN BE USED IN PERSPECTIVES OF ANALYSIS**\n",
    "\n",
    "\n",
    "**Interaction during the session:**\n",
    "\n",
    "***page_activity_duration = duration of user activity on the page***\n",
    "\n",
    "wild_mouse_duration = duration of rapid mouse movement\n",
    "\n",
    "***mouse_move_total_rel_distance = normalized to screen height and width***\n",
    "\n",
    "***scroll_move_total_rel_distance = normalized to screen height and width***\n",
    "     \n",
    "**(pct_) ratio of the number of interactions of a given type to the total number multiplied by the base value:**\n",
    "\n",
    "pct_scroll_move_duration = normonovaná value for the total time of scrolling\n",
    "\n",
    "pct_mouse_move = mouse movement records\n",
    "\n",
    "pct_scroll_move = roll records\n",
    "\n",
    "pct_wild_mouse = records of rapid mouse movement\n",
    "\n",
    "***pct_click = records of user clicks***\n",
    "\n",
    "***pct_double_click = records of a user's double click***\n",
    "\n",
    "pct_rage_click = records of violent clicks on the page\n",
    "\n",
    "pct_input = records of user input\n",
    "\n",
    "pct_scrandom = records of fast pressing on the page\n",
    "\n",
    "pct_click_product_info = product information click records"
   ]
  },
  {
   "cell_type": "code",
   "execution_count": 23,
   "id": "885bbaed",
   "metadata": {},
   "outputs": [
    {
     "name": "stdout",
     "output_type": "stream",
     "text": [
      "<class 'pandas.core.frame.DataFrame'>\n",
      "RangeIndex: 11089 entries, 0 to 11088\n",
      "Data columns (total 25 columns):\n",
      " #   Column                          Non-Null Count  Dtype  \n",
      "---  ------                          --------------  -----  \n",
      " 0   pct_mouse_click                 11078 non-null  float64\n",
      " 1   total_load_time                 11089 non-null  float64\n",
      " 2   mouse_move_total_rel_distance   11078 non-null  float64\n",
      " 3   session_start                   11089 non-null  object \n",
      " 4   session_id                      11089 non-null  int64  \n",
      " 5   ack                             11089 non-null  float64\n",
      " 6   screen_width                    11089 non-null  object \n",
      " 7   pct_click                       11078 non-null  float64\n",
      " 8   browser_name                    11089 non-null  object \n",
      " 9   pct_mouse_move                  11078 non-null  float64\n",
      " 10  pct_click_product_info          11078 non-null  float64\n",
      " 11  pct_scroll_move_duration        11078 non-null  float64\n",
      " 12  pct_scrandom                    11078 non-null  float64\n",
      " 13  session_duration                11089 non-null  float64\n",
      " 14  page_activity_duration          11078 non-null  float64\n",
      " 15  pct_rage_click                  11078 non-null  float64\n",
      " 16  scroll_move_total_rel_distance  11078 non-null  float64\n",
      " 17  user_id                         11089 non-null  int64  \n",
      " 18  screen_height                   11089 non-null  object \n",
      " 19  pct_input                       11078 non-null  float64\n",
      " 20  pct_doubleclick                 11078 non-null  float64\n",
      " 21  product_ean                     11089 non-null  int64  \n",
      " 22  pct_scroll_move                 11077 non-null  float64\n",
      " 23  pct_wild_mouse                  11078 non-null  float64\n",
      " 24  wild_mouse_duration             11078 non-null  float64\n",
      "dtypes: float64(18), int64(3), object(4)\n",
      "memory usage: 2.1+ MB\n"
     ]
    }
   ],
   "source": [
    "session.info()"
   ]
  },
  {
   "cell_type": "markdown",
   "id": "039fb714",
   "metadata": {},
   "source": []
  },
  {
   "cell_type": "code",
   "execution_count": 24,
   "id": "a89813ac",
   "metadata": {},
   "outputs": [
    {
     "data": {
      "text/html": [
       "<div>\n",
       "<style scoped>\n",
       "    .dataframe tbody tr th:only-of-type {\n",
       "        vertical-align: middle;\n",
       "    }\n",
       "\n",
       "    .dataframe tbody tr th {\n",
       "        vertical-align: top;\n",
       "    }\n",
       "\n",
       "    .dataframe thead th {\n",
       "        text-align: right;\n",
       "    }\n",
       "</style>\n",
       "<table border=\"1\" class=\"dataframe\">\n",
       "  <thead>\n",
       "    <tr style=\"text-align: right;\">\n",
       "      <th></th>\n",
       "      <th>pct_mouse_click</th>\n",
       "      <th>total_load_time</th>\n",
       "      <th>mouse_move_total_rel_distance</th>\n",
       "      <th>session_start</th>\n",
       "      <th>session_id</th>\n",
       "      <th>ack</th>\n",
       "      <th>pct_click</th>\n",
       "      <th>browser_name</th>\n",
       "      <th>pct_mouse_move</th>\n",
       "      <th>pct_click_product_info</th>\n",
       "      <th>...</th>\n",
       "      <th>pct_rage_click</th>\n",
       "      <th>scroll_move_total_rel_distance</th>\n",
       "      <th>user_id</th>\n",
       "      <th>pct_input</th>\n",
       "      <th>pct_doubleclick</th>\n",
       "      <th>product_ean</th>\n",
       "      <th>pct_scroll_move</th>\n",
       "      <th>pct_wild_mouse</th>\n",
       "      <th>wild_mouse_duration</th>\n",
       "      <th>screen_resolution</th>\n",
       "    </tr>\n",
       "  </thead>\n",
       "  <tbody>\n",
       "    <tr>\n",
       "      <th>0</th>\n",
       "      <td>6.76035</td>\n",
       "      <td>15.00632</td>\n",
       "      <td>7.91611</td>\n",
       "      <td>2023-07-06 00:59:11</td>\n",
       "      <td>719775</td>\n",
       "      <td>0.0</td>\n",
       "      <td>6.95057</td>\n",
       "      <td>opera</td>\n",
       "      <td>6.03169</td>\n",
       "      <td>50.59959</td>\n",
       "      <td>...</td>\n",
       "      <td>27.21166</td>\n",
       "      <td>6.09851</td>\n",
       "      <td>868</td>\n",
       "      <td>1.95647</td>\n",
       "      <td>6.97834</td>\n",
       "      <td>248099568029</td>\n",
       "      <td>44.03202</td>\n",
       "      <td>46.68163</td>\n",
       "      <td>10.74376</td>\n",
       "      <td>lower x 1080</td>\n",
       "    </tr>\n",
       "    <tr>\n",
       "      <th>1</th>\n",
       "      <td>5.46624</td>\n",
       "      <td>1.04290</td>\n",
       "      <td>8.84385</td>\n",
       "      <td>2021-01-17 05:46:46</td>\n",
       "      <td>92085</td>\n",
       "      <td>0.0</td>\n",
       "      <td>NaN</td>\n",
       "      <td>edge</td>\n",
       "      <td>6.70707</td>\n",
       "      <td>44.00683</td>\n",
       "      <td>...</td>\n",
       "      <td>57.45350</td>\n",
       "      <td>9.70491</td>\n",
       "      <td>748</td>\n",
       "      <td>2.29294</td>\n",
       "      <td>9.61049</td>\n",
       "      <td>6638480475311</td>\n",
       "      <td>29.28054</td>\n",
       "      <td>65.50466</td>\n",
       "      <td>10.91609</td>\n",
       "      <td>800 x 1080</td>\n",
       "    </tr>\n",
       "    <tr>\n",
       "      <th>2</th>\n",
       "      <td>6.75326</td>\n",
       "      <td>5.53722</td>\n",
       "      <td>8.14337</td>\n",
       "      <td>2019-02-13 15:46:33</td>\n",
       "      <td>1194424</td>\n",
       "      <td>0.0</td>\n",
       "      <td>7.19415</td>\n",
       "      <td>edge</td>\n",
       "      <td>5.84443</td>\n",
       "      <td>49.93366</td>\n",
       "      <td>...</td>\n",
       "      <td>47.46144</td>\n",
       "      <td>5.79315</td>\n",
       "      <td>1959</td>\n",
       "      <td>0.36497</td>\n",
       "      <td>5.14403</td>\n",
       "      <td>7111799508394</td>\n",
       "      <td>41.13195</td>\n",
       "      <td>66.42266</td>\n",
       "      <td>8.70608</td>\n",
       "      <td>lower x 768</td>\n",
       "    </tr>\n",
       "    <tr>\n",
       "      <th>3</th>\n",
       "      <td>9.09710</td>\n",
       "      <td>6.81720</td>\n",
       "      <td>6.52434</td>\n",
       "      <td>2019-06-15 19:33:59</td>\n",
       "      <td>335521</td>\n",
       "      <td>1.0</td>\n",
       "      <td>9.56752</td>\n",
       "      <td>chrome</td>\n",
       "      <td>8.75647</td>\n",
       "      <td>32.96224</td>\n",
       "      <td>...</td>\n",
       "      <td>45.16742</td>\n",
       "      <td>9.26782</td>\n",
       "      <td>1587</td>\n",
       "      <td>0.15159</td>\n",
       "      <td>10.58422</td>\n",
       "      <td>2755517198198</td>\n",
       "      <td>53.76225</td>\n",
       "      <td>49.90523</td>\n",
       "      <td>7.34936</td>\n",
       "      <td>1280 x 1080</td>\n",
       "    </tr>\n",
       "    <tr>\n",
       "      <th>4</th>\n",
       "      <td>4.85419</td>\n",
       "      <td>3.92631</td>\n",
       "      <td>7.87990</td>\n",
       "      <td>2022-09-22 07:44:05</td>\n",
       "      <td>1144426</td>\n",
       "      <td>1.0</td>\n",
       "      <td>7.21841</td>\n",
       "      <td>mobile</td>\n",
       "      <td>5.68521</td>\n",
       "      <td>56.01077</td>\n",
       "      <td>...</td>\n",
       "      <td>51.15321</td>\n",
       "      <td>12.26355</td>\n",
       "      <td>2476</td>\n",
       "      <td>0.10660</td>\n",
       "      <td>9.54298</td>\n",
       "      <td>4511971237235</td>\n",
       "      <td>56.00922</td>\n",
       "      <td>41.36312</td>\n",
       "      <td>6.19937</td>\n",
       "      <td>1366 x 1024</td>\n",
       "    </tr>\n",
       "    <tr>\n",
       "      <th>...</th>\n",
       "      <td>...</td>\n",
       "      <td>...</td>\n",
       "      <td>...</td>\n",
       "      <td>...</td>\n",
       "      <td>...</td>\n",
       "      <td>...</td>\n",
       "      <td>...</td>\n",
       "      <td>...</td>\n",
       "      <td>...</td>\n",
       "      <td>...</td>\n",
       "      <td>...</td>\n",
       "      <td>...</td>\n",
       "      <td>...</td>\n",
       "      <td>...</td>\n",
       "      <td>...</td>\n",
       "      <td>...</td>\n",
       "      <td>...</td>\n",
       "      <td>...</td>\n",
       "      <td>...</td>\n",
       "      <td>...</td>\n",
       "      <td>...</td>\n",
       "    </tr>\n",
       "    <tr>\n",
       "      <th>11084</th>\n",
       "      <td>9.85009</td>\n",
       "      <td>2.90130</td>\n",
       "      <td>5.35139</td>\n",
       "      <td>2022-05-28 00:56:48</td>\n",
       "      <td>1424279</td>\n",
       "      <td>0.0</td>\n",
       "      <td>5.59338</td>\n",
       "      <td>firefox</td>\n",
       "      <td>9.67918</td>\n",
       "      <td>50.05049</td>\n",
       "      <td>...</td>\n",
       "      <td>47.14750</td>\n",
       "      <td>NaN</td>\n",
       "      <td>463</td>\n",
       "      <td>1.62560</td>\n",
       "      <td>5.15106</td>\n",
       "      <td>5854850554306</td>\n",
       "      <td>60.29421</td>\n",
       "      <td>50.56457</td>\n",
       "      <td>10.57640</td>\n",
       "      <td>1920 x lower</td>\n",
       "    </tr>\n",
       "    <tr>\n",
       "      <th>11085</th>\n",
       "      <td>8.06033</td>\n",
       "      <td>8.88865</td>\n",
       "      <td>7.53117</td>\n",
       "      <td>2022-04-08 01:42:18</td>\n",
       "      <td>263847</td>\n",
       "      <td>0.0</td>\n",
       "      <td>5.16977</td>\n",
       "      <td>mobile</td>\n",
       "      <td>8.28987</td>\n",
       "      <td>76.86145</td>\n",
       "      <td>...</td>\n",
       "      <td>39.86244</td>\n",
       "      <td>5.79656</td>\n",
       "      <td>445</td>\n",
       "      <td>1.04892</td>\n",
       "      <td>7.14042</td>\n",
       "      <td>2516168790601</td>\n",
       "      <td>56.63606</td>\n",
       "      <td>49.23994</td>\n",
       "      <td>10.07923</td>\n",
       "      <td>1280 x 768</td>\n",
       "    </tr>\n",
       "    <tr>\n",
       "      <th>11086</th>\n",
       "      <td>12.62420</td>\n",
       "      <td>6.86250</td>\n",
       "      <td>8.03572</td>\n",
       "      <td>2019-06-18 14:13:21</td>\n",
       "      <td>644898</td>\n",
       "      <td>1.0</td>\n",
       "      <td>11.54376</td>\n",
       "      <td>mobile</td>\n",
       "      <td>11.46814</td>\n",
       "      <td>44.09592</td>\n",
       "      <td>...</td>\n",
       "      <td>35.09946</td>\n",
       "      <td>7.35456</td>\n",
       "      <td>1688</td>\n",
       "      <td>0.10712</td>\n",
       "      <td>9.25177</td>\n",
       "      <td>144629156509</td>\n",
       "      <td>55.18118</td>\n",
       "      <td>63.97125</td>\n",
       "      <td>3.45022</td>\n",
       "      <td>1024 x 768</td>\n",
       "    </tr>\n",
       "    <tr>\n",
       "      <th>11087</th>\n",
       "      <td>6.78625</td>\n",
       "      <td>3.70992</td>\n",
       "      <td>8.78765</td>\n",
       "      <td>2020-03-23 08:11:59</td>\n",
       "      <td>720161</td>\n",
       "      <td>1.0</td>\n",
       "      <td>4.38175</td>\n",
       "      <td>chrome</td>\n",
       "      <td>9.94778</td>\n",
       "      <td>60.98057</td>\n",
       "      <td>...</td>\n",
       "      <td>57.69495</td>\n",
       "      <td>8.65941</td>\n",
       "      <td>755</td>\n",
       "      <td>0.29624</td>\n",
       "      <td>4.01411</td>\n",
       "      <td>344747904604</td>\n",
       "      <td>49.92276</td>\n",
       "      <td>60.56904</td>\n",
       "      <td>8.45471</td>\n",
       "      <td>1920 x 800</td>\n",
       "    </tr>\n",
       "    <tr>\n",
       "      <th>11088</th>\n",
       "      <td>7.07958</td>\n",
       "      <td>6.72045</td>\n",
       "      <td>9.36633</td>\n",
       "      <td>2018-11-17 08:16:49</td>\n",
       "      <td>1071587</td>\n",
       "      <td>1.0</td>\n",
       "      <td>9.24425</td>\n",
       "      <td>chrome</td>\n",
       "      <td>9.20802</td>\n",
       "      <td>59.01873</td>\n",
       "      <td>...</td>\n",
       "      <td>31.02474</td>\n",
       "      <td>10.02871</td>\n",
       "      <td>1225</td>\n",
       "      <td>6.36579</td>\n",
       "      <td>6.67738</td>\n",
       "      <td>3867238836545</td>\n",
       "      <td>55.22194</td>\n",
       "      <td>57.79482</td>\n",
       "      <td>11.95888</td>\n",
       "      <td>1366 x 800</td>\n",
       "    </tr>\n",
       "  </tbody>\n",
       "</table>\n",
       "<p>11089 rows × 24 columns</p>\n",
       "</div>"
      ],
      "text/plain": [
       "       pct_mouse_click  total_load_time  mouse_move_total_rel_distance  \\\n",
       "0              6.76035         15.00632                        7.91611   \n",
       "1              5.46624          1.04290                        8.84385   \n",
       "2              6.75326          5.53722                        8.14337   \n",
       "3              9.09710          6.81720                        6.52434   \n",
       "4              4.85419          3.92631                        7.87990   \n",
       "...                ...              ...                            ...   \n",
       "11084          9.85009          2.90130                        5.35139   \n",
       "11085          8.06033          8.88865                        7.53117   \n",
       "11086         12.62420          6.86250                        8.03572   \n",
       "11087          6.78625          3.70992                        8.78765   \n",
       "11088          7.07958          6.72045                        9.36633   \n",
       "\n",
       "             session_start  session_id  ack  pct_click browser_name  \\\n",
       "0      2023-07-06 00:59:11      719775  0.0    6.95057        opera   \n",
       "1      2021-01-17 05:46:46       92085  0.0        NaN         edge   \n",
       "2      2019-02-13 15:46:33     1194424  0.0    7.19415         edge   \n",
       "3      2019-06-15 19:33:59      335521  1.0    9.56752       chrome   \n",
       "4      2022-09-22 07:44:05     1144426  1.0    7.21841       mobile   \n",
       "...                    ...         ...  ...        ...          ...   \n",
       "11084  2022-05-28 00:56:48     1424279  0.0    5.59338      firefox   \n",
       "11085  2022-04-08 01:42:18      263847  0.0    5.16977       mobile   \n",
       "11086  2019-06-18 14:13:21      644898  1.0   11.54376       mobile   \n",
       "11087  2020-03-23 08:11:59      720161  1.0    4.38175       chrome   \n",
       "11088  2018-11-17 08:16:49     1071587  1.0    9.24425       chrome   \n",
       "\n",
       "       pct_mouse_move  pct_click_product_info  ...  pct_rage_click  \\\n",
       "0             6.03169                50.59959  ...        27.21166   \n",
       "1             6.70707                44.00683  ...        57.45350   \n",
       "2             5.84443                49.93366  ...        47.46144   \n",
       "3             8.75647                32.96224  ...        45.16742   \n",
       "4             5.68521                56.01077  ...        51.15321   \n",
       "...               ...                     ...  ...             ...   \n",
       "11084         9.67918                50.05049  ...        47.14750   \n",
       "11085         8.28987                76.86145  ...        39.86244   \n",
       "11086        11.46814                44.09592  ...        35.09946   \n",
       "11087         9.94778                60.98057  ...        57.69495   \n",
       "11088         9.20802                59.01873  ...        31.02474   \n",
       "\n",
       "       scroll_move_total_rel_distance  user_id  pct_input  pct_doubleclick  \\\n",
       "0                             6.09851      868    1.95647          6.97834   \n",
       "1                             9.70491      748    2.29294          9.61049   \n",
       "2                             5.79315     1959    0.36497          5.14403   \n",
       "3                             9.26782     1587    0.15159         10.58422   \n",
       "4                            12.26355     2476    0.10660          9.54298   \n",
       "...                               ...      ...        ...              ...   \n",
       "11084                             NaN      463    1.62560          5.15106   \n",
       "11085                         5.79656      445    1.04892          7.14042   \n",
       "11086                         7.35456     1688    0.10712          9.25177   \n",
       "11087                         8.65941      755    0.29624          4.01411   \n",
       "11088                        10.02871     1225    6.36579          6.67738   \n",
       "\n",
       "         product_ean  pct_scroll_move  pct_wild_mouse  wild_mouse_duration  \\\n",
       "0       248099568029         44.03202        46.68163             10.74376   \n",
       "1      6638480475311         29.28054        65.50466             10.91609   \n",
       "2      7111799508394         41.13195        66.42266              8.70608   \n",
       "3      2755517198198         53.76225        49.90523              7.34936   \n",
       "4      4511971237235         56.00922        41.36312              6.19937   \n",
       "...              ...              ...             ...                  ...   \n",
       "11084  5854850554306         60.29421        50.56457             10.57640   \n",
       "11085  2516168790601         56.63606        49.23994             10.07923   \n",
       "11086   144629156509         55.18118        63.97125              3.45022   \n",
       "11087   344747904604         49.92276        60.56904              8.45471   \n",
       "11088  3867238836545         55.22194        57.79482             11.95888   \n",
       "\n",
       "       screen_resolution  \n",
       "0           lower x 1080  \n",
       "1             800 x 1080  \n",
       "2            lower x 768  \n",
       "3            1280 x 1080  \n",
       "4            1366 x 1024  \n",
       "...                  ...  \n",
       "11084       1920 x lower  \n",
       "11085         1280 x 768  \n",
       "11086         1024 x 768  \n",
       "11087         1920 x 800  \n",
       "11088         1366 x 800  \n",
       "\n",
       "[11089 rows x 24 columns]"
      ]
     },
     "execution_count": 24,
     "metadata": {},
     "output_type": "execute_result"
    }
   ],
   "source": [
    "session['screen_resolution'] = session['screen_width'].astype(str) + ' x ' + session['screen_height'].astype(str)\n",
    "session = session.drop(columns=['screen_width', 'screen_height'], axis=1)\n",
    "session"
   ]
  },
  {
   "cell_type": "markdown",
   "id": "b67d30fb",
   "metadata": {},
   "source": [
    "### NAN PROBLEMS"
   ]
  },
  {
   "cell_type": "code",
   "execution_count": 25,
   "id": "16720c53",
   "metadata": {},
   "outputs": [
    {
     "data": {
      "text/plain": [
       "pct_mouse_click                   11\n",
       "total_load_time                    0\n",
       "mouse_move_total_rel_distance     11\n",
       "session_start                      0\n",
       "session_id                         0\n",
       "ack                                0\n",
       "pct_click                         11\n",
       "browser_name                       0\n",
       "pct_mouse_move                    11\n",
       "pct_click_product_info            11\n",
       "pct_scroll_move_duration          11\n",
       "pct_scrandom                      11\n",
       "session_duration                   0\n",
       "page_activity_duration            11\n",
       "pct_rage_click                    11\n",
       "scroll_move_total_rel_distance    11\n",
       "user_id                            0\n",
       "pct_input                         11\n",
       "pct_doubleclick                   11\n",
       "product_ean                        0\n",
       "pct_scroll_move                   12\n",
       "pct_wild_mouse                    11\n",
       "wild_mouse_duration               11\n",
       "screen_resolution                  0\n",
       "dtype: int64"
      ]
     },
     "execution_count": 25,
     "metadata": {},
     "output_type": "execute_result"
    }
   ],
   "source": [
    "nan_session_counts = session.isna().sum()\n",
    "nan_session_counts"
   ]
  },
  {
   "cell_type": "markdown",
   "id": "46289443",
   "metadata": {},
   "source": [
    "### OUTLAYER PROBLEMS"
   ]
  },
  {
   "cell_type": "markdown",
   "id": "9fca6b78",
   "metadata": {},
   "source": [
    "*Let's try to analyze the attributes that are important to us. By drawing graphs and gradually identifying either anomalies or outliers, we will clean up our datasets.*\n",
    "\n",
    "***I will analyse the attributes from first part of this phase.***"
   ]
  },
  {
   "cell_type": "code",
   "execution_count": 26,
   "id": "2cea1367",
   "metadata": {},
   "outputs": [],
   "source": [
    "counter_of_dropped_data = 0\n",
    "session_size = 0\n",
    "\n",
    "def drop_outliers_performance(column_name, most_left, most_right):\n",
    "    global session\n",
    "    global session_size\n",
    "    global counter_of_dropped_data\n",
    "    sns.histplot(session[column_name], kde=True)\n",
    "    all_count = (session[column_name]).sum()\n",
    "#   count_before_replace_with_nan = (session[column_name].isna()).sum()\n",
    "#   session.loc[session[column_name] < most_left, column_name] = np.nan\n",
    "#   session.loc[session[column_name] > most_right, column_name] = np.nan\\\n",
    "    original_count = len(session)\n",
    "    mask = (session[column_name] > most_left) & (session[column_name] < most_right)\n",
    "    session = session[mask]\n",
    "    session.reset_index(drop=True, inplace=True)\n",
    "    dropped_count = original_count - len(session)\n",
    "    counter_of_dropped_data += dropped_count\n",
    "    session_size += all_count\n",
    "#   count_after_replace_with_nan = (session[column_name].isna()).sum()\n",
    "#   dropped_count = count_after_replace_with_nan - count_before_replace_with_nan\n",
    "    print(f\"Count replaced with NaN: {(dropped_count / all_count) * 100:.10f}%.\")\n",
    "    sns.histplot(session[column_name], kde=True)"
   ]
  },
  {
   "cell_type": "markdown",
   "id": "2c913c7e",
   "metadata": {},
   "source": [
    "#### SESSION_DURATION"
   ]
  },
  {
   "cell_type": "markdown",
   "id": "074626dc",
   "metadata": {},
   "source": [
    "If percent of replaced ones less than **0.05%**, then it won't be matter."
   ]
  },
  {
   "cell_type": "code",
   "execution_count": 27,
   "id": "32f31f5f",
   "metadata": {},
   "outputs": [
    {
     "name": "stdout",
     "output_type": "stream",
     "text": [
      "Count replaced with NaN: 0.0086792219%.\n"
     ]
    },
    {
     "data": {
      "image/png": "[encoded data removed]",
      "text/plain": [
       "<Figure size 640x480 with 1 Axes>"
      ]
     },
     "metadata": {},
     "output_type": "display_data"
    }
   ],
   "source": [
    "drop_outliers_performance('session_duration', 0, 300)"
   ]
  },
  {
   "cell_type": "markdown",
   "id": "8a1a8bfa",
   "metadata": {},
   "source": [
    "It follows from the data that the user spent a **negative time in the session**, which is essentially nonsense. Since it is not yet known reliably how to fight outliers, I will **temporarily** correct this error by **entering in the place of unreliable data NaN**."
   ]
  },
  {
   "cell_type": "markdown",
   "id": "4520c355",
   "metadata": {},
   "source": [
    "#### PCT_DOUBLECLICK"
   ]
  },
  {
   "cell_type": "code",
   "execution_count": 28,
   "id": "a19b891a",
   "metadata": {},
   "outputs": [
    {
     "name": "stdout",
     "output_type": "stream",
     "text": [
      "Count replaced with NaN: 0.0409356689%.\n"
     ]
    },
    {
     "data": {
      "image/png": "[encoded data removed]",
      "text/plain": [
       "<Figure size 640x480 with 1 Axes>"
      ]
     },
     "metadata": {},
     "output_type": "display_data"
    }
   ],
   "source": [
    "drop_outliers_performance('pct_doubleclick', 2.5, 14)"
   ]
  },
  {
   "cell_type": "markdown",
   "id": "3a155ccf",
   "metadata": {},
   "source": [
    "#### SCROLL_MOVE_TOTAL_REL_DISTANCE"
   ]
  },
  {
   "cell_type": "code",
   "execution_count": 29,
   "id": "16d158a5",
   "metadata": {},
   "outputs": [
    {
     "name": "stdout",
     "output_type": "stream",
     "text": [
      "Count replaced with NaN: 0.0265513045%.\n"
     ]
    },
    {
     "data": {
      "image/png": "[encoded data removed]",
      "text/plain": [
       "<Figure size 640x480 with 1 Axes>"
      ]
     },
     "metadata": {},
     "output_type": "display_data"
    }
   ],
   "source": [
    "drop_outliers_performance('scroll_move_total_rel_distance', 2, 14)"
   ]
  },
  {
   "cell_type": "markdown",
   "id": "52832978",
   "metadata": {},
   "source": [
    "#### PCT_CLICK"
   ]
  },
  {
   "cell_type": "code",
   "execution_count": 30,
   "id": "4def8456",
   "metadata": {},
   "outputs": [
    {
     "name": "stdout",
     "output_type": "stream",
     "text": [
      "Count replaced with NaN: 0.0314842733%.\n"
     ]
    },
    {
     "data": {
      "image/png": "[encoded data removed]",
      "text/plain": [
       "<Figure size 640x480 with 1 Axes>"
      ]
     },
     "metadata": {},
     "output_type": "display_data"
    }
   ],
   "source": [
    "drop_outliers_performance('pct_click', 1.8, 14.8)"
   ]
  },
  {
   "cell_type": "markdown",
   "id": "51416617",
   "metadata": {},
   "source": [
    "#### MOUSE_MOVE_TOTAL_REL_DISTANCE"
   ]
  },
  {
   "cell_type": "code",
   "execution_count": 31,
   "id": "77b9839b",
   "metadata": {},
   "outputs": [
    {
     "name": "stdout",
     "output_type": "stream",
     "text": [
      "Count replaced with NaN: 0.0354751368%.\n"
     ]
    },
    {
     "data": {
      "image/png": "[encoded data removed]",
      "text/plain": [
       "<Figure size 640x480 with 1 Axes>"
      ]
     },
     "metadata": {},
     "output_type": "display_data"
    }
   ],
   "source": [
    "drop_outliers_performance('mouse_move_total_rel_distance', 5, 11.4)"
   ]
  },
  {
   "cell_type": "markdown",
   "id": "79793ae3",
   "metadata": {},
   "source": [
    "#### PCT_MOUSE_CLICK"
   ]
  },
  {
   "cell_type": "code",
   "execution_count": 32,
   "id": "822750ad",
   "metadata": {},
   "outputs": [
    {
     "name": "stdout",
     "output_type": "stream",
     "text": [
      "Count replaced with NaN: 0.0251765476%.\n"
     ]
    },
    {
     "data": {
      "image/png": "[encoded data removed]",
      "text/plain": [
       "<Figure size 640x480 with 1 Axes>"
      ]
     },
     "metadata": {},
     "output_type": "display_data"
    }
   ],
   "source": [
    "drop_outliers_performance('pct_mouse_click', 2.5, 14)"
   ]
  },
  {
   "cell_type": "markdown",
   "id": "f657a8d5",
   "metadata": {},
   "source": [
    "#### PAGE_ACTIVITY_DURATION"
   ]
  },
  {
   "cell_type": "code",
   "execution_count": 33,
   "id": "08a05d7e",
   "metadata": {},
   "outputs": [
    {
     "name": "stdout",
     "output_type": "stream",
     "text": [
      "Count replaced with NaN: 0.0157408636%.\n"
     ]
    },
    {
     "data": {
      "image/png": "[encoded data removed]",
      "text/plain": [
       "<Figure size 640x480 with 1 Axes>"
      ]
     },
     "metadata": {},
     "output_type": "display_data"
    }
   ],
   "source": [
    "drop_outliers_performance('page_activity_duration', 2, 15)"
   ]
  },
  {
   "cell_type": "markdown",
   "id": "d263e932",
   "metadata": {},
   "source": [
    "#### BROWSER_NAME"
   ]
  },
  {
   "cell_type": "code",
   "execution_count": 34,
   "id": "0c64ee0c",
   "metadata": {},
   "outputs": [
    {
     "data": {
      "text/plain": [
       "<Axes: xlabel='browser_name', ylabel='Count'>"
      ]
     },
     "execution_count": 34,
     "metadata": {},
     "output_type": "execute_result"
    },
    {
     "data": {
      "image/png": "[encoded data removed]",
      "text/plain": [
       "<Figure size 640x480 with 1 Axes>"
      ]
     },
     "metadata": {},
     "output_type": "display_data"
    }
   ],
   "source": [
    "sns.histplot(session['browser_name'], kde=False)"
   ]
  },
  {
   "cell_type": "markdown",
   "id": "3e93e05d",
   "metadata": {},
   "source": [
    "### CONCLUSION IN OUTLAYER CORRECTION"
   ]
  },
  {
   "cell_type": "markdown",
   "id": "ddc1fd08",
   "metadata": {},
   "source": [
    "Our goal was to partially clean up the dataset, so we did just that. In total, we cleaned the following number of rows:"
   ]
  },
  {
   "cell_type": "code",
   "execution_count": 35,
   "id": "d5eb8840",
   "metadata": {},
   "outputs": [
    {
     "name": "stdout",
     "output_type": "stream",
     "text": [
      "Count of dropped: 297.\n",
      " Percentage: 0.0136%\n"
     ]
    },
    {
     "data": {
      "text/html": [
       "<div>\n",
       "<style scoped>\n",
       "    .dataframe tbody tr th:only-of-type {\n",
       "        vertical-align: middle;\n",
       "    }\n",
       "\n",
       "    .dataframe tbody tr th {\n",
       "        vertical-align: top;\n",
       "    }\n",
       "\n",
       "    .dataframe thead th {\n",
       "        text-align: right;\n",
       "    }\n",
       "</style>\n",
       "<table border=\"1\" class=\"dataframe\">\n",
       "  <thead>\n",
       "    <tr style=\"text-align: right;\">\n",
       "      <th></th>\n",
       "      <th>pct_mouse_click</th>\n",
       "      <th>total_load_time</th>\n",
       "      <th>mouse_move_total_rel_distance</th>\n",
       "      <th>session_start</th>\n",
       "      <th>session_id</th>\n",
       "      <th>ack</th>\n",
       "      <th>pct_click</th>\n",
       "      <th>browser_name</th>\n",
       "      <th>pct_mouse_move</th>\n",
       "      <th>pct_click_product_info</th>\n",
       "      <th>...</th>\n",
       "      <th>pct_rage_click</th>\n",
       "      <th>scroll_move_total_rel_distance</th>\n",
       "      <th>user_id</th>\n",
       "      <th>pct_input</th>\n",
       "      <th>pct_doubleclick</th>\n",
       "      <th>product_ean</th>\n",
       "      <th>pct_scroll_move</th>\n",
       "      <th>pct_wild_mouse</th>\n",
       "      <th>wild_mouse_duration</th>\n",
       "      <th>screen_resolution</th>\n",
       "    </tr>\n",
       "  </thead>\n",
       "  <tbody>\n",
       "    <tr>\n",
       "      <th>0</th>\n",
       "      <td>6.76035</td>\n",
       "      <td>15.00632</td>\n",
       "      <td>7.91611</td>\n",
       "      <td>2023-07-06 00:59:11</td>\n",
       "      <td>719775</td>\n",
       "      <td>0.0</td>\n",
       "      <td>6.95057</td>\n",
       "      <td>opera</td>\n",
       "      <td>6.03169</td>\n",
       "      <td>50.59959</td>\n",
       "      <td>...</td>\n",
       "      <td>27.21166</td>\n",
       "      <td>6.09851</td>\n",
       "      <td>868</td>\n",
       "      <td>1.95647</td>\n",
       "      <td>6.97834</td>\n",
       "      <td>248099568029</td>\n",
       "      <td>44.03202</td>\n",
       "      <td>46.68163</td>\n",
       "      <td>10.74376</td>\n",
       "      <td>lower x 1080</td>\n",
       "    </tr>\n",
       "    <tr>\n",
       "      <th>1</th>\n",
       "      <td>6.75326</td>\n",
       "      <td>5.53722</td>\n",
       "      <td>8.14337</td>\n",
       "      <td>2019-02-13 15:46:33</td>\n",
       "      <td>1194424</td>\n",
       "      <td>0.0</td>\n",
       "      <td>7.19415</td>\n",
       "      <td>edge</td>\n",
       "      <td>5.84443</td>\n",
       "      <td>49.93366</td>\n",
       "      <td>...</td>\n",
       "      <td>47.46144</td>\n",
       "      <td>5.79315</td>\n",
       "      <td>1959</td>\n",
       "      <td>0.36497</td>\n",
       "      <td>5.14403</td>\n",
       "      <td>7111799508394</td>\n",
       "      <td>41.13195</td>\n",
       "      <td>66.42266</td>\n",
       "      <td>8.70608</td>\n",
       "      <td>lower x 768</td>\n",
       "    </tr>\n",
       "    <tr>\n",
       "      <th>2</th>\n",
       "      <td>9.09710</td>\n",
       "      <td>6.81720</td>\n",
       "      <td>6.52434</td>\n",
       "      <td>2019-06-15 19:33:59</td>\n",
       "      <td>335521</td>\n",
       "      <td>1.0</td>\n",
       "      <td>9.56752</td>\n",
       "      <td>chrome</td>\n",
       "      <td>8.75647</td>\n",
       "      <td>32.96224</td>\n",
       "      <td>...</td>\n",
       "      <td>45.16742</td>\n",
       "      <td>9.26782</td>\n",
       "      <td>1587</td>\n",
       "      <td>0.15159</td>\n",
       "      <td>10.58422</td>\n",
       "      <td>2755517198198</td>\n",
       "      <td>53.76225</td>\n",
       "      <td>49.90523</td>\n",
       "      <td>7.34936</td>\n",
       "      <td>1280 x 1080</td>\n",
       "    </tr>\n",
       "    <tr>\n",
       "      <th>3</th>\n",
       "      <td>4.85419</td>\n",
       "      <td>3.92631</td>\n",
       "      <td>7.87990</td>\n",
       "      <td>2022-09-22 07:44:05</td>\n",
       "      <td>1144426</td>\n",
       "      <td>1.0</td>\n",
       "      <td>7.21841</td>\n",
       "      <td>mobile</td>\n",
       "      <td>5.68521</td>\n",
       "      <td>56.01077</td>\n",
       "      <td>...</td>\n",
       "      <td>51.15321</td>\n",
       "      <td>12.26355</td>\n",
       "      <td>2476</td>\n",
       "      <td>0.10660</td>\n",
       "      <td>9.54298</td>\n",
       "      <td>4511971237235</td>\n",
       "      <td>56.00922</td>\n",
       "      <td>41.36312</td>\n",
       "      <td>6.19937</td>\n",
       "      <td>1366 x 1024</td>\n",
       "    </tr>\n",
       "    <tr>\n",
       "      <th>4</th>\n",
       "      <td>6.10629</td>\n",
       "      <td>1.60295</td>\n",
       "      <td>8.34195</td>\n",
       "      <td>2019-12-26 10:34:30</td>\n",
       "      <td>1119598</td>\n",
       "      <td>0.0</td>\n",
       "      <td>7.92838</td>\n",
       "      <td>edge</td>\n",
       "      <td>7.76429</td>\n",
       "      <td>36.39425</td>\n",
       "      <td>...</td>\n",
       "      <td>55.01870</td>\n",
       "      <td>11.45785</td>\n",
       "      <td>16</td>\n",
       "      <td>0.88883</td>\n",
       "      <td>10.05772</td>\n",
       "      <td>8377930285275</td>\n",
       "      <td>62.92456</td>\n",
       "      <td>57.14864</td>\n",
       "      <td>9.85068</td>\n",
       "      <td>1024 x higher</td>\n",
       "    </tr>\n",
       "    <tr>\n",
       "      <th>...</th>\n",
       "      <td>...</td>\n",
       "      <td>...</td>\n",
       "      <td>...</td>\n",
       "      <td>...</td>\n",
       "      <td>...</td>\n",
       "      <td>...</td>\n",
       "      <td>...</td>\n",
       "      <td>...</td>\n",
       "      <td>...</td>\n",
       "      <td>...</td>\n",
       "      <td>...</td>\n",
       "      <td>...</td>\n",
       "      <td>...</td>\n",
       "      <td>...</td>\n",
       "      <td>...</td>\n",
       "      <td>...</td>\n",
       "      <td>...</td>\n",
       "      <td>...</td>\n",
       "      <td>...</td>\n",
       "      <td>...</td>\n",
       "      <td>...</td>\n",
       "    </tr>\n",
       "    <tr>\n",
       "      <th>10787</th>\n",
       "      <td>8.90701</td>\n",
       "      <td>3.24156</td>\n",
       "      <td>8.19275</td>\n",
       "      <td>2021-07-17 19:12:18</td>\n",
       "      <td>891391</td>\n",
       "      <td>1.0</td>\n",
       "      <td>8.86332</td>\n",
       "      <td>safari</td>\n",
       "      <td>9.86641</td>\n",
       "      <td>43.71919</td>\n",
       "      <td>...</td>\n",
       "      <td>49.90961</td>\n",
       "      <td>10.34860</td>\n",
       "      <td>681</td>\n",
       "      <td>0.08068</td>\n",
       "      <td>9.30304</td>\n",
       "      <td>2632912096956</td>\n",
       "      <td>47.04046</td>\n",
       "      <td>79.22789</td>\n",
       "      <td>5.91648</td>\n",
       "      <td>1366 x higher</td>\n",
       "    </tr>\n",
       "    <tr>\n",
       "      <th>10788</th>\n",
       "      <td>8.06033</td>\n",
       "      <td>8.88865</td>\n",
       "      <td>7.53117</td>\n",
       "      <td>2022-04-08 01:42:18</td>\n",
       "      <td>263847</td>\n",
       "      <td>0.0</td>\n",
       "      <td>5.16977</td>\n",
       "      <td>mobile</td>\n",
       "      <td>8.28987</td>\n",
       "      <td>76.86145</td>\n",
       "      <td>...</td>\n",
       "      <td>39.86244</td>\n",
       "      <td>5.79656</td>\n",
       "      <td>445</td>\n",
       "      <td>1.04892</td>\n",
       "      <td>7.14042</td>\n",
       "      <td>2516168790601</td>\n",
       "      <td>56.63606</td>\n",
       "      <td>49.23994</td>\n",
       "      <td>10.07923</td>\n",
       "      <td>1280 x 768</td>\n",
       "    </tr>\n",
       "    <tr>\n",
       "      <th>10789</th>\n",
       "      <td>12.62420</td>\n",
       "      <td>6.86250</td>\n",
       "      <td>8.03572</td>\n",
       "      <td>2019-06-18 14:13:21</td>\n",
       "      <td>644898</td>\n",
       "      <td>1.0</td>\n",
       "      <td>11.54376</td>\n",
       "      <td>mobile</td>\n",
       "      <td>11.46814</td>\n",
       "      <td>44.09592</td>\n",
       "      <td>...</td>\n",
       "      <td>35.09946</td>\n",
       "      <td>7.35456</td>\n",
       "      <td>1688</td>\n",
       "      <td>0.10712</td>\n",
       "      <td>9.25177</td>\n",
       "      <td>144629156509</td>\n",
       "      <td>55.18118</td>\n",
       "      <td>63.97125</td>\n",
       "      <td>3.45022</td>\n",
       "      <td>1024 x 768</td>\n",
       "    </tr>\n",
       "    <tr>\n",
       "      <th>10790</th>\n",
       "      <td>6.78625</td>\n",
       "      <td>3.70992</td>\n",
       "      <td>8.78765</td>\n",
       "      <td>2020-03-23 08:11:59</td>\n",
       "      <td>720161</td>\n",
       "      <td>1.0</td>\n",
       "      <td>4.38175</td>\n",
       "      <td>chrome</td>\n",
       "      <td>9.94778</td>\n",
       "      <td>60.98057</td>\n",
       "      <td>...</td>\n",
       "      <td>57.69495</td>\n",
       "      <td>8.65941</td>\n",
       "      <td>755</td>\n",
       "      <td>0.29624</td>\n",
       "      <td>4.01411</td>\n",
       "      <td>344747904604</td>\n",
       "      <td>49.92276</td>\n",
       "      <td>60.56904</td>\n",
       "      <td>8.45471</td>\n",
       "      <td>1920 x 800</td>\n",
       "    </tr>\n",
       "    <tr>\n",
       "      <th>10791</th>\n",
       "      <td>7.07958</td>\n",
       "      <td>6.72045</td>\n",
       "      <td>9.36633</td>\n",
       "      <td>2018-11-17 08:16:49</td>\n",
       "      <td>1071587</td>\n",
       "      <td>1.0</td>\n",
       "      <td>9.24425</td>\n",
       "      <td>chrome</td>\n",
       "      <td>9.20802</td>\n",
       "      <td>59.01873</td>\n",
       "      <td>...</td>\n",
       "      <td>31.02474</td>\n",
       "      <td>10.02871</td>\n",
       "      <td>1225</td>\n",
       "      <td>6.36579</td>\n",
       "      <td>6.67738</td>\n",
       "      <td>3867238836545</td>\n",
       "      <td>55.22194</td>\n",
       "      <td>57.79482</td>\n",
       "      <td>11.95888</td>\n",
       "      <td>1366 x 800</td>\n",
       "    </tr>\n",
       "  </tbody>\n",
       "</table>\n",
       "<p>10792 rows × 24 columns</p>\n",
       "</div>"
      ],
      "text/plain": [
       "       pct_mouse_click  total_load_time  mouse_move_total_rel_distance  \\\n",
       "0              6.76035         15.00632                        7.91611   \n",
       "1              6.75326          5.53722                        8.14337   \n",
       "2              9.09710          6.81720                        6.52434   \n",
       "3              4.85419          3.92631                        7.87990   \n",
       "4              6.10629          1.60295                        8.34195   \n",
       "...                ...              ...                            ...   \n",
       "10787          8.90701          3.24156                        8.19275   \n",
       "10788          8.06033          8.88865                        7.53117   \n",
       "10789         12.62420          6.86250                        8.03572   \n",
       "10790          6.78625          3.70992                        8.78765   \n",
       "10791          7.07958          6.72045                        9.36633   \n",
       "\n",
       "             session_start  session_id  ack  pct_click browser_name  \\\n",
       "0      2023-07-06 00:59:11      719775  0.0    6.95057        opera   \n",
       "1      2019-02-13 15:46:33     1194424  0.0    7.19415         edge   \n",
       "2      2019-06-15 19:33:59      335521  1.0    9.56752       chrome   \n",
       "3      2022-09-22 07:44:05     1144426  1.0    7.21841       mobile   \n",
       "4      2019-12-26 10:34:30     1119598  0.0    7.92838         edge   \n",
       "...                    ...         ...  ...        ...          ...   \n",
       "10787  2021-07-17 19:12:18      891391  1.0    8.86332       safari   \n",
       "10788  2022-04-08 01:42:18      263847  0.0    5.16977       mobile   \n",
       "10789  2019-06-18 14:13:21      644898  1.0   11.54376       mobile   \n",
       "10790  2020-03-23 08:11:59      720161  1.0    4.38175       chrome   \n",
       "10791  2018-11-17 08:16:49     1071587  1.0    9.24425       chrome   \n",
       "\n",
       "       pct_mouse_move  pct_click_product_info  ...  pct_rage_click  \\\n",
       "0             6.03169                50.59959  ...        27.21166   \n",
       "1             5.84443                49.93366  ...        47.46144   \n",
       "2             8.75647                32.96224  ...        45.16742   \n",
       "3             5.68521                56.01077  ...        51.15321   \n",
       "4             7.76429                36.39425  ...        55.01870   \n",
       "...               ...                     ...  ...             ...   \n",
       "10787         9.86641                43.71919  ...        49.90961   \n",
       "10788         8.28987                76.86145  ...        39.86244   \n",
       "10789        11.46814                44.09592  ...        35.09946   \n",
       "10790         9.94778                60.98057  ...        57.69495   \n",
       "10791         9.20802                59.01873  ...        31.02474   \n",
       "\n",
       "       scroll_move_total_rel_distance  user_id  pct_input  pct_doubleclick  \\\n",
       "0                             6.09851      868    1.95647          6.97834   \n",
       "1                             5.79315     1959    0.36497          5.14403   \n",
       "2                             9.26782     1587    0.15159         10.58422   \n",
       "3                            12.26355     2476    0.10660          9.54298   \n",
       "4                            11.45785       16    0.88883         10.05772   \n",
       "...                               ...      ...        ...              ...   \n",
       "10787                        10.34860      681    0.08068          9.30304   \n",
       "10788                         5.79656      445    1.04892          7.14042   \n",
       "10789                         7.35456     1688    0.10712          9.25177   \n",
       "10790                         8.65941      755    0.29624          4.01411   \n",
       "10791                        10.02871     1225    6.36579          6.67738   \n",
       "\n",
       "         product_ean  pct_scroll_move  pct_wild_mouse  wild_mouse_duration  \\\n",
       "0       248099568029         44.03202        46.68163             10.74376   \n",
       "1      7111799508394         41.13195        66.42266              8.70608   \n",
       "2      2755517198198         53.76225        49.90523              7.34936   \n",
       "3      4511971237235         56.00922        41.36312              6.19937   \n",
       "4      8377930285275         62.92456        57.14864              9.85068   \n",
       "...              ...              ...             ...                  ...   \n",
       "10787  2632912096956         47.04046        79.22789              5.91648   \n",
       "10788  2516168790601         56.63606        49.23994             10.07923   \n",
       "10789   144629156509         55.18118        63.97125              3.45022   \n",
       "10790   344747904604         49.92276        60.56904              8.45471   \n",
       "10791  3867238836545         55.22194        57.79482             11.95888   \n",
       "\n",
       "       screen_resolution  \n",
       "0           lower x 1080  \n",
       "1            lower x 768  \n",
       "2            1280 x 1080  \n",
       "3            1366 x 1024  \n",
       "4          1024 x higher  \n",
       "...                  ...  \n",
       "10787      1366 x higher  \n",
       "10788         1280 x 768  \n",
       "10789         1024 x 768  \n",
       "10790         1920 x 800  \n",
       "10791         1366 x 800  \n",
       "\n",
       "[10792 rows x 24 columns]"
      ]
     },
     "execution_count": 35,
     "metadata": {},
     "output_type": "execute_result"
    }
   ],
   "source": [
    "print(f\"Count of dropped: {counter_of_dropped_data}.\\n Percentage: {counter_of_dropped_data / session_size * 100:.4f}%\")\n",
    "session"
   ]
  },
  {
   "cell_type": "markdown",
   "id": "765cc4e0",
   "metadata": {},
   "source": [
    "### DUPLICATES PROBLEMS"
   ]
  },
  {
   "cell_type": "code",
   "execution_count": 36,
   "id": "6f2f8aef",
   "metadata": {},
   "outputs": [],
   "source": [
    "duplicates_session_count = session.apply(lambda x: x.duplicated().sum())\n",
    "#duplicates_session_count"
   ]
  },
  {
   "cell_type": "code",
   "execution_count": 37,
   "id": "09918ae9",
   "metadata": {},
   "outputs": [],
   "source": [
    "session = session.drop_duplicates(keep='first')\n",
    "#session"
   ]
  },
  {
   "cell_type": "markdown",
   "id": "e955ecc8",
   "metadata": {},
   "source": [
    "### RESULT :"
   ]
  },
  {
   "cell_type": "code",
   "execution_count": 38,
   "id": "94abb3e2",
   "metadata": {},
   "outputs": [
    {
     "data": {
      "text/html": [
       "<div>\n",
       "<style scoped>\n",
       "    .dataframe tbody tr th:only-of-type {\n",
       "        vertical-align: middle;\n",
       "    }\n",
       "\n",
       "    .dataframe tbody tr th {\n",
       "        vertical-align: top;\n",
       "    }\n",
       "\n",
       "    .dataframe thead th {\n",
       "        text-align: right;\n",
       "    }\n",
       "</style>\n",
       "<table border=\"1\" class=\"dataframe\">\n",
       "  <thead>\n",
       "    <tr style=\"text-align: right;\">\n",
       "      <th></th>\n",
       "      <th>pct_mouse_click</th>\n",
       "      <th>total_load_time</th>\n",
       "      <th>mouse_move_total_rel_distance</th>\n",
       "      <th>session_start</th>\n",
       "      <th>session_id</th>\n",
       "      <th>ack</th>\n",
       "      <th>pct_click</th>\n",
       "      <th>browser_name</th>\n",
       "      <th>pct_mouse_move</th>\n",
       "      <th>pct_click_product_info</th>\n",
       "      <th>...</th>\n",
       "      <th>pct_rage_click</th>\n",
       "      <th>scroll_move_total_rel_distance</th>\n",
       "      <th>user_id</th>\n",
       "      <th>pct_input</th>\n",
       "      <th>pct_doubleclick</th>\n",
       "      <th>product_ean</th>\n",
       "      <th>pct_scroll_move</th>\n",
       "      <th>pct_wild_mouse</th>\n",
       "      <th>wild_mouse_duration</th>\n",
       "      <th>screen_resolution</th>\n",
       "    </tr>\n",
       "  </thead>\n",
       "  <tbody>\n",
       "    <tr>\n",
       "      <th>0</th>\n",
       "      <td>6.76035</td>\n",
       "      <td>15.00632</td>\n",
       "      <td>7.91611</td>\n",
       "      <td>2023-07-06 00:59:11</td>\n",
       "      <td>719775</td>\n",
       "      <td>0.0</td>\n",
       "      <td>6.95057</td>\n",
       "      <td>opera</td>\n",
       "      <td>6.03169</td>\n",
       "      <td>50.59959</td>\n",
       "      <td>...</td>\n",
       "      <td>27.21166</td>\n",
       "      <td>6.09851</td>\n",
       "      <td>868</td>\n",
       "      <td>1.95647</td>\n",
       "      <td>6.97834</td>\n",
       "      <td>248099568029</td>\n",
       "      <td>44.03202</td>\n",
       "      <td>46.68163</td>\n",
       "      <td>10.74376</td>\n",
       "      <td>lower x 1080</td>\n",
       "    </tr>\n",
       "    <tr>\n",
       "      <th>1</th>\n",
       "      <td>6.75326</td>\n",
       "      <td>5.53722</td>\n",
       "      <td>8.14337</td>\n",
       "      <td>2019-02-13 15:46:33</td>\n",
       "      <td>1194424</td>\n",
       "      <td>0.0</td>\n",
       "      <td>7.19415</td>\n",
       "      <td>edge</td>\n",
       "      <td>5.84443</td>\n",
       "      <td>49.93366</td>\n",
       "      <td>...</td>\n",
       "      <td>47.46144</td>\n",
       "      <td>5.79315</td>\n",
       "      <td>1959</td>\n",
       "      <td>0.36497</td>\n",
       "      <td>5.14403</td>\n",
       "      <td>7111799508394</td>\n",
       "      <td>41.13195</td>\n",
       "      <td>66.42266</td>\n",
       "      <td>8.70608</td>\n",
       "      <td>lower x 768</td>\n",
       "    </tr>\n",
       "    <tr>\n",
       "      <th>2</th>\n",
       "      <td>9.09710</td>\n",
       "      <td>6.81720</td>\n",
       "      <td>6.52434</td>\n",
       "      <td>2019-06-15 19:33:59</td>\n",
       "      <td>335521</td>\n",
       "      <td>1.0</td>\n",
       "      <td>9.56752</td>\n",
       "      <td>chrome</td>\n",
       "      <td>8.75647</td>\n",
       "      <td>32.96224</td>\n",
       "      <td>...</td>\n",
       "      <td>45.16742</td>\n",
       "      <td>9.26782</td>\n",
       "      <td>1587</td>\n",
       "      <td>0.15159</td>\n",
       "      <td>10.58422</td>\n",
       "      <td>2755517198198</td>\n",
       "      <td>53.76225</td>\n",
       "      <td>49.90523</td>\n",
       "      <td>7.34936</td>\n",
       "      <td>1280 x 1080</td>\n",
       "    </tr>\n",
       "    <tr>\n",
       "      <th>3</th>\n",
       "      <td>4.85419</td>\n",
       "      <td>3.92631</td>\n",
       "      <td>7.87990</td>\n",
       "      <td>2022-09-22 07:44:05</td>\n",
       "      <td>1144426</td>\n",
       "      <td>1.0</td>\n",
       "      <td>7.21841</td>\n",
       "      <td>mobile</td>\n",
       "      <td>5.68521</td>\n",
       "      <td>56.01077</td>\n",
       "      <td>...</td>\n",
       "      <td>51.15321</td>\n",
       "      <td>12.26355</td>\n",
       "      <td>2476</td>\n",
       "      <td>0.10660</td>\n",
       "      <td>9.54298</td>\n",
       "      <td>4511971237235</td>\n",
       "      <td>56.00922</td>\n",
       "      <td>41.36312</td>\n",
       "      <td>6.19937</td>\n",
       "      <td>1366 x 1024</td>\n",
       "    </tr>\n",
       "    <tr>\n",
       "      <th>4</th>\n",
       "      <td>6.10629</td>\n",
       "      <td>1.60295</td>\n",
       "      <td>8.34195</td>\n",
       "      <td>2019-12-26 10:34:30</td>\n",
       "      <td>1119598</td>\n",
       "      <td>0.0</td>\n",
       "      <td>7.92838</td>\n",
       "      <td>edge</td>\n",
       "      <td>7.76429</td>\n",
       "      <td>36.39425</td>\n",
       "      <td>...</td>\n",
       "      <td>55.01870</td>\n",
       "      <td>11.45785</td>\n",
       "      <td>16</td>\n",
       "      <td>0.88883</td>\n",
       "      <td>10.05772</td>\n",
       "      <td>8377930285275</td>\n",
       "      <td>62.92456</td>\n",
       "      <td>57.14864</td>\n",
       "      <td>9.85068</td>\n",
       "      <td>1024 x higher</td>\n",
       "    </tr>\n",
       "    <tr>\n",
       "      <th>...</th>\n",
       "      <td>...</td>\n",
       "      <td>...</td>\n",
       "      <td>...</td>\n",
       "      <td>...</td>\n",
       "      <td>...</td>\n",
       "      <td>...</td>\n",
       "      <td>...</td>\n",
       "      <td>...</td>\n",
       "      <td>...</td>\n",
       "      <td>...</td>\n",
       "      <td>...</td>\n",
       "      <td>...</td>\n",
       "      <td>...</td>\n",
       "      <td>...</td>\n",
       "      <td>...</td>\n",
       "      <td>...</td>\n",
       "      <td>...</td>\n",
       "      <td>...</td>\n",
       "      <td>...</td>\n",
       "      <td>...</td>\n",
       "      <td>...</td>\n",
       "    </tr>\n",
       "    <tr>\n",
       "      <th>10786</th>\n",
       "      <td>7.51957</td>\n",
       "      <td>3.00637</td>\n",
       "      <td>7.02760</td>\n",
       "      <td>2022-04-17 11:26:23</td>\n",
       "      <td>424834</td>\n",
       "      <td>1.0</td>\n",
       "      <td>8.77933</td>\n",
       "      <td>edge</td>\n",
       "      <td>10.04616</td>\n",
       "      <td>78.76740</td>\n",
       "      <td>...</td>\n",
       "      <td>31.46144</td>\n",
       "      <td>9.95534</td>\n",
       "      <td>2206</td>\n",
       "      <td>0.76442</td>\n",
       "      <td>5.51938</td>\n",
       "      <td>9072355322039</td>\n",
       "      <td>41.86458</td>\n",
       "      <td>70.24703</td>\n",
       "      <td>9.79886</td>\n",
       "      <td>higher x 1080</td>\n",
       "    </tr>\n",
       "    <tr>\n",
       "      <th>10787</th>\n",
       "      <td>8.90701</td>\n",
       "      <td>3.24156</td>\n",
       "      <td>8.19275</td>\n",
       "      <td>2021-07-17 19:12:18</td>\n",
       "      <td>891391</td>\n",
       "      <td>1.0</td>\n",
       "      <td>8.86332</td>\n",
       "      <td>safari</td>\n",
       "      <td>9.86641</td>\n",
       "      <td>43.71919</td>\n",
       "      <td>...</td>\n",
       "      <td>49.90961</td>\n",
       "      <td>10.34860</td>\n",
       "      <td>681</td>\n",
       "      <td>0.08068</td>\n",
       "      <td>9.30304</td>\n",
       "      <td>2632912096956</td>\n",
       "      <td>47.04046</td>\n",
       "      <td>79.22789</td>\n",
       "      <td>5.91648</td>\n",
       "      <td>1366 x higher</td>\n",
       "    </tr>\n",
       "    <tr>\n",
       "      <th>10789</th>\n",
       "      <td>12.62420</td>\n",
       "      <td>6.86250</td>\n",
       "      <td>8.03572</td>\n",
       "      <td>2019-06-18 14:13:21</td>\n",
       "      <td>644898</td>\n",
       "      <td>1.0</td>\n",
       "      <td>11.54376</td>\n",
       "      <td>mobile</td>\n",
       "      <td>11.46814</td>\n",
       "      <td>44.09592</td>\n",
       "      <td>...</td>\n",
       "      <td>35.09946</td>\n",
       "      <td>7.35456</td>\n",
       "      <td>1688</td>\n",
       "      <td>0.10712</td>\n",
       "      <td>9.25177</td>\n",
       "      <td>144629156509</td>\n",
       "      <td>55.18118</td>\n",
       "      <td>63.97125</td>\n",
       "      <td>3.45022</td>\n",
       "      <td>1024 x 768</td>\n",
       "    </tr>\n",
       "    <tr>\n",
       "      <th>10790</th>\n",
       "      <td>6.78625</td>\n",
       "      <td>3.70992</td>\n",
       "      <td>8.78765</td>\n",
       "      <td>2020-03-23 08:11:59</td>\n",
       "      <td>720161</td>\n",
       "      <td>1.0</td>\n",
       "      <td>4.38175</td>\n",
       "      <td>chrome</td>\n",
       "      <td>9.94778</td>\n",
       "      <td>60.98057</td>\n",
       "      <td>...</td>\n",
       "      <td>57.69495</td>\n",
       "      <td>8.65941</td>\n",
       "      <td>755</td>\n",
       "      <td>0.29624</td>\n",
       "      <td>4.01411</td>\n",
       "      <td>344747904604</td>\n",
       "      <td>49.92276</td>\n",
       "      <td>60.56904</td>\n",
       "      <td>8.45471</td>\n",
       "      <td>1920 x 800</td>\n",
       "    </tr>\n",
       "    <tr>\n",
       "      <th>10791</th>\n",
       "      <td>7.07958</td>\n",
       "      <td>6.72045</td>\n",
       "      <td>9.36633</td>\n",
       "      <td>2018-11-17 08:16:49</td>\n",
       "      <td>1071587</td>\n",
       "      <td>1.0</td>\n",
       "      <td>9.24425</td>\n",
       "      <td>chrome</td>\n",
       "      <td>9.20802</td>\n",
       "      <td>59.01873</td>\n",
       "      <td>...</td>\n",
       "      <td>31.02474</td>\n",
       "      <td>10.02871</td>\n",
       "      <td>1225</td>\n",
       "      <td>6.36579</td>\n",
       "      <td>6.67738</td>\n",
       "      <td>3867238836545</td>\n",
       "      <td>55.22194</td>\n",
       "      <td>57.79482</td>\n",
       "      <td>11.95888</td>\n",
       "      <td>1366 x 800</td>\n",
       "    </tr>\n",
       "  </tbody>\n",
       "</table>\n",
       "<p>10662 rows × 24 columns</p>\n",
       "</div>"
      ],
      "text/plain": [
       "       pct_mouse_click  total_load_time  mouse_move_total_rel_distance  \\\n",
       "0              6.76035         15.00632                        7.91611   \n",
       "1              6.75326          5.53722                        8.14337   \n",
       "2              9.09710          6.81720                        6.52434   \n",
       "3              4.85419          3.92631                        7.87990   \n",
       "4              6.10629          1.60295                        8.34195   \n",
       "...                ...              ...                            ...   \n",
       "10786          7.51957          3.00637                        7.02760   \n",
       "10787          8.90701          3.24156                        8.19275   \n",
       "10789         12.62420          6.86250                        8.03572   \n",
       "10790          6.78625          3.70992                        8.78765   \n",
       "10791          7.07958          6.72045                        9.36633   \n",
       "\n",
       "             session_start  session_id  ack  pct_click browser_name  \\\n",
       "0      2023-07-06 00:59:11      719775  0.0    6.95057        opera   \n",
       "1      2019-02-13 15:46:33     1194424  0.0    7.19415         edge   \n",
       "2      2019-06-15 19:33:59      335521  1.0    9.56752       chrome   \n",
       "3      2022-09-22 07:44:05     1144426  1.0    7.21841       mobile   \n",
       "4      2019-12-26 10:34:30     1119598  0.0    7.92838         edge   \n",
       "...                    ...         ...  ...        ...          ...   \n",
       "10786  2022-04-17 11:26:23      424834  1.0    8.77933         edge   \n",
       "10787  2021-07-17 19:12:18      891391  1.0    8.86332       safari   \n",
       "10789  2019-06-18 14:13:21      644898  1.0   11.54376       mobile   \n",
       "10790  2020-03-23 08:11:59      720161  1.0    4.38175       chrome   \n",
       "10791  2018-11-17 08:16:49     1071587  1.0    9.24425       chrome   \n",
       "\n",
       "       pct_mouse_move  pct_click_product_info  ...  pct_rage_click  \\\n",
       "0             6.03169                50.59959  ...        27.21166   \n",
       "1             5.84443                49.93366  ...        47.46144   \n",
       "2             8.75647                32.96224  ...        45.16742   \n",
       "3             5.68521                56.01077  ...        51.15321   \n",
       "4             7.76429                36.39425  ...        55.01870   \n",
       "...               ...                     ...  ...             ...   \n",
       "10786        10.04616                78.76740  ...        31.46144   \n",
       "10787         9.86641                43.71919  ...        49.90961   \n",
       "10789        11.46814                44.09592  ...        35.09946   \n",
       "10790         9.94778                60.98057  ...        57.69495   \n",
       "10791         9.20802                59.01873  ...        31.02474   \n",
       "\n",
       "       scroll_move_total_rel_distance  user_id  pct_input  pct_doubleclick  \\\n",
       "0                             6.09851      868    1.95647          6.97834   \n",
       "1                             5.79315     1959    0.36497          5.14403   \n",
       "2                             9.26782     1587    0.15159         10.58422   \n",
       "3                            12.26355     2476    0.10660          9.54298   \n",
       "4                            11.45785       16    0.88883         10.05772   \n",
       "...                               ...      ...        ...              ...   \n",
       "10786                         9.95534     2206    0.76442          5.51938   \n",
       "10787                        10.34860      681    0.08068          9.30304   \n",
       "10789                         7.35456     1688    0.10712          9.25177   \n",
       "10790                         8.65941      755    0.29624          4.01411   \n",
       "10791                        10.02871     1225    6.36579          6.67738   \n",
       "\n",
       "         product_ean  pct_scroll_move  pct_wild_mouse  wild_mouse_duration  \\\n",
       "0       248099568029         44.03202        46.68163             10.74376   \n",
       "1      7111799508394         41.13195        66.42266              8.70608   \n",
       "2      2755517198198         53.76225        49.90523              7.34936   \n",
       "3      4511971237235         56.00922        41.36312              6.19937   \n",
       "4      8377930285275         62.92456        57.14864              9.85068   \n",
       "...              ...              ...             ...                  ...   \n",
       "10786  9072355322039         41.86458        70.24703              9.79886   \n",
       "10787  2632912096956         47.04046        79.22789              5.91648   \n",
       "10789   144629156509         55.18118        63.97125              3.45022   \n",
       "10790   344747904604         49.92276        60.56904              8.45471   \n",
       "10791  3867238836545         55.22194        57.79482             11.95888   \n",
       "\n",
       "       screen_resolution  \n",
       "0           lower x 1080  \n",
       "1            lower x 768  \n",
       "2            1280 x 1080  \n",
       "3            1366 x 1024  \n",
       "4          1024 x higher  \n",
       "...                  ...  \n",
       "10786      higher x 1080  \n",
       "10787      1366 x higher  \n",
       "10789         1024 x 768  \n",
       "10790         1920 x 800  \n",
       "10791         1366 x 800  \n",
       "\n",
       "[10662 rows x 24 columns]"
      ]
     },
     "execution_count": 38,
     "metadata": {},
     "output_type": "execute_result"
    }
   ],
   "source": [
    "session"
   ]
  },
  {
   "cell_type": "markdown",
   "id": "7c09ba47",
   "metadata": {},
   "source": [
    "## PRODUCT ALALYSING"
   ]
  },
  {
   "cell_type": "code",
   "execution_count": 39,
   "id": "c910afb0",
   "metadata": {},
   "outputs": [
    {
     "data": {
      "text/html": [
       "<div>\n",
       "<style scoped>\n",
       "    .dataframe tbody tr th:only-of-type {\n",
       "        vertical-align: middle;\n",
       "    }\n",
       "\n",
       "    .dataframe tbody tr th {\n",
       "        vertical-align: top;\n",
       "    }\n",
       "\n",
       "    .dataframe thead th {\n",
       "        text-align: right;\n",
       "    }\n",
       "</style>\n",
       "<table border=\"1\" class=\"dataframe\">\n",
       "  <thead>\n",
       "    <tr style=\"text-align: right;\">\n",
       "      <th></th>\n",
       "      <th>product_ean</th>\n",
       "      <th>code</th>\n",
       "      <th>store_name</th>\n",
       "      <th>location</th>\n",
       "    </tr>\n",
       "  </thead>\n",
       "  <tbody>\n",
       "    <tr>\n",
       "      <th>0</th>\n",
       "      <td>4309748882180</td>\n",
       "      <td>US</td>\n",
       "      <td>Tyler</td>\n",
       "      <td>America/Chicago</td>\n",
       "    </tr>\n",
       "    <tr>\n",
       "      <th>1</th>\n",
       "      <td>5851941655164</td>\n",
       "      <td>PK</td>\n",
       "      <td>Alipur</td>\n",
       "      <td>Asia/Karachi</td>\n",
       "    </tr>\n",
       "    <tr>\n",
       "      <th>2</th>\n",
       "      <td>5289124458231</td>\n",
       "      <td>MY</td>\n",
       "      <td>Kampung Ayer Molek</td>\n",
       "      <td>Asia/Kuala_Lumpur</td>\n",
       "    </tr>\n",
       "    <tr>\n",
       "      <th>3</th>\n",
       "      <td>6565130443652</td>\n",
       "      <td>US</td>\n",
       "      <td>Glendale</td>\n",
       "      <td>America/Los_Angeles</td>\n",
       "    </tr>\n",
       "    <tr>\n",
       "      <th>4</th>\n",
       "      <td>8081875346334</td>\n",
       "      <td>PH</td>\n",
       "      <td>Naga</td>\n",
       "      <td>Asia/Manila</td>\n",
       "    </tr>\n",
       "    <tr>\n",
       "      <th>...</th>\n",
       "      <td>...</td>\n",
       "      <td>...</td>\n",
       "      <td>...</td>\n",
       "      <td>...</td>\n",
       "    </tr>\n",
       "    <tr>\n",
       "      <th>14953</th>\n",
       "      <td>6077115675137</td>\n",
       "      <td>US</td>\n",
       "      <td>Fairview Heights</td>\n",
       "      <td>America/Chicago</td>\n",
       "    </tr>\n",
       "    <tr>\n",
       "      <th>14954</th>\n",
       "      <td>8549791867352</td>\n",
       "      <td>DE</td>\n",
       "      <td>Ehingen</td>\n",
       "      <td>Europe/Berlin</td>\n",
       "    </tr>\n",
       "    <tr>\n",
       "      <th>14955</th>\n",
       "      <td>8931618033734</td>\n",
       "      <td>RU</td>\n",
       "      <td>Tyoply Stan</td>\n",
       "      <td>Europe/Moscow</td>\n",
       "    </tr>\n",
       "    <tr>\n",
       "      <th>14956</th>\n",
       "      <td>3259372694448</td>\n",
       "      <td>RU</td>\n",
       "      <td>Mikhaylovka</td>\n",
       "      <td>Europe/Volgograd</td>\n",
       "    </tr>\n",
       "    <tr>\n",
       "      <th>14957</th>\n",
       "      <td>5448767175572</td>\n",
       "      <td>FR</td>\n",
       "      <td>Bar-le-Duc</td>\n",
       "      <td>Europe/Paris</td>\n",
       "    </tr>\n",
       "  </tbody>\n",
       "</table>\n",
       "<p>14958 rows × 4 columns</p>\n",
       "</div>"
      ],
      "text/plain": [
       "         product_ean code          store_name             location\n",
       "0      4309748882180   US               Tyler      America/Chicago\n",
       "1      5851941655164   PK              Alipur         Asia/Karachi\n",
       "2      5289124458231   MY  Kampung Ayer Molek    Asia/Kuala_Lumpur\n",
       "3      6565130443652   US            Glendale  America/Los_Angeles\n",
       "4      8081875346334   PH                Naga          Asia/Manila\n",
       "...              ...  ...                 ...                  ...\n",
       "14953  6077115675137   US    Fairview Heights      America/Chicago\n",
       "14954  8549791867352   DE             Ehingen        Europe/Berlin\n",
       "14955  8931618033734   RU         Tyoply Stan        Europe/Moscow\n",
       "14956  3259372694448   RU         Mikhaylovka     Europe/Volgograd\n",
       "14957  5448767175572   FR          Bar-le-Duc         Europe/Paris\n",
       "\n",
       "[14958 rows x 4 columns]"
      ]
     },
     "execution_count": 39,
     "metadata": {},
     "output_type": "execute_result"
    }
   ],
   "source": [
    "product"
   ]
  },
  {
   "cell_type": "code",
   "execution_count": 40,
   "id": "0d900799",
   "metadata": {},
   "outputs": [
    {
     "data": {
      "text/html": [
       "<div>\n",
       "<style scoped>\n",
       "    .dataframe tbody tr th:only-of-type {\n",
       "        vertical-align: middle;\n",
       "    }\n",
       "\n",
       "    .dataframe tbody tr th {\n",
       "        vertical-align: top;\n",
       "    }\n",
       "\n",
       "    .dataframe thead th {\n",
       "        text-align: right;\n",
       "    }\n",
       "</style>\n",
       "<table border=\"1\" class=\"dataframe\">\n",
       "  <thead>\n",
       "    <tr style=\"text-align: right;\">\n",
       "      <th></th>\n",
       "      <th>product_ean</th>\n",
       "      <th>code</th>\n",
       "      <th>region</th>\n",
       "      <th>city</th>\n",
       "    </tr>\n",
       "  </thead>\n",
       "  <tbody>\n",
       "    <tr>\n",
       "      <th>0</th>\n",
       "      <td>4309748882180</td>\n",
       "      <td>US</td>\n",
       "      <td>America</td>\n",
       "      <td>Chicago</td>\n",
       "    </tr>\n",
       "    <tr>\n",
       "      <th>1</th>\n",
       "      <td>5851941655164</td>\n",
       "      <td>PK</td>\n",
       "      <td>Asia</td>\n",
       "      <td>Karachi</td>\n",
       "    </tr>\n",
       "    <tr>\n",
       "      <th>2</th>\n",
       "      <td>5289124458231</td>\n",
       "      <td>MY</td>\n",
       "      <td>Asia</td>\n",
       "      <td>Kuala_Lumpur</td>\n",
       "    </tr>\n",
       "    <tr>\n",
       "      <th>3</th>\n",
       "      <td>6565130443652</td>\n",
       "      <td>US</td>\n",
       "      <td>America</td>\n",
       "      <td>Los_Angeles</td>\n",
       "    </tr>\n",
       "    <tr>\n",
       "      <th>4</th>\n",
       "      <td>8081875346334</td>\n",
       "      <td>PH</td>\n",
       "      <td>Asia</td>\n",
       "      <td>Manila</td>\n",
       "    </tr>\n",
       "    <tr>\n",
       "      <th>...</th>\n",
       "      <td>...</td>\n",
       "      <td>...</td>\n",
       "      <td>...</td>\n",
       "      <td>...</td>\n",
       "    </tr>\n",
       "    <tr>\n",
       "      <th>14953</th>\n",
       "      <td>6077115675137</td>\n",
       "      <td>US</td>\n",
       "      <td>America</td>\n",
       "      <td>Chicago</td>\n",
       "    </tr>\n",
       "    <tr>\n",
       "      <th>14954</th>\n",
       "      <td>8549791867352</td>\n",
       "      <td>DE</td>\n",
       "      <td>Europe</td>\n",
       "      <td>Berlin</td>\n",
       "    </tr>\n",
       "    <tr>\n",
       "      <th>14955</th>\n",
       "      <td>8931618033734</td>\n",
       "      <td>RU</td>\n",
       "      <td>Europe</td>\n",
       "      <td>Moscow</td>\n",
       "    </tr>\n",
       "    <tr>\n",
       "      <th>14956</th>\n",
       "      <td>3259372694448</td>\n",
       "      <td>RU</td>\n",
       "      <td>Europe</td>\n",
       "      <td>Volgograd</td>\n",
       "    </tr>\n",
       "    <tr>\n",
       "      <th>14957</th>\n",
       "      <td>5448767175572</td>\n",
       "      <td>FR</td>\n",
       "      <td>Europe</td>\n",
       "      <td>Paris</td>\n",
       "    </tr>\n",
       "  </tbody>\n",
       "</table>\n",
       "<p>14958 rows × 4 columns</p>\n",
       "</div>"
      ],
      "text/plain": [
       "         product_ean code   region          city\n",
       "0      4309748882180   US  America       Chicago\n",
       "1      5851941655164   PK     Asia       Karachi\n",
       "2      5289124458231   MY     Asia  Kuala_Lumpur\n",
       "3      6565130443652   US  America   Los_Angeles\n",
       "4      8081875346334   PH     Asia        Manila\n",
       "...              ...  ...      ...           ...\n",
       "14953  6077115675137   US  America       Chicago\n",
       "14954  8549791867352   DE   Europe        Berlin\n",
       "14955  8931618033734   RU   Europe        Moscow\n",
       "14956  3259372694448   RU   Europe     Volgograd\n",
       "14957  5448767175572   FR   Europe         Paris\n",
       "\n",
       "[14958 rows x 4 columns]"
      ]
     },
     "execution_count": 40,
     "metadata": {},
     "output_type": "execute_result"
    }
   ],
   "source": [
    "product[['region', 'city']] = product['location'].str.split('/', n=1, expand=True)\n",
    "product = product.drop(['store_name', 'location'], axis=1)\n",
    "product"
   ]
  },
  {
   "cell_type": "markdown",
   "id": "77757eba",
   "metadata": {},
   "source": [
    "### NAN PROBLEMS"
   ]
  },
  {
   "cell_type": "code",
   "execution_count": 41,
   "id": "3793336b",
   "metadata": {},
   "outputs": [
    {
     "data": {
      "text/plain": [
       "product_ean     0\n",
       "code           17\n",
       "region          0\n",
       "city            0\n",
       "dtype: int64"
      ]
     },
     "execution_count": 41,
     "metadata": {},
     "output_type": "execute_result"
    }
   ],
   "source": [
    "product.isna().sum()"
   ]
  },
  {
   "cell_type": "code",
   "execution_count": 42,
   "id": "ece92fcb",
   "metadata": {},
   "outputs": [
    {
     "data": {
      "text/html": [
       "<div>\n",
       "<style scoped>\n",
       "    .dataframe tbody tr th:only-of-type {\n",
       "        vertical-align: middle;\n",
       "    }\n",
       "\n",
       "    .dataframe tbody tr th {\n",
       "        vertical-align: top;\n",
       "    }\n",
       "\n",
       "    .dataframe thead th {\n",
       "        text-align: right;\n",
       "    }\n",
       "</style>\n",
       "<table border=\"1\" class=\"dataframe\">\n",
       "  <thead>\n",
       "    <tr style=\"text-align: right;\">\n",
       "      <th></th>\n",
       "      <th>product_ean</th>\n",
       "      <th>code</th>\n",
       "      <th>region</th>\n",
       "      <th>city</th>\n",
       "    </tr>\n",
       "  </thead>\n",
       "  <tbody>\n",
       "    <tr>\n",
       "      <th>0</th>\n",
       "      <td>4309748882180</td>\n",
       "      <td>US</td>\n",
       "      <td>America</td>\n",
       "      <td>Chicago</td>\n",
       "    </tr>\n",
       "    <tr>\n",
       "      <th>1</th>\n",
       "      <td>5851941655164</td>\n",
       "      <td>PK</td>\n",
       "      <td>Asia</td>\n",
       "      <td>Karachi</td>\n",
       "    </tr>\n",
       "    <tr>\n",
       "      <th>2</th>\n",
       "      <td>5289124458231</td>\n",
       "      <td>MY</td>\n",
       "      <td>Asia</td>\n",
       "      <td>Kuala_Lumpur</td>\n",
       "    </tr>\n",
       "    <tr>\n",
       "      <th>3</th>\n",
       "      <td>6565130443652</td>\n",
       "      <td>US</td>\n",
       "      <td>America</td>\n",
       "      <td>Los_Angeles</td>\n",
       "    </tr>\n",
       "    <tr>\n",
       "      <th>4</th>\n",
       "      <td>8081875346334</td>\n",
       "      <td>PH</td>\n",
       "      <td>Asia</td>\n",
       "      <td>Manila</td>\n",
       "    </tr>\n",
       "    <tr>\n",
       "      <th>...</th>\n",
       "      <td>...</td>\n",
       "      <td>...</td>\n",
       "      <td>...</td>\n",
       "      <td>...</td>\n",
       "    </tr>\n",
       "    <tr>\n",
       "      <th>14953</th>\n",
       "      <td>6077115675137</td>\n",
       "      <td>US</td>\n",
       "      <td>America</td>\n",
       "      <td>Chicago</td>\n",
       "    </tr>\n",
       "    <tr>\n",
       "      <th>14954</th>\n",
       "      <td>8549791867352</td>\n",
       "      <td>DE</td>\n",
       "      <td>Europe</td>\n",
       "      <td>Berlin</td>\n",
       "    </tr>\n",
       "    <tr>\n",
       "      <th>14955</th>\n",
       "      <td>8931618033734</td>\n",
       "      <td>RU</td>\n",
       "      <td>Europe</td>\n",
       "      <td>Moscow</td>\n",
       "    </tr>\n",
       "    <tr>\n",
       "      <th>14956</th>\n",
       "      <td>3259372694448</td>\n",
       "      <td>RU</td>\n",
       "      <td>Europe</td>\n",
       "      <td>Volgograd</td>\n",
       "    </tr>\n",
       "    <tr>\n",
       "      <th>14957</th>\n",
       "      <td>5448767175572</td>\n",
       "      <td>FR</td>\n",
       "      <td>Europe</td>\n",
       "      <td>Paris</td>\n",
       "    </tr>\n",
       "  </tbody>\n",
       "</table>\n",
       "<p>14941 rows × 4 columns</p>\n",
       "</div>"
      ],
      "text/plain": [
       "         product_ean code   region          city\n",
       "0      4309748882180   US  America       Chicago\n",
       "1      5851941655164   PK     Asia       Karachi\n",
       "2      5289124458231   MY     Asia  Kuala_Lumpur\n",
       "3      6565130443652   US  America   Los_Angeles\n",
       "4      8081875346334   PH     Asia        Manila\n",
       "...              ...  ...      ...           ...\n",
       "14953  6077115675137   US  America       Chicago\n",
       "14954  8549791867352   DE   Europe        Berlin\n",
       "14955  8931618033734   RU   Europe        Moscow\n",
       "14956  3259372694448   RU   Europe     Volgograd\n",
       "14957  5448767175572   FR   Europe         Paris\n",
       "\n",
       "[14941 rows x 4 columns]"
      ]
     },
     "execution_count": 42,
     "metadata": {},
     "output_type": "execute_result"
    }
   ],
   "source": [
    "product = product.dropna()\n",
    "product"
   ]
  },
  {
   "cell_type": "markdown",
   "id": "be847b39",
   "metadata": {},
   "source": [
    "### OUTLAYER PROBLEMS"
   ]
  },
  {
   "cell_type": "code",
   "execution_count": null,
   "id": "4b4edfd7",
   "metadata": {},
   "outputs": [],
   "source": []
  },
  {
   "cell_type": "markdown",
   "id": "7e27e29b",
   "metadata": {},
   "source": [
    "### DUPLICATES PROBLEMS"
   ]
  },
  {
   "cell_type": "code",
   "execution_count": 43,
   "id": "1575f872",
   "metadata": {},
   "outputs": [],
   "source": [
    "product = product.drop_duplicates(keep='first')"
   ]
  },
  {
   "cell_type": "code",
   "execution_count": 44,
   "id": "6b9ff4ae",
   "metadata": {},
   "outputs": [
    {
     "data": {
      "text/plain": [
       "0"
      ]
     },
     "execution_count": 44,
     "metadata": {},
     "output_type": "execute_result"
    }
   ],
   "source": [
    "product['product_ean'].duplicated().sum()"
   ]
  },
  {
   "cell_type": "code",
   "execution_count": 45,
   "id": "0fa6fb33",
   "metadata": {},
   "outputs": [
    {
     "data": {
      "text/plain": [
       "array(['America', 'Asia', 'Europe', 'Africa', 'Australia', 'Pacific',\n",
       "       'Atlantic', 'Indian'], dtype=object)"
      ]
     },
     "execution_count": 45,
     "metadata": {},
     "output_type": "execute_result"
    }
   ],
   "source": [
    "product['region'].duplicated().sum()\n",
    "uniq_reg = product['region'].unique()\n",
    "uniq_reg"
   ]
  },
  {
   "cell_type": "code",
   "execution_count": 46,
   "id": "7f2f79ea",
   "metadata": {},
   "outputs": [
    {
     "data": {
      "text/html": [
       "<div>\n",
       "<style scoped>\n",
       "    .dataframe tbody tr th:only-of-type {\n",
       "        vertical-align: middle;\n",
       "    }\n",
       "\n",
       "    .dataframe tbody tr th {\n",
       "        vertical-align: top;\n",
       "    }\n",
       "\n",
       "    .dataframe thead th {\n",
       "        text-align: right;\n",
       "    }\n",
       "</style>\n",
       "<table border=\"1\" class=\"dataframe\">\n",
       "  <thead>\n",
       "    <tr style=\"text-align: right;\">\n",
       "      <th></th>\n",
       "      <th>product_ean</th>\n",
       "      <th>code</th>\n",
       "      <th>region</th>\n",
       "      <th>city</th>\n",
       "    </tr>\n",
       "  </thead>\n",
       "  <tbody>\n",
       "    <tr>\n",
       "      <th>35</th>\n",
       "      <td>1920866758589</td>\n",
       "      <td>NZ</td>\n",
       "      <td>Pacific</td>\n",
       "      <td>Auckland</td>\n",
       "    </tr>\n",
       "    <tr>\n",
       "      <th>155</th>\n",
       "      <td>6059445329478</td>\n",
       "      <td>US</td>\n",
       "      <td>Pacific</td>\n",
       "      <td>Honolulu</td>\n",
       "    </tr>\n",
       "    <tr>\n",
       "      <th>233</th>\n",
       "      <td>3614297309547</td>\n",
       "      <td>PG</td>\n",
       "      <td>Pacific</td>\n",
       "      <td>Port_Moresby</td>\n",
       "    </tr>\n",
       "    <tr>\n",
       "      <th>326</th>\n",
       "      <td>7737036803567</td>\n",
       "      <td>PG</td>\n",
       "      <td>Pacific</td>\n",
       "      <td>Port_Moresby</td>\n",
       "    </tr>\n",
       "    <tr>\n",
       "      <th>472</th>\n",
       "      <td>4172859785264</td>\n",
       "      <td>NZ</td>\n",
       "      <td>Pacific</td>\n",
       "      <td>Auckland</td>\n",
       "    </tr>\n",
       "    <tr>\n",
       "      <th>...</th>\n",
       "      <td>...</td>\n",
       "      <td>...</td>\n",
       "      <td>...</td>\n",
       "      <td>...</td>\n",
       "    </tr>\n",
       "    <tr>\n",
       "      <th>14289</th>\n",
       "      <td>8301916139047</td>\n",
       "      <td>NZ</td>\n",
       "      <td>Pacific</td>\n",
       "      <td>Auckland</td>\n",
       "    </tr>\n",
       "    <tr>\n",
       "      <th>14404</th>\n",
       "      <td>6407588828219</td>\n",
       "      <td>PG</td>\n",
       "      <td>Pacific</td>\n",
       "      <td>Port_Moresby</td>\n",
       "    </tr>\n",
       "    <tr>\n",
       "      <th>14427</th>\n",
       "      <td>4981889226957</td>\n",
       "      <td>PG</td>\n",
       "      <td>Pacific</td>\n",
       "      <td>Port_Moresby</td>\n",
       "    </tr>\n",
       "    <tr>\n",
       "      <th>14512</th>\n",
       "      <td>4617494512528</td>\n",
       "      <td>US</td>\n",
       "      <td>Pacific</td>\n",
       "      <td>Honolulu</td>\n",
       "    </tr>\n",
       "    <tr>\n",
       "      <th>14667</th>\n",
       "      <td>4255216139341</td>\n",
       "      <td>US</td>\n",
       "      <td>Pacific</td>\n",
       "      <td>Honolulu</td>\n",
       "    </tr>\n",
       "  </tbody>\n",
       "</table>\n",
       "<p>61 rows × 4 columns</p>\n",
       "</div>"
      ],
      "text/plain": [
       "         product_ean code   region          city\n",
       "35     1920866758589   NZ  Pacific      Auckland\n",
       "155    6059445329478   US  Pacific      Honolulu\n",
       "233    3614297309547   PG  Pacific  Port_Moresby\n",
       "326    7737036803567   PG  Pacific  Port_Moresby\n",
       "472    4172859785264   NZ  Pacific      Auckland\n",
       "...              ...  ...      ...           ...\n",
       "14289  8301916139047   NZ  Pacific      Auckland\n",
       "14404  6407588828219   PG  Pacific  Port_Moresby\n",
       "14427  4981889226957   PG  Pacific  Port_Moresby\n",
       "14512  4617494512528   US  Pacific      Honolulu\n",
       "14667  4255216139341   US  Pacific      Honolulu\n",
       "\n",
       "[61 rows x 4 columns]"
      ]
     },
     "execution_count": 46,
     "metadata": {},
     "output_type": "execute_result"
    }
   ],
   "source": [
    "matching_rows = product[product['region'] == 'Pacific']\n",
    "matching_rows"
   ]
  },
  {
   "cell_type": "code",
   "execution_count": 47,
   "id": "84169462",
   "metadata": {},
   "outputs": [
    {
     "data": {
      "text/plain": [
       "<Axes: xlabel='region', ylabel='Count'>"
      ]
     },
     "execution_count": 47,
     "metadata": {},
     "output_type": "execute_result"
    },
    {
     "data": {
      "image/png": "[encoded data removed]",
      "text/plain": [
       "<Figure size 640x480 with 1 Axes>"
      ]
     },
     "metadata": {},
     "output_type": "display_data"
    }
   ],
   "source": [
    "sns.histplot(product['region'])"
   ]
  },
  {
   "cell_type": "code",
   "execution_count": 48,
   "id": "43c64190",
   "metadata": {},
   "outputs": [
    {
     "name": "stdout",
     "output_type": "stream",
     "text": [
      "America: 4373 times.\n",
      "Asia: 4329 times.\n",
      "Europe: 4474 times.\n",
      "Africa: 1376 times.\n",
      "Australia: 210 times.\n",
      "Pacific: 61 times.\n",
      "Atlantic: 38 times.\n",
      "Indian: 80 times.\n"
     ]
    }
   ],
   "source": [
    "def check_count_of_region_attr(region):\n",
    "    attribute_counts = product['region'].value_counts()\n",
    "    count_of_defined_attribute = attribute_counts.get(region, 0)\n",
    "    return f\"{region}: {count_of_defined_attribute} times.\"\n",
    "\n",
    "for region in uniq_reg:\n",
    "    print(check_count_of_region_attr(region))"
   ]
  },
  {
   "cell_type": "markdown",
   "id": "a45027b8",
   "metadata": {},
   "source": [
    "### RESULT :"
   ]
  },
  {
   "cell_type": "code",
   "execution_count": 49,
   "id": "eccc6361",
   "metadata": {},
   "outputs": [
    {
     "data": {
      "text/html": [
       "<div>\n",
       "<style scoped>\n",
       "    .dataframe tbody tr th:only-of-type {\n",
       "        vertical-align: middle;\n",
       "    }\n",
       "\n",
       "    .dataframe tbody tr th {\n",
       "        vertical-align: top;\n",
       "    }\n",
       "\n",
       "    .dataframe thead th {\n",
       "        text-align: right;\n",
       "    }\n",
       "</style>\n",
       "<table border=\"1\" class=\"dataframe\">\n",
       "  <thead>\n",
       "    <tr style=\"text-align: right;\">\n",
       "      <th></th>\n",
       "      <th>product_ean</th>\n",
       "      <th>code</th>\n",
       "      <th>region</th>\n",
       "      <th>city</th>\n",
       "    </tr>\n",
       "  </thead>\n",
       "  <tbody>\n",
       "    <tr>\n",
       "      <th>0</th>\n",
       "      <td>4309748882180</td>\n",
       "      <td>US</td>\n",
       "      <td>America</td>\n",
       "      <td>Chicago</td>\n",
       "    </tr>\n",
       "    <tr>\n",
       "      <th>1</th>\n",
       "      <td>5851941655164</td>\n",
       "      <td>PK</td>\n",
       "      <td>Asia</td>\n",
       "      <td>Karachi</td>\n",
       "    </tr>\n",
       "    <tr>\n",
       "      <th>2</th>\n",
       "      <td>5289124458231</td>\n",
       "      <td>MY</td>\n",
       "      <td>Asia</td>\n",
       "      <td>Kuala_Lumpur</td>\n",
       "    </tr>\n",
       "    <tr>\n",
       "      <th>3</th>\n",
       "      <td>6565130443652</td>\n",
       "      <td>US</td>\n",
       "      <td>America</td>\n",
       "      <td>Los_Angeles</td>\n",
       "    </tr>\n",
       "    <tr>\n",
       "      <th>4</th>\n",
       "      <td>8081875346334</td>\n",
       "      <td>PH</td>\n",
       "      <td>Asia</td>\n",
       "      <td>Manila</td>\n",
       "    </tr>\n",
       "    <tr>\n",
       "      <th>...</th>\n",
       "      <td>...</td>\n",
       "      <td>...</td>\n",
       "      <td>...</td>\n",
       "      <td>...</td>\n",
       "    </tr>\n",
       "    <tr>\n",
       "      <th>14953</th>\n",
       "      <td>6077115675137</td>\n",
       "      <td>US</td>\n",
       "      <td>America</td>\n",
       "      <td>Chicago</td>\n",
       "    </tr>\n",
       "    <tr>\n",
       "      <th>14954</th>\n",
       "      <td>8549791867352</td>\n",
       "      <td>DE</td>\n",
       "      <td>Europe</td>\n",
       "      <td>Berlin</td>\n",
       "    </tr>\n",
       "    <tr>\n",
       "      <th>14955</th>\n",
       "      <td>8931618033734</td>\n",
       "      <td>RU</td>\n",
       "      <td>Europe</td>\n",
       "      <td>Moscow</td>\n",
       "    </tr>\n",
       "    <tr>\n",
       "      <th>14956</th>\n",
       "      <td>3259372694448</td>\n",
       "      <td>RU</td>\n",
       "      <td>Europe</td>\n",
       "      <td>Volgograd</td>\n",
       "    </tr>\n",
       "    <tr>\n",
       "      <th>14957</th>\n",
       "      <td>5448767175572</td>\n",
       "      <td>FR</td>\n",
       "      <td>Europe</td>\n",
       "      <td>Paris</td>\n",
       "    </tr>\n",
       "  </tbody>\n",
       "</table>\n",
       "<p>14941 rows × 4 columns</p>\n",
       "</div>"
      ],
      "text/plain": [
       "         product_ean code   region          city\n",
       "0      4309748882180   US  America       Chicago\n",
       "1      5851941655164   PK     Asia       Karachi\n",
       "2      5289124458231   MY     Asia  Kuala_Lumpur\n",
       "3      6565130443652   US  America   Los_Angeles\n",
       "4      8081875346334   PH     Asia        Manila\n",
       "...              ...  ...      ...           ...\n",
       "14953  6077115675137   US  America       Chicago\n",
       "14954  8549791867352   DE   Europe        Berlin\n",
       "14955  8931618033734   RU   Europe        Moscow\n",
       "14956  3259372694448   RU   Europe     Volgograd\n",
       "14957  5448767175572   FR   Europe         Paris\n",
       "\n",
       "[14941 rows x 4 columns]"
      ]
     },
     "execution_count": 49,
     "metadata": {},
     "output_type": "execute_result"
    }
   ],
   "source": [
    "product"
   ]
  },
  {
   "cell_type": "markdown",
   "id": "7d7418c1",
   "metadata": {},
   "source": [
    "## CONCLUSION. WHAT WAS CHANGED?"
   ]
  },
  {
   "cell_type": "code",
   "execution_count": 50,
   "id": "c9654616",
   "metadata": {},
   "outputs": [],
   "source": [
    "user_start = pd.read_csv(\"dataset_iau/user.csv\", sep='\\t')\n",
    "session_start = pd.read_csv(\"dataset_iau/session.csv\", sep='\\t')\n",
    "product_start = pd.read_csv(\"dataset_iau/product.csv\", sep='\\t')"
   ]
  },
  {
   "cell_type": "code",
   "execution_count": 51,
   "id": "38005a90",
   "metadata": {},
   "outputs": [
    {
     "data": {
      "text/html": [
       "<div>\n",
       "<style scoped>\n",
       "    .dataframe tbody tr th:only-of-type {\n",
       "        vertical-align: middle;\n",
       "    }\n",
       "\n",
       "    .dataframe tbody tr th {\n",
       "        vertical-align: top;\n",
       "    }\n",
       "\n",
       "    .dataframe thead th {\n",
       "        text-align: right;\n",
       "    }\n",
       "</style>\n",
       "<table border=\"1\" class=\"dataframe\">\n",
       "  <thead>\n",
       "    <tr style=\"text-align: right;\">\n",
       "      <th></th>\n",
       "      <th>residence</th>\n",
       "      <th>sex</th>\n",
       "      <th>username</th>\n",
       "      <th>user_id</th>\n",
       "      <th>address</th>\n",
       "      <th>birthdate</th>\n",
       "      <th>race</th>\n",
       "      <th>job</th>\n",
       "      <th>name</th>\n",
       "      <th>current_location</th>\n",
       "      <th>mail</th>\n",
       "    </tr>\n",
       "  </thead>\n",
       "  <tbody>\n",
       "    <tr>\n",
       "      <th>0</th>\n",
       "      <td>NaN</td>\n",
       "      <td>F</td>\n",
       "      <td>vigorellimatilda</td>\n",
       "      <td>295</td>\n",
       "      <td>Borgo Gelsomina, 3 Piano 9\\n12013, Chiusa Di P...</td>\n",
       "      <td>1917-03-25</td>\n",
       "      <td>NaN</td>\n",
       "      <td>NaN</td>\n",
       "      <td>Gemma Baracca</td>\n",
       "      <td>NaN</td>\n",
       "      <td>cesarecagnotto@tim.it</td>\n",
       "    </tr>\n",
       "    <tr>\n",
       "      <th>1</th>\n",
       "      <td>山口県立川市北上野40丁目24番4号 上野公園コーポ077</td>\n",
       "      <td>M</td>\n",
       "      <td>matsumotoasuka</td>\n",
       "      <td>298</td>\n",
       "      <td>三重県西東京市上広谷3丁目27番1号</td>\n",
       "      <td>NaN</td>\n",
       "      <td>NaN</td>\n",
       "      <td>演歌歌手</td>\n",
       "      <td>近藤 翼</td>\n",
       "      <td>(Decimal('44.4329015'), Decimal('-94.188145'))</td>\n",
       "      <td>nakajimaatsushi@yahoo.com</td>\n",
       "    </tr>\n",
       "    <tr>\n",
       "      <th>2</th>\n",
       "      <td>68187 Matthews Turnpike Suite 738\\nWhitebury, ...</td>\n",
       "      <td>F</td>\n",
       "      <td>debra19</td>\n",
       "      <td>591</td>\n",
       "      <td>63067 Jeffrey Village\\nEast Jeffrey, TX 08868</td>\n",
       "      <td>1985-05-21</td>\n",
       "      <td>white</td>\n",
       "      <td>Tourism officer</td>\n",
       "      <td>Belinda Harvey</td>\n",
       "      <td>(Decimal('17.674891'), Decimal('43.063751'))</td>\n",
       "      <td>kevindeleon@yahoo.com</td>\n",
       "    </tr>\n",
       "    <tr>\n",
       "      <th>3</th>\n",
       "      <td>Canale Majorana, 522\\n98168, Villaggio Annunzi...</td>\n",
       "      <td>NaN</td>\n",
       "      <td>udineseimelda</td>\n",
       "      <td>2538</td>\n",
       "      <td>NaN</td>\n",
       "      <td>2012-01-02</td>\n",
       "      <td>asian</td>\n",
       "      <td>NaN</td>\n",
       "      <td>Sig.ra Susanna Roero</td>\n",
       "      <td>(Decimal('-65.4578585'), Decimal('-162.734373'))</td>\n",
       "      <td>federicacaccioppoli@tele2.it</td>\n",
       "    </tr>\n",
       "    <tr>\n",
       "      <th>4</th>\n",
       "      <td>NaN</td>\n",
       "      <td>NaN</td>\n",
       "      <td>debra72</td>\n",
       "      <td>590</td>\n",
       "      <td>USCGC Kim\\nFPO AA 25581</td>\n",
       "      <td>NaN</td>\n",
       "      <td>white</td>\n",
       "      <td>NaN</td>\n",
       "      <td>Deborah Larson</td>\n",
       "      <td>(Decimal('-67.907028'), Decimal('-104.061594'))</td>\n",
       "      <td>stevendavis@yahoo.com</td>\n",
       "    </tr>\n",
       "  </tbody>\n",
       "</table>\n",
       "</div>"
      ],
      "text/plain": [
       "                                           residence  sex          username  \\\n",
       "0                                                NaN    F  vigorellimatilda   \n",
       "1                      山口県立川市北上野40丁目24番4号 上野公園コーポ077    M    matsumotoasuka   \n",
       "2  68187 Matthews Turnpike Suite 738\\nWhitebury, ...    F           debra19   \n",
       "3  Canale Majorana, 522\\n98168, Villaggio Annunzi...  NaN     udineseimelda   \n",
       "4                                                NaN  NaN           debra72   \n",
       "\n",
       "   user_id                                            address   birthdate  \\\n",
       "0      295  Borgo Gelsomina, 3 Piano 9\\n12013, Chiusa Di P...  1917-03-25   \n",
       "1      298                                 三重県西東京市上広谷3丁目27番1号         NaN   \n",
       "2      591      63067 Jeffrey Village\\nEast Jeffrey, TX 08868  1985-05-21   \n",
       "3     2538                                                NaN  2012-01-02   \n",
       "4      590                            USCGC Kim\\nFPO AA 25581         NaN   \n",
       "\n",
       "    race              job                  name  \\\n",
       "0    NaN              NaN         Gemma Baracca   \n",
       "1    NaN             演歌歌手                  近藤 翼   \n",
       "2  white  Tourism officer        Belinda Harvey   \n",
       "3  asian              NaN  Sig.ra Susanna Roero   \n",
       "4  white              NaN        Deborah Larson   \n",
       "\n",
       "                                   current_location  \\\n",
       "0                                               NaN   \n",
       "1    (Decimal('44.4329015'), Decimal('-94.188145'))   \n",
       "2      (Decimal('17.674891'), Decimal('43.063751'))   \n",
       "3  (Decimal('-65.4578585'), Decimal('-162.734373'))   \n",
       "4   (Decimal('-67.907028'), Decimal('-104.061594'))   \n",
       "\n",
       "                           mail  \n",
       "0         cesarecagnotto@tim.it  \n",
       "1     nakajimaatsushi@yahoo.com  \n",
       "2         kevindeleon@yahoo.com  \n",
       "3  federicacaccioppoli@tele2.it  \n",
       "4         stevendavis@yahoo.com  "
      ]
     },
     "execution_count": 51,
     "metadata": {},
     "output_type": "execute_result"
    }
   ],
   "source": [
    "user_start.head()"
   ]
  },
  {
   "cell_type": "code",
   "execution_count": 52,
   "id": "4dd735af",
   "metadata": {},
   "outputs": [
    {
     "name": "stdout",
     "output_type": "stream",
     "text": [
      "<class 'pandas.core.frame.DataFrame'>\n",
      "RangeIndex: 2542 entries, 0 to 2541\n",
      "Data columns (total 11 columns):\n",
      " #   Column            Non-Null Count  Dtype \n",
      "---  ------            --------------  ----- \n",
      " 0   residence         890 non-null    object\n",
      " 1   sex               1271 non-null   object\n",
      " 2   username          2542 non-null   object\n",
      " 3   user_id           2542 non-null   int64 \n",
      " 4   address           2161 non-null   object\n",
      " 5   birthdate         1398 non-null   object\n",
      " 6   race              763 non-null    object\n",
      " 7   job               1017 non-null   object\n",
      " 8   name              2542 non-null   object\n",
      " 9   current_location  2415 non-null   object\n",
      " 10  mail              2542 non-null   object\n",
      "dtypes: int64(1), object(10)\n",
      "memory usage: 218.6+ KB\n"
     ]
    }
   ],
   "source": [
    "user_start.info()"
   ]
  },
  {
   "cell_type": "code",
   "execution_count": 53,
   "id": "5d6e5a3c",
   "metadata": {},
   "outputs": [
    {
     "data": {
      "text/html": [
       "<div>\n",
       "<style scoped>\n",
       "    .dataframe tbody tr th:only-of-type {\n",
       "        vertical-align: middle;\n",
       "    }\n",
       "\n",
       "    .dataframe tbody tr th {\n",
       "        vertical-align: top;\n",
       "    }\n",
       "\n",
       "    .dataframe thead th {\n",
       "        text-align: right;\n",
       "    }\n",
       "</style>\n",
       "<table border=\"1\" class=\"dataframe\">\n",
       "  <thead>\n",
       "    <tr style=\"text-align: right;\">\n",
       "      <th></th>\n",
       "      <th>residence</th>\n",
       "      <th>sex</th>\n",
       "      <th>user_id</th>\n",
       "      <th>address</th>\n",
       "      <th>current_location</th>\n",
       "      <th>age</th>\n",
       "    </tr>\n",
       "  </thead>\n",
       "  <tbody>\n",
       "    <tr>\n",
       "      <th>0</th>\n",
       "      <td>NaN</td>\n",
       "      <td>F</td>\n",
       "      <td>295</td>\n",
       "      <td>Borgo Gelsomina, 3 Piano 9\\n12013, Chiusa Di P...</td>\n",
       "      <td>NaN</td>\n",
       "      <td>106.0</td>\n",
       "    </tr>\n",
       "    <tr>\n",
       "      <th>1</th>\n",
       "      <td>山口県立川市北上野40丁目24番4号 上野公園コーポ077</td>\n",
       "      <td>M</td>\n",
       "      <td>298</td>\n",
       "      <td>三重県西東京市上広谷3丁目27番1号</td>\n",
       "      <td>(Decimal('44.4329015'), Decimal('-94.188145'))</td>\n",
       "      <td>NaN</td>\n",
       "    </tr>\n",
       "    <tr>\n",
       "      <th>2</th>\n",
       "      <td>68187 Matthews Turnpike Suite 738\\nWhitebury, ...</td>\n",
       "      <td>F</td>\n",
       "      <td>591</td>\n",
       "      <td>63067 Jeffrey Village\\nEast Jeffrey, TX 08868</td>\n",
       "      <td>(Decimal('17.674891'), Decimal('43.063751'))</td>\n",
       "      <td>38.0</td>\n",
       "    </tr>\n",
       "    <tr>\n",
       "      <th>3</th>\n",
       "      <td>Canale Majorana, 522\\n98168, Villaggio Annunzi...</td>\n",
       "      <td>NaN</td>\n",
       "      <td>2538</td>\n",
       "      <td>NaN</td>\n",
       "      <td>(Decimal('-65.4578585'), Decimal('-162.734373'))</td>\n",
       "      <td>11.0</td>\n",
       "    </tr>\n",
       "    <tr>\n",
       "      <th>4</th>\n",
       "      <td>NaN</td>\n",
       "      <td>NaN</td>\n",
       "      <td>590</td>\n",
       "      <td>USCGC Kim\\nFPO AA 25581</td>\n",
       "      <td>(Decimal('-67.907028'), Decimal('-104.061594'))</td>\n",
       "      <td>NaN</td>\n",
       "    </tr>\n",
       "  </tbody>\n",
       "</table>\n",
       "</div>"
      ],
      "text/plain": [
       "                                           residence  sex  user_id  \\\n",
       "0                                                NaN    F      295   \n",
       "1                      山口県立川市北上野40丁目24番4号 上野公園コーポ077    M      298   \n",
       "2  68187 Matthews Turnpike Suite 738\\nWhitebury, ...    F      591   \n",
       "3  Canale Majorana, 522\\n98168, Villaggio Annunzi...  NaN     2538   \n",
       "4                                                NaN  NaN      590   \n",
       "\n",
       "                                             address  \\\n",
       "0  Borgo Gelsomina, 3 Piano 9\\n12013, Chiusa Di P...   \n",
       "1                                 三重県西東京市上広谷3丁目27番1号   \n",
       "2      63067 Jeffrey Village\\nEast Jeffrey, TX 08868   \n",
       "3                                                NaN   \n",
       "4                            USCGC Kim\\nFPO AA 25581   \n",
       "\n",
       "                                   current_location    age  \n",
       "0                                               NaN  106.0  \n",
       "1    (Decimal('44.4329015'), Decimal('-94.188145'))    NaN  \n",
       "2      (Decimal('17.674891'), Decimal('43.063751'))   38.0  \n",
       "3  (Decimal('-65.4578585'), Decimal('-162.734373'))   11.0  \n",
       "4   (Decimal('-67.907028'), Decimal('-104.061594'))    NaN  "
      ]
     },
     "execution_count": 53,
     "metadata": {},
     "output_type": "execute_result"
    }
   ],
   "source": [
    "user.head()"
   ]
  },
  {
   "cell_type": "code",
   "execution_count": 54,
   "id": "c6bccfd0",
   "metadata": {},
   "outputs": [
    {
     "name": "stdout",
     "output_type": "stream",
     "text": [
      "<class 'pandas.core.frame.DataFrame'>\n",
      "Index: 2467 entries, 0 to 2541\n",
      "Data columns (total 6 columns):\n",
      " #   Column            Non-Null Count  Dtype  \n",
      "---  ------            --------------  -----  \n",
      " 0   residence         888 non-null    object \n",
      " 1   sex               1267 non-null   object \n",
      " 2   user_id           2467 non-null   int64  \n",
      " 3   address           2141 non-null   object \n",
      " 4   current_location  2374 non-null   object \n",
      " 5   age               1393 non-null   float64\n",
      "dtypes: float64(1), int64(1), object(4)\n",
      "memory usage: 134.9+ KB\n"
     ]
    }
   ],
   "source": [
    "user.info()"
   ]
  },
  {
   "cell_type": "code",
   "execution_count": 55,
   "id": "5710ccdc",
   "metadata": {},
   "outputs": [
    {
     "data": {
      "text/html": [
       "<div>\n",
       "<style scoped>\n",
       "    .dataframe tbody tr th:only-of-type {\n",
       "        vertical-align: middle;\n",
       "    }\n",
       "\n",
       "    .dataframe tbody tr th {\n",
       "        vertical-align: top;\n",
       "    }\n",
       "\n",
       "    .dataframe thead th {\n",
       "        text-align: right;\n",
       "    }\n",
       "</style>\n",
       "<table border=\"1\" class=\"dataframe\">\n",
       "  <thead>\n",
       "    <tr style=\"text-align: right;\">\n",
       "      <th></th>\n",
       "      <th>pct_mouse_click</th>\n",
       "      <th>total_load_time</th>\n",
       "      <th>mouse_move_total_rel_distance</th>\n",
       "      <th>session_start</th>\n",
       "      <th>session_id</th>\n",
       "      <th>ack</th>\n",
       "      <th>screen_width</th>\n",
       "      <th>pct_click</th>\n",
       "      <th>browser_name</th>\n",
       "      <th>pct_mouse_move</th>\n",
       "      <th>...</th>\n",
       "      <th>pct_rage_click</th>\n",
       "      <th>scroll_move_total_rel_distance</th>\n",
       "      <th>user_id</th>\n",
       "      <th>screen_height</th>\n",
       "      <th>pct_input</th>\n",
       "      <th>pct_doubleclick</th>\n",
       "      <th>product_ean</th>\n",
       "      <th>pct_scroll_move</th>\n",
       "      <th>pct_wild_mouse</th>\n",
       "      <th>wild_mouse_duration</th>\n",
       "    </tr>\n",
       "  </thead>\n",
       "  <tbody>\n",
       "    <tr>\n",
       "      <th>0</th>\n",
       "      <td>6.76035</td>\n",
       "      <td>15.00632</td>\n",
       "      <td>7.91611</td>\n",
       "      <td>2023-07-06 00:59:11</td>\n",
       "      <td>719775</td>\n",
       "      <td>0.0</td>\n",
       "      <td>lower</td>\n",
       "      <td>6.95057</td>\n",
       "      <td>opera</td>\n",
       "      <td>6.03169</td>\n",
       "      <td>...</td>\n",
       "      <td>27.21166</td>\n",
       "      <td>6.09851</td>\n",
       "      <td>868</td>\n",
       "      <td>1080</td>\n",
       "      <td>1.95647</td>\n",
       "      <td>6.97834</td>\n",
       "      <td>248099568029</td>\n",
       "      <td>44.03202</td>\n",
       "      <td>46.68163</td>\n",
       "      <td>10.74376</td>\n",
       "    </tr>\n",
       "    <tr>\n",
       "      <th>1</th>\n",
       "      <td>5.46624</td>\n",
       "      <td>1.04290</td>\n",
       "      <td>8.84385</td>\n",
       "      <td>2021-01-17 05:46:46</td>\n",
       "      <td>92085</td>\n",
       "      <td>0.0</td>\n",
       "      <td>800</td>\n",
       "      <td>NaN</td>\n",
       "      <td>edge</td>\n",
       "      <td>6.70707</td>\n",
       "      <td>...</td>\n",
       "      <td>57.45350</td>\n",
       "      <td>9.70491</td>\n",
       "      <td>748</td>\n",
       "      <td>1080</td>\n",
       "      <td>2.29294</td>\n",
       "      <td>9.61049</td>\n",
       "      <td>6638480475311</td>\n",
       "      <td>29.28054</td>\n",
       "      <td>65.50466</td>\n",
       "      <td>10.91609</td>\n",
       "    </tr>\n",
       "    <tr>\n",
       "      <th>2</th>\n",
       "      <td>6.75326</td>\n",
       "      <td>5.53722</td>\n",
       "      <td>8.14337</td>\n",
       "      <td>2019-02-13 15:46:33</td>\n",
       "      <td>1194424</td>\n",
       "      <td>0.0</td>\n",
       "      <td>lower</td>\n",
       "      <td>7.19415</td>\n",
       "      <td>edge</td>\n",
       "      <td>5.84443</td>\n",
       "      <td>...</td>\n",
       "      <td>47.46144</td>\n",
       "      <td>5.79315</td>\n",
       "      <td>1959</td>\n",
       "      <td>768</td>\n",
       "      <td>0.36497</td>\n",
       "      <td>5.14403</td>\n",
       "      <td>7111799508394</td>\n",
       "      <td>41.13195</td>\n",
       "      <td>66.42266</td>\n",
       "      <td>8.70608</td>\n",
       "    </tr>\n",
       "    <tr>\n",
       "      <th>3</th>\n",
       "      <td>9.09710</td>\n",
       "      <td>6.81720</td>\n",
       "      <td>6.52434</td>\n",
       "      <td>2019-06-15 19:33:59</td>\n",
       "      <td>335521</td>\n",
       "      <td>1.0</td>\n",
       "      <td>1280</td>\n",
       "      <td>9.56752</td>\n",
       "      <td>chrome</td>\n",
       "      <td>8.75647</td>\n",
       "      <td>...</td>\n",
       "      <td>45.16742</td>\n",
       "      <td>9.26782</td>\n",
       "      <td>1587</td>\n",
       "      <td>1080</td>\n",
       "      <td>0.15159</td>\n",
       "      <td>10.58422</td>\n",
       "      <td>2755517198198</td>\n",
       "      <td>53.76225</td>\n",
       "      <td>49.90523</td>\n",
       "      <td>7.34936</td>\n",
       "    </tr>\n",
       "    <tr>\n",
       "      <th>4</th>\n",
       "      <td>4.85419</td>\n",
       "      <td>3.92631</td>\n",
       "      <td>7.87990</td>\n",
       "      <td>2022-09-22 07:44:05</td>\n",
       "      <td>1144426</td>\n",
       "      <td>1.0</td>\n",
       "      <td>1366</td>\n",
       "      <td>7.21841</td>\n",
       "      <td>mobile</td>\n",
       "      <td>5.68521</td>\n",
       "      <td>...</td>\n",
       "      <td>51.15321</td>\n",
       "      <td>12.26355</td>\n",
       "      <td>2476</td>\n",
       "      <td>1024</td>\n",
       "      <td>0.10660</td>\n",
       "      <td>9.54298</td>\n",
       "      <td>4511971237235</td>\n",
       "      <td>56.00922</td>\n",
       "      <td>41.36312</td>\n",
       "      <td>6.19937</td>\n",
       "    </tr>\n",
       "  </tbody>\n",
       "</table>\n",
       "<p>5 rows × 25 columns</p>\n",
       "</div>"
      ],
      "text/plain": [
       "   pct_mouse_click  total_load_time  mouse_move_total_rel_distance  \\\n",
       "0          6.76035         15.00632                        7.91611   \n",
       "1          5.46624          1.04290                        8.84385   \n",
       "2          6.75326          5.53722                        8.14337   \n",
       "3          9.09710          6.81720                        6.52434   \n",
       "4          4.85419          3.92631                        7.87990   \n",
       "\n",
       "         session_start  session_id  ack screen_width  pct_click browser_name  \\\n",
       "0  2023-07-06 00:59:11      719775  0.0        lower    6.95057        opera   \n",
       "1  2021-01-17 05:46:46       92085  0.0          800        NaN         edge   \n",
       "2  2019-02-13 15:46:33     1194424  0.0        lower    7.19415         edge   \n",
       "3  2019-06-15 19:33:59      335521  1.0         1280    9.56752       chrome   \n",
       "4  2022-09-22 07:44:05     1144426  1.0         1366    7.21841       mobile   \n",
       "\n",
       "   pct_mouse_move  ...  pct_rage_click  scroll_move_total_rel_distance  \\\n",
       "0         6.03169  ...        27.21166                         6.09851   \n",
       "1         6.70707  ...        57.45350                         9.70491   \n",
       "2         5.84443  ...        47.46144                         5.79315   \n",
       "3         8.75647  ...        45.16742                         9.26782   \n",
       "4         5.68521  ...        51.15321                        12.26355   \n",
       "\n",
       "   user_id  screen_height  pct_input  pct_doubleclick    product_ean  \\\n",
       "0      868           1080    1.95647          6.97834   248099568029   \n",
       "1      748           1080    2.29294          9.61049  6638480475311   \n",
       "2     1959            768    0.36497          5.14403  7111799508394   \n",
       "3     1587           1080    0.15159         10.58422  2755517198198   \n",
       "4     2476           1024    0.10660          9.54298  4511971237235   \n",
       "\n",
       "   pct_scroll_move pct_wild_mouse  wild_mouse_duration  \n",
       "0         44.03202       46.68163             10.74376  \n",
       "1         29.28054       65.50466             10.91609  \n",
       "2         41.13195       66.42266              8.70608  \n",
       "3         53.76225       49.90523              7.34936  \n",
       "4         56.00922       41.36312              6.19937  \n",
       "\n",
       "[5 rows x 25 columns]"
      ]
     },
     "execution_count": 55,
     "metadata": {},
     "output_type": "execute_result"
    }
   ],
   "source": [
    "session_start.head()"
   ]
  },
  {
   "cell_type": "code",
   "execution_count": 56,
   "id": "bd6cf745",
   "metadata": {},
   "outputs": [
    {
     "name": "stdout",
     "output_type": "stream",
     "text": [
      "<class 'pandas.core.frame.DataFrame'>\n",
      "RangeIndex: 11089 entries, 0 to 11088\n",
      "Data columns (total 25 columns):\n",
      " #   Column                          Non-Null Count  Dtype  \n",
      "---  ------                          --------------  -----  \n",
      " 0   pct_mouse_click                 11078 non-null  float64\n",
      " 1   total_load_time                 11089 non-null  float64\n",
      " 2   mouse_move_total_rel_distance   11078 non-null  float64\n",
      " 3   session_start                   11089 non-null  object \n",
      " 4   session_id                      11089 non-null  int64  \n",
      " 5   ack                             11089 non-null  float64\n",
      " 6   screen_width                    11089 non-null  object \n",
      " 7   pct_click                       11078 non-null  float64\n",
      " 8   browser_name                    11089 non-null  object \n",
      " 9   pct_mouse_move                  11078 non-null  float64\n",
      " 10  pct_click_product_info          11078 non-null  float64\n",
      " 11  pct_scroll_move_duration        11078 non-null  float64\n",
      " 12  pct_scrandom                    11078 non-null  float64\n",
      " 13  session_duration                11089 non-null  float64\n",
      " 14  page_activity_duration          11078 non-null  float64\n",
      " 15  pct_rage_click                  11078 non-null  float64\n",
      " 16  scroll_move_total_rel_distance  11078 non-null  float64\n",
      " 17  user_id                         11089 non-null  int64  \n",
      " 18  screen_height                   11089 non-null  object \n",
      " 19  pct_input                       11078 non-null  float64\n",
      " 20  pct_doubleclick                 11078 non-null  float64\n",
      " 21  product_ean                     11089 non-null  int64  \n",
      " 22  pct_scroll_move                 11077 non-null  float64\n",
      " 23  pct_wild_mouse                  11078 non-null  float64\n",
      " 24  wild_mouse_duration             11078 non-null  float64\n",
      "dtypes: float64(18), int64(3), object(4)\n",
      "memory usage: 2.1+ MB\n"
     ]
    }
   ],
   "source": [
    "session_start.info()"
   ]
  },
  {
   "cell_type": "code",
   "execution_count": 57,
   "id": "f721cdbf",
   "metadata": {},
   "outputs": [
    {
     "data": {
      "text/html": [
       "<div>\n",
       "<style scoped>\n",
       "    .dataframe tbody tr th:only-of-type {\n",
       "        vertical-align: middle;\n",
       "    }\n",
       "\n",
       "    .dataframe tbody tr th {\n",
       "        vertical-align: top;\n",
       "    }\n",
       "\n",
       "    .dataframe thead th {\n",
       "        text-align: right;\n",
       "    }\n",
       "</style>\n",
       "<table border=\"1\" class=\"dataframe\">\n",
       "  <thead>\n",
       "    <tr style=\"text-align: right;\">\n",
       "      <th></th>\n",
       "      <th>pct_mouse_click</th>\n",
       "      <th>total_load_time</th>\n",
       "      <th>mouse_move_total_rel_distance</th>\n",
       "      <th>session_start</th>\n",
       "      <th>session_id</th>\n",
       "      <th>ack</th>\n",
       "      <th>pct_click</th>\n",
       "      <th>browser_name</th>\n",
       "      <th>pct_mouse_move</th>\n",
       "      <th>pct_click_product_info</th>\n",
       "      <th>...</th>\n",
       "      <th>pct_rage_click</th>\n",
       "      <th>scroll_move_total_rel_distance</th>\n",
       "      <th>user_id</th>\n",
       "      <th>pct_input</th>\n",
       "      <th>pct_doubleclick</th>\n",
       "      <th>product_ean</th>\n",
       "      <th>pct_scroll_move</th>\n",
       "      <th>pct_wild_mouse</th>\n",
       "      <th>wild_mouse_duration</th>\n",
       "      <th>screen_resolution</th>\n",
       "    </tr>\n",
       "  </thead>\n",
       "  <tbody>\n",
       "    <tr>\n",
       "      <th>0</th>\n",
       "      <td>6.76035</td>\n",
       "      <td>15.00632</td>\n",
       "      <td>7.91611</td>\n",
       "      <td>2023-07-06 00:59:11</td>\n",
       "      <td>719775</td>\n",
       "      <td>0.0</td>\n",
       "      <td>6.95057</td>\n",
       "      <td>opera</td>\n",
       "      <td>6.03169</td>\n",
       "      <td>50.59959</td>\n",
       "      <td>...</td>\n",
       "      <td>27.21166</td>\n",
       "      <td>6.09851</td>\n",
       "      <td>868</td>\n",
       "      <td>1.95647</td>\n",
       "      <td>6.97834</td>\n",
       "      <td>248099568029</td>\n",
       "      <td>44.03202</td>\n",
       "      <td>46.68163</td>\n",
       "      <td>10.74376</td>\n",
       "      <td>lower x 1080</td>\n",
       "    </tr>\n",
       "    <tr>\n",
       "      <th>1</th>\n",
       "      <td>6.75326</td>\n",
       "      <td>5.53722</td>\n",
       "      <td>8.14337</td>\n",
       "      <td>2019-02-13 15:46:33</td>\n",
       "      <td>1194424</td>\n",
       "      <td>0.0</td>\n",
       "      <td>7.19415</td>\n",
       "      <td>edge</td>\n",
       "      <td>5.84443</td>\n",
       "      <td>49.93366</td>\n",
       "      <td>...</td>\n",
       "      <td>47.46144</td>\n",
       "      <td>5.79315</td>\n",
       "      <td>1959</td>\n",
       "      <td>0.36497</td>\n",
       "      <td>5.14403</td>\n",
       "      <td>7111799508394</td>\n",
       "      <td>41.13195</td>\n",
       "      <td>66.42266</td>\n",
       "      <td>8.70608</td>\n",
       "      <td>lower x 768</td>\n",
       "    </tr>\n",
       "    <tr>\n",
       "      <th>2</th>\n",
       "      <td>9.09710</td>\n",
       "      <td>6.81720</td>\n",
       "      <td>6.52434</td>\n",
       "      <td>2019-06-15 19:33:59</td>\n",
       "      <td>335521</td>\n",
       "      <td>1.0</td>\n",
       "      <td>9.56752</td>\n",
       "      <td>chrome</td>\n",
       "      <td>8.75647</td>\n",
       "      <td>32.96224</td>\n",
       "      <td>...</td>\n",
       "      <td>45.16742</td>\n",
       "      <td>9.26782</td>\n",
       "      <td>1587</td>\n",
       "      <td>0.15159</td>\n",
       "      <td>10.58422</td>\n",
       "      <td>2755517198198</td>\n",
       "      <td>53.76225</td>\n",
       "      <td>49.90523</td>\n",
       "      <td>7.34936</td>\n",
       "      <td>1280 x 1080</td>\n",
       "    </tr>\n",
       "    <tr>\n",
       "      <th>3</th>\n",
       "      <td>4.85419</td>\n",
       "      <td>3.92631</td>\n",
       "      <td>7.87990</td>\n",
       "      <td>2022-09-22 07:44:05</td>\n",
       "      <td>1144426</td>\n",
       "      <td>1.0</td>\n",
       "      <td>7.21841</td>\n",
       "      <td>mobile</td>\n",
       "      <td>5.68521</td>\n",
       "      <td>56.01077</td>\n",
       "      <td>...</td>\n",
       "      <td>51.15321</td>\n",
       "      <td>12.26355</td>\n",
       "      <td>2476</td>\n",
       "      <td>0.10660</td>\n",
       "      <td>9.54298</td>\n",
       "      <td>4511971237235</td>\n",
       "      <td>56.00922</td>\n",
       "      <td>41.36312</td>\n",
       "      <td>6.19937</td>\n",
       "      <td>1366 x 1024</td>\n",
       "    </tr>\n",
       "    <tr>\n",
       "      <th>4</th>\n",
       "      <td>6.10629</td>\n",
       "      <td>1.60295</td>\n",
       "      <td>8.34195</td>\n",
       "      <td>2019-12-26 10:34:30</td>\n",
       "      <td>1119598</td>\n",
       "      <td>0.0</td>\n",
       "      <td>7.92838</td>\n",
       "      <td>edge</td>\n",
       "      <td>7.76429</td>\n",
       "      <td>36.39425</td>\n",
       "      <td>...</td>\n",
       "      <td>55.01870</td>\n",
       "      <td>11.45785</td>\n",
       "      <td>16</td>\n",
       "      <td>0.88883</td>\n",
       "      <td>10.05772</td>\n",
       "      <td>8377930285275</td>\n",
       "      <td>62.92456</td>\n",
       "      <td>57.14864</td>\n",
       "      <td>9.85068</td>\n",
       "      <td>1024 x higher</td>\n",
       "    </tr>\n",
       "  </tbody>\n",
       "</table>\n",
       "<p>5 rows × 24 columns</p>\n",
       "</div>"
      ],
      "text/plain": [
       "   pct_mouse_click  total_load_time  mouse_move_total_rel_distance  \\\n",
       "0          6.76035         15.00632                        7.91611   \n",
       "1          6.75326          5.53722                        8.14337   \n",
       "2          9.09710          6.81720                        6.52434   \n",
       "3          4.85419          3.92631                        7.87990   \n",
       "4          6.10629          1.60295                        8.34195   \n",
       "\n",
       "         session_start  session_id  ack  pct_click browser_name  \\\n",
       "0  2023-07-06 00:59:11      719775  0.0    6.95057        opera   \n",
       "1  2019-02-13 15:46:33     1194424  0.0    7.19415         edge   \n",
       "2  2019-06-15 19:33:59      335521  1.0    9.56752       chrome   \n",
       "3  2022-09-22 07:44:05     1144426  1.0    7.21841       mobile   \n",
       "4  2019-12-26 10:34:30     1119598  0.0    7.92838         edge   \n",
       "\n",
       "   pct_mouse_move  pct_click_product_info  ...  pct_rage_click  \\\n",
       "0         6.03169                50.59959  ...        27.21166   \n",
       "1         5.84443                49.93366  ...        47.46144   \n",
       "2         8.75647                32.96224  ...        45.16742   \n",
       "3         5.68521                56.01077  ...        51.15321   \n",
       "4         7.76429                36.39425  ...        55.01870   \n",
       "\n",
       "   scroll_move_total_rel_distance  user_id  pct_input  pct_doubleclick  \\\n",
       "0                         6.09851      868    1.95647          6.97834   \n",
       "1                         5.79315     1959    0.36497          5.14403   \n",
       "2                         9.26782     1587    0.15159         10.58422   \n",
       "3                        12.26355     2476    0.10660          9.54298   \n",
       "4                        11.45785       16    0.88883         10.05772   \n",
       "\n",
       "     product_ean  pct_scroll_move  pct_wild_mouse  wild_mouse_duration  \\\n",
       "0   248099568029         44.03202        46.68163             10.74376   \n",
       "1  7111799508394         41.13195        66.42266              8.70608   \n",
       "2  2755517198198         53.76225        49.90523              7.34936   \n",
       "3  4511971237235         56.00922        41.36312              6.19937   \n",
       "4  8377930285275         62.92456        57.14864              9.85068   \n",
       "\n",
       "   screen_resolution  \n",
       "0       lower x 1080  \n",
       "1        lower x 768  \n",
       "2        1280 x 1080  \n",
       "3        1366 x 1024  \n",
       "4      1024 x higher  \n",
       "\n",
       "[5 rows x 24 columns]"
      ]
     },
     "execution_count": 57,
     "metadata": {},
     "output_type": "execute_result"
    }
   ],
   "source": [
    "session.head()"
   ]
  },
  {
   "cell_type": "code",
   "execution_count": 58,
   "id": "e1d3620c",
   "metadata": {},
   "outputs": [
    {
     "name": "stdout",
     "output_type": "stream",
     "text": [
      "<class 'pandas.core.frame.DataFrame'>\n",
      "Index: 10662 entries, 0 to 10791\n",
      "Data columns (total 24 columns):\n",
      " #   Column                          Non-Null Count  Dtype  \n",
      "---  ------                          --------------  -----  \n",
      " 0   pct_mouse_click                 10662 non-null  float64\n",
      " 1   total_load_time                 10662 non-null  float64\n",
      " 2   mouse_move_total_rel_distance   10662 non-null  float64\n",
      " 3   session_start                   10662 non-null  object \n",
      " 4   session_id                      10662 non-null  int64  \n",
      " 5   ack                             10662 non-null  float64\n",
      " 6   pct_click                       10662 non-null  float64\n",
      " 7   browser_name                    10662 non-null  object \n",
      " 8   pct_mouse_move                  10651 non-null  float64\n",
      " 9   pct_click_product_info          10651 non-null  float64\n",
      " 10  pct_scroll_move_duration        10651 non-null  float64\n",
      " 11  pct_scrandom                    10652 non-null  float64\n",
      " 12  session_duration                10662 non-null  float64\n",
      " 13  page_activity_duration          10662 non-null  float64\n",
      " 14  pct_rage_click                  10651 non-null  float64\n",
      " 15  scroll_move_total_rel_distance  10662 non-null  float64\n",
      " 16  user_id                         10662 non-null  int64  \n",
      " 17  pct_input                       10652 non-null  float64\n",
      " 18  pct_doubleclick                 10662 non-null  float64\n",
      " 19  product_ean                     10662 non-null  int64  \n",
      " 20  pct_scroll_move                 10651 non-null  float64\n",
      " 21  pct_wild_mouse                  10651 non-null  float64\n",
      " 22  wild_mouse_duration             10651 non-null  float64\n",
      " 23  screen_resolution               10662 non-null  object \n",
      "dtypes: float64(18), int64(3), object(3)\n",
      "memory usage: 2.0+ MB\n"
     ]
    }
   ],
   "source": [
    "session.info()"
   ]
  },
  {
   "cell_type": "code",
   "execution_count": 59,
   "id": "ca2a1595",
   "metadata": {},
   "outputs": [
    {
     "data": {
      "text/html": [
       "<div>\n",
       "<style scoped>\n",
       "    .dataframe tbody tr th:only-of-type {\n",
       "        vertical-align: middle;\n",
       "    }\n",
       "\n",
       "    .dataframe tbody tr th {\n",
       "        vertical-align: top;\n",
       "    }\n",
       "\n",
       "    .dataframe thead th {\n",
       "        text-align: right;\n",
       "    }\n",
       "</style>\n",
       "<table border=\"1\" class=\"dataframe\">\n",
       "  <thead>\n",
       "    <tr style=\"text-align: right;\">\n",
       "      <th></th>\n",
       "      <th>product_ean</th>\n",
       "      <th>code</th>\n",
       "      <th>store_name</th>\n",
       "      <th>location</th>\n",
       "    </tr>\n",
       "  </thead>\n",
       "  <tbody>\n",
       "    <tr>\n",
       "      <th>0</th>\n",
       "      <td>4309748882180</td>\n",
       "      <td>US</td>\n",
       "      <td>Tyler</td>\n",
       "      <td>America/Chicago</td>\n",
       "    </tr>\n",
       "    <tr>\n",
       "      <th>1</th>\n",
       "      <td>5851941655164</td>\n",
       "      <td>PK</td>\n",
       "      <td>Alipur</td>\n",
       "      <td>Asia/Karachi</td>\n",
       "    </tr>\n",
       "    <tr>\n",
       "      <th>2</th>\n",
       "      <td>5289124458231</td>\n",
       "      <td>MY</td>\n",
       "      <td>Kampung Ayer Molek</td>\n",
       "      <td>Asia/Kuala_Lumpur</td>\n",
       "    </tr>\n",
       "    <tr>\n",
       "      <th>3</th>\n",
       "      <td>6565130443652</td>\n",
       "      <td>US</td>\n",
       "      <td>Glendale</td>\n",
       "      <td>America/Los_Angeles</td>\n",
       "    </tr>\n",
       "    <tr>\n",
       "      <th>4</th>\n",
       "      <td>8081875346334</td>\n",
       "      <td>PH</td>\n",
       "      <td>Naga</td>\n",
       "      <td>Asia/Manila</td>\n",
       "    </tr>\n",
       "  </tbody>\n",
       "</table>\n",
       "</div>"
      ],
      "text/plain": [
       "     product_ean code          store_name             location\n",
       "0  4309748882180   US               Tyler      America/Chicago\n",
       "1  5851941655164   PK              Alipur         Asia/Karachi\n",
       "2  5289124458231   MY  Kampung Ayer Molek    Asia/Kuala_Lumpur\n",
       "3  6565130443652   US            Glendale  America/Los_Angeles\n",
       "4  8081875346334   PH                Naga          Asia/Manila"
      ]
     },
     "execution_count": 59,
     "metadata": {},
     "output_type": "execute_result"
    }
   ],
   "source": [
    "product_start.head()"
   ]
  },
  {
   "cell_type": "code",
   "execution_count": 60,
   "id": "15707165",
   "metadata": {},
   "outputs": [
    {
     "name": "stdout",
     "output_type": "stream",
     "text": [
      "<class 'pandas.core.frame.DataFrame'>\n",
      "RangeIndex: 14958 entries, 0 to 14957\n",
      "Data columns (total 4 columns):\n",
      " #   Column       Non-Null Count  Dtype \n",
      "---  ------       --------------  ----- \n",
      " 0   product_ean  14958 non-null  int64 \n",
      " 1   code         14941 non-null  object\n",
      " 2   store_name   14958 non-null  object\n",
      " 3   location     14958 non-null  object\n",
      "dtypes: int64(1), object(3)\n",
      "memory usage: 467.6+ KB\n"
     ]
    }
   ],
   "source": [
    "product_start.info()"
   ]
  },
  {
   "cell_type": "code",
   "execution_count": 61,
   "id": "308ab237",
   "metadata": {},
   "outputs": [
    {
     "data": {
      "text/html": [
       "<div>\n",
       "<style scoped>\n",
       "    .dataframe tbody tr th:only-of-type {\n",
       "        vertical-align: middle;\n",
       "    }\n",
       "\n",
       "    .dataframe tbody tr th {\n",
       "        vertical-align: top;\n",
       "    }\n",
       "\n",
       "    .dataframe thead th {\n",
       "        text-align: right;\n",
       "    }\n",
       "</style>\n",
       "<table border=\"1\" class=\"dataframe\">\n",
       "  <thead>\n",
       "    <tr style=\"text-align: right;\">\n",
       "      <th></th>\n",
       "      <th>product_ean</th>\n",
       "      <th>code</th>\n",
       "      <th>region</th>\n",
       "      <th>city</th>\n",
       "    </tr>\n",
       "  </thead>\n",
       "  <tbody>\n",
       "    <tr>\n",
       "      <th>0</th>\n",
       "      <td>4309748882180</td>\n",
       "      <td>US</td>\n",
       "      <td>America</td>\n",
       "      <td>Chicago</td>\n",
       "    </tr>\n",
       "    <tr>\n",
       "      <th>1</th>\n",
       "      <td>5851941655164</td>\n",
       "      <td>PK</td>\n",
       "      <td>Asia</td>\n",
       "      <td>Karachi</td>\n",
       "    </tr>\n",
       "    <tr>\n",
       "      <th>2</th>\n",
       "      <td>5289124458231</td>\n",
       "      <td>MY</td>\n",
       "      <td>Asia</td>\n",
       "      <td>Kuala_Lumpur</td>\n",
       "    </tr>\n",
       "    <tr>\n",
       "      <th>3</th>\n",
       "      <td>6565130443652</td>\n",
       "      <td>US</td>\n",
       "      <td>America</td>\n",
       "      <td>Los_Angeles</td>\n",
       "    </tr>\n",
       "    <tr>\n",
       "      <th>4</th>\n",
       "      <td>8081875346334</td>\n",
       "      <td>PH</td>\n",
       "      <td>Asia</td>\n",
       "      <td>Manila</td>\n",
       "    </tr>\n",
       "  </tbody>\n",
       "</table>\n",
       "</div>"
      ],
      "text/plain": [
       "     product_ean code   region          city\n",
       "0  4309748882180   US  America       Chicago\n",
       "1  5851941655164   PK     Asia       Karachi\n",
       "2  5289124458231   MY     Asia  Kuala_Lumpur\n",
       "3  6565130443652   US  America   Los_Angeles\n",
       "4  8081875346334   PH     Asia        Manila"
      ]
     },
     "execution_count": 61,
     "metadata": {},
     "output_type": "execute_result"
    }
   ],
   "source": [
    "product.head()"
   ]
  },
  {
   "cell_type": "code",
   "execution_count": 62,
   "id": "2b61ebec",
   "metadata": {},
   "outputs": [
    {
     "name": "stdout",
     "output_type": "stream",
     "text": [
      "<class 'pandas.core.frame.DataFrame'>\n",
      "Index: 14941 entries, 0 to 14957\n",
      "Data columns (total 4 columns):\n",
      " #   Column       Non-Null Count  Dtype \n",
      "---  ------       --------------  ----- \n",
      " 0   product_ean  14941 non-null  int64 \n",
      " 1   code         14941 non-null  object\n",
      " 2   region       14941 non-null  object\n",
      " 3   city         14941 non-null  object\n",
      "dtypes: int64(1), object(3)\n",
      "memory usage: 583.6+ KB\n"
     ]
    }
   ],
   "source": [
    "product.info()"
   ]
  },
  {
   "cell_type": "markdown",
   "id": "4ffc9e70-d81e-42de-bb19-b90436a7cb4e",
   "metadata": {},
   "source": [
    "# Statistical analysis"
   ]
  },
  {
   "cell_type": "markdown",
   "id": "b36125c1-1bd6-446d-8656-e53721714193",
   "metadata": {},
   "source": [
    "We are going to analyse these attributes:\n",
    "\n",
    "**Continuous attributes**\n",
    "\n",
    "1. session.session_duration\n",
    "2. session.page_activity_duration\n",
    "3. session.pct_mouse_click\n",
    "4. session.mouse_move_total_rel_distance\n",
    "5. session.scroll_move_total_rel_distance\n",
    "\n",
    "**Discrete attributes**\n",
    "\n",
    "1. session.screen_resolution\n",
    "2. user.age\n",
    "3. user.sex\n",
    "4. product.code\n",
    "5. session.browser_name"
   ]
  },
  {
   "cell_type": "markdown",
   "id": "7d16ebe1-d5e8-4ddd-93ad-b25170cb2fd2",
   "metadata": {},
   "source": [
    "#### session.session_duration"
   ]
  },
  {
   "cell_type": "code",
   "execution_count": 64,
   "id": "72075033-621c-4b51-b3a5-f7c3dd2e416f",
   "metadata": {},
   "outputs": [
    {
     "data": {
      "text/plain": [
       "count    10662.000000\n",
       "mean       149.589389\n",
       "std         57.638011\n",
       "min          0.001910\n",
       "25%        108.728675\n",
       "50%        149.844055\n",
       "75%        189.973318\n",
       "max        299.855910\n",
       "Name: session_duration, dtype: float64"
      ]
     },
     "execution_count": 64,
     "metadata": {},
     "output_type": "execute_result"
    }
   ],
   "source": [
    "session['session_duration'].describe()"
   ]
  },
  {
   "cell_type": "code",
   "execution_count": 65,
   "id": "f82e52bb-3c4a-4f96-aa00-4045c1cb1d74",
   "metadata": {},
   "outputs": [
    {
     "data": {
      "text/plain": [
       "149.84405500000003"
      ]
     },
     "execution_count": 65,
     "metadata": {},
     "output_type": "execute_result"
    }
   ],
   "source": [
    "session['session_duration'].median()"
   ]
  },
  {
   "cell_type": "code",
   "execution_count": 66,
   "id": "0b129307-bfd0-4a83-8de5-40cb6c5d81ad",
   "metadata": {},
   "outputs": [
    {
     "data": {
      "text/plain": [
       "ModeResult(mode=103.00098, count=2)"
      ]
     },
     "execution_count": 66,
     "metadata": {},
     "output_type": "execute_result"
    }
   ],
   "source": [
    "stats.mode(session['session_duration'])"
   ]
  },
  {
   "cell_type": "code",
   "execution_count": 67,
   "id": "bd88b2dc-f7dd-4dd7-8ff9-6d04923a02ae",
   "metadata": {},
   "outputs": [
    {
     "data": {
      "text/plain": [
       "3321.828724630655"
      ]
     },
     "execution_count": 67,
     "metadata": {},
     "output_type": "execute_result"
    }
   ],
   "source": [
    "np.var(session['session_duration'])"
   ]
  },
  {
   "cell_type": "code",
   "execution_count": 68,
   "id": "5cf5c06d-418f-40fe-8746-e40e3eb2c127",
   "metadata": {},
   "outputs": [
    {
     "data": {
      "text/plain": [
       "0.0025419948825967913"
      ]
     },
     "execution_count": 68,
     "metadata": {},
     "output_type": "execute_result"
    }
   ],
   "source": [
    "stats.skew(session.session_duration)"
   ]
  },
  {
   "cell_type": "code",
   "execution_count": 69,
   "id": "8a1c1a36-f62c-4352-b95f-3f78dd7773d2",
   "metadata": {},
   "outputs": [
    {
     "data": {
      "text/plain": [
       "-0.3939163662459366"
      ]
     },
     "execution_count": 69,
     "metadata": {},
     "output_type": "execute_result"
    }
   ],
   "source": [
    "stats.kurtosis(session.session_duration)"
   ]
  },
  {
   "cell_type": "code",
   "execution_count": 70,
   "id": "09e7b130-7cb9-4ff7-bd81-cf69f87cda5a",
   "metadata": {},
   "outputs": [
    {
     "data": {
      "text/plain": [
       "<Axes: >"
      ]
     },
     "execution_count": 70,
     "metadata": {},
     "output_type": "execute_result"
    },
    {
     "data": {
      "image/png": "[encoded data removed]",
      "text/plain": [
       "<Figure size 640x480 with 1 Axes>"
      ]
     },
     "metadata": {},
     "output_type": "display_data"
    }
   ],
   "source": [
    "session['session_duration'].hist()"
   ]
  },
  {
   "cell_type": "code",
   "execution_count": 71,
   "id": "e14f5335-89eb-4122-9adb-5f2da7d3627b",
   "metadata": {},
   "outputs": [
    {
     "data": {
      "text/plain": [
       "<seaborn.axisgrid.FacetGrid at 0x2b3476c0990>"
      ]
     },
     "execution_count": 71,
     "metadata": {},
     "output_type": "execute_result"
    },
    {
     "data": {
      "image/png": "[encoded data removed]",
      "text/plain": [
       "<Figure size 500x500 with 1 Axes>"
      ]
     },
     "metadata": {},
     "output_type": "display_data"
    }
   ],
   "source": [
    "sns.displot(session.session_duration)"
   ]
  },
  {
   "cell_type": "code",
   "execution_count": 73,
   "id": "4e271da2-b670-4ef8-96cb-42e8aa4a00ac",
   "metadata": {},
   "outputs": [
    {
     "name": "stdout",
     "output_type": "stream",
     "text": [
      "session_duration likely belongs to a distribution different to normal\n"
     ]
    }
   ],
   "source": [
    "shapiro_test_session_duration = shapiro(session.session_duration)\n",
    "if shapiro_test_session_duration.pvalue > 0.05:\n",
    "    print('session_duration likely belongs to a normal distribution')\n",
    "else:\n",
    "    print('session_duration likely belongs to a distribution different to normal')"
   ]
  },
  {
   "cell_type": "markdown",
   "id": "0308451a-27b3-447f-a565-5b1511e78ee2",
   "metadata": {},
   "source": [
    "#### session.page_activity_duration"
   ]
  },
  {
   "cell_type": "code",
   "execution_count": 74,
   "id": "f322feb6-7cf9-4ace-986b-d2679bf4b666",
   "metadata": {},
   "outputs": [
    {
     "data": {
      "text/plain": [
       "count    10662.000000\n",
       "mean         8.824277\n",
       "std          2.050625\n",
       "min          2.031710\n",
       "25%          7.443437\n",
       "50%          9.109535\n",
       "75%         10.328667\n",
       "max         14.819500\n",
       "Name: page_activity_duration, dtype: float64"
      ]
     },
     "execution_count": 74,
     "metadata": {},
     "output_type": "execute_result"
    }
   ],
   "source": [
    "session['page_activity_duration'].describe()"
   ]
  },
  {
   "cell_type": "code",
   "execution_count": 75,
   "id": "2b3ce596-aac2-4b18-96f4-4b7f37fda64c",
   "metadata": {},
   "outputs": [
    {
     "data": {
      "text/plain": [
       "9.109535000000001"
      ]
     },
     "execution_count": 75,
     "metadata": {},
     "output_type": "execute_result"
    }
   ],
   "source": [
    "session['page_activity_duration'].median()"
   ]
  },
  {
   "cell_type": "code",
   "execution_count": 76,
   "id": "faa441a7-ac88-4565-bc21-2bef6be274ad",
   "metadata": {},
   "outputs": [
    {
     "data": {
      "text/plain": [
       "ModeResult(mode=6.04174, count=2)"
      ]
     },
     "execution_count": 76,
     "metadata": {},
     "output_type": "execute_result"
    }
   ],
   "source": [
    "stats.mode(session['page_activity_duration'])"
   ]
  },
  {
   "cell_type": "code",
   "execution_count": 77,
   "id": "45e0d132-55fa-473b-a7fd-c9c388941611",
   "metadata": {},
   "outputs": [
    {
     "data": {
      "text/plain": [
       "4.204669785370725"
      ]
     },
     "execution_count": 77,
     "metadata": {},
     "output_type": "execute_result"
    }
   ],
   "source": [
    "np.var(session['page_activity_duration'])"
   ]
  },
  {
   "cell_type": "code",
   "execution_count": 78,
   "id": "23aea076-0e3c-4b81-a263-a8cc9c290773",
   "metadata": {},
   "outputs": [
    {
     "data": {
      "text/plain": [
       "-0.3868325054347587"
      ]
     },
     "execution_count": 78,
     "metadata": {},
     "output_type": "execute_result"
    }
   ],
   "source": [
    "stats.skew(session.page_activity_duration)"
   ]
  },
  {
   "cell_type": "code",
   "execution_count": 79,
   "id": "8286b66f-bed3-48fd-90eb-058858319da7",
   "metadata": {},
   "outputs": [
    {
     "data": {
      "text/plain": [
       "-0.3175340690507489"
      ]
     },
     "execution_count": 79,
     "metadata": {},
     "output_type": "execute_result"
    }
   ],
   "source": [
    "stats.kurtosis(session.page_activity_duration)"
   ]
  },
  {
   "cell_type": "code",
   "execution_count": 80,
   "id": "ff3f5657-c12a-4843-9b22-ab0213c9d723",
   "metadata": {},
   "outputs": [
    {
     "data": {
      "text/plain": [
       "<Axes: >"
      ]
     },
     "execution_count": 80,
     "metadata": {},
     "output_type": "execute_result"
    },
    {
     "data": {
      "image/png": "[encoded data removed]",
      "text/plain": [
       "<Figure size 640x480 with 1 Axes>"
      ]
     },
     "metadata": {},
     "output_type": "display_data"
    }
   ],
   "source": [
    "session['page_activity_duration'].hist()"
   ]
  },
  {
   "cell_type": "code",
   "execution_count": 81,
   "id": "b74567f1-0b2d-4190-a1c2-02c0d3e5b90c",
   "metadata": {},
   "outputs": [
    {
     "data": {
      "text/plain": [
       "<seaborn.axisgrid.FacetGrid at 0x2b347acecd0>"
      ]
     },
     "execution_count": 81,
     "metadata": {},
     "output_type": "execute_result"
    },
    {
     "data": {
      "image/png": "[encoded data removed]",
      "text/plain": [
       "<Figure size 500x500 with 1 Axes>"
      ]
     },
     "metadata": {},
     "output_type": "display_data"
    }
   ],
   "source": [
    "sns.displot(session.page_activity_duration)"
   ]
  },
  {
   "cell_type": "code",
   "execution_count": 83,
   "id": "2bc29798-f46c-4305-aebc-b98d4ac2cd0d",
   "metadata": {},
   "outputs": [
    {
     "name": "stdout",
     "output_type": "stream",
     "text": [
      "page_activity_duration belongs to a distribution different to normal\n"
     ]
    }
   ],
   "source": [
    "shapiro_test_page_activity_duration = shapiro(session.page_activity_duration)\n",
    "if shapiro_test_page_activity_duration.pvalue > 0.05:\n",
    "    print('page_activity_duration belongs to a normal distribution')\n",
    "else:\n",
    "    print('page_activity_duration belongs to a distribution different to normal')"
   ]
  },
  {
   "cell_type": "markdown",
   "id": "45be37cb-3072-4f4c-a31b-549c5f54da9b",
   "metadata": {},
   "source": [
    "#### session.pct_mouse_click"
   ]
  },
  {
   "cell_type": "code",
   "execution_count": 84,
   "id": "c209b704-cffc-4938-89b9-b8fd2c951b55",
   "metadata": {},
   "outputs": [
    {
     "data": {
      "text/plain": [
       "count    10662.000000\n",
       "mean         7.342956\n",
       "std          1.789575\n",
       "min          2.821160\n",
       "25%          6.221007\n",
       "50%          7.035725\n",
       "75%          8.150237\n",
       "max         13.899250\n",
       "Name: pct_mouse_click, dtype: float64"
      ]
     },
     "execution_count": 84,
     "metadata": {},
     "output_type": "execute_result"
    }
   ],
   "source": [
    "session['pct_mouse_click'].describe()"
   ]
  },
  {
   "cell_type": "code",
   "execution_count": 85,
   "id": "19f187a1-1d04-4890-80ca-266bde56bf17",
   "metadata": {},
   "outputs": [
    {
     "data": {
      "text/plain": [
       "7.035724999999999"
      ]
     },
     "execution_count": 85,
     "metadata": {},
     "output_type": "execute_result"
    }
   ],
   "source": [
    "session['pct_mouse_click'].median()"
   ]
  },
  {
   "cell_type": "code",
   "execution_count": 86,
   "id": "fbe42bab-8c02-4587-a9d3-d12db5ff27b8",
   "metadata": {},
   "outputs": [
    {
     "data": {
      "text/plain": [
       "ModeResult(mode=4.09732, count=2)"
      ]
     },
     "execution_count": 86,
     "metadata": {},
     "output_type": "execute_result"
    }
   ],
   "source": [
    "stats.mode(session['pct_mouse_click'])"
   ]
  },
  {
   "cell_type": "code",
   "execution_count": 87,
   "id": "4ead8eeb-0d66-4bc9-8be4-d2cae22cb4b5",
   "metadata": {},
   "outputs": [
    {
     "data": {
      "text/plain": [
       "3.2022773121160726"
      ]
     },
     "execution_count": 87,
     "metadata": {},
     "output_type": "execute_result"
    }
   ],
   "source": [
    "np.var(session['pct_mouse_click'])"
   ]
  },
  {
   "cell_type": "code",
   "execution_count": 88,
   "id": "ead83ecd-26d1-4d98-ad09-7960a65b93c6",
   "metadata": {},
   "outputs": [
    {
     "data": {
      "text/plain": [
       "0.7629499250755357"
      ]
     },
     "execution_count": 88,
     "metadata": {},
     "output_type": "execute_result"
    }
   ],
   "source": [
    "stats.skew(session.pct_mouse_click)"
   ]
  },
  {
   "cell_type": "code",
   "execution_count": 89,
   "id": "493b425a-8ebe-489c-9d6c-190184e5ec64",
   "metadata": {},
   "outputs": [
    {
     "data": {
      "text/plain": [
       "0.5036117387076628"
      ]
     },
     "execution_count": 89,
     "metadata": {},
     "output_type": "execute_result"
    }
   ],
   "source": [
    "stats.kurtosis(session.pct_mouse_click)"
   ]
  },
  {
   "cell_type": "code",
   "execution_count": 90,
   "id": "24277774-bff7-4aad-a182-5e8e120f8934",
   "metadata": {},
   "outputs": [
    {
     "data": {
      "text/plain": [
       "<Axes: >"
      ]
     },
     "execution_count": 90,
     "metadata": {},
     "output_type": "execute_result"
    },
    {
     "data": {
      "image/png": "[encoded data removed]",
      "text/plain": [
       "<Figure size 640x480 with 1 Axes>"
      ]
     },
     "metadata": {},
     "output_type": "display_data"
    }
   ],
   "source": [
    "session['pct_mouse_click'].hist()"
   ]
  },
  {
   "cell_type": "code",
   "execution_count": 91,
   "id": "e61440dd-71ac-426c-b903-fa6c9f2b8c54",
   "metadata": {},
   "outputs": [
    {
     "data": {
      "text/plain": [
       "<seaborn.axisgrid.FacetGrid at 0x2b347f0ab90>"
      ]
     },
     "execution_count": 91,
     "metadata": {},
     "output_type": "execute_result"
    },
    {
     "data": {
      "image/png": "[encoded data removed]",
      "text/plain": [
       "<Figure size 500x500 with 1 Axes>"
      ]
     },
     "metadata": {},
     "output_type": "display_data"
    }
   ],
   "source": [
    "sns.displot(session.pct_mouse_click)"
   ]
  },
  {
   "cell_type": "code",
   "execution_count": 92,
   "id": "2d876b84-8354-48fc-b1ca-2b2334ef47b0",
   "metadata": {},
   "outputs": [
    {
     "name": "stdout",
     "output_type": "stream",
     "text": [
      "pct_mouse_click likely belongs to a distribution different to normal\n"
     ]
    },
    {
     "name": "stderr",
     "output_type": "stream",
     "text": [
      "C:\\Users\\matej\\AppData\\Local\\Programs\\Python\\Python311\\Lib\\site-packages\\scipy\\stats\\_morestats.py:1882: UserWarning: p-value may not be accurate for N > 5000.\n",
      "  warnings.warn(\"p-value may not be accurate for N > 5000.\")\n"
     ]
    }
   ],
   "source": [
    "shapiro_test_pct_mouse_click = shapiro(session.pct_mouse_click)\n",
    "if shapiro_test_pct_mouse_click.pvalue > 0.05:\n",
    "    print('pct_mouse_click likely belongs to a normal distribution')\n",
    "else:\n",
    "    print('pct_mouse_click likely belongs to a distribution different to normal')"
   ]
  },
  {
   "cell_type": "markdown",
   "id": "b4195a68-e59b-447a-a9c9-91b200a92cc5",
   "metadata": {},
   "source": [
    "#### session.mouse_move_total"
   ]
  },
  {
   "cell_type": "code",
   "execution_count": 95,
   "id": "e0a59f30-d410-40d4-81a5-721a2cc4b10d",
   "metadata": {},
   "outputs": [
    {
     "data": {
      "text/plain": [
       "count    10662.000000\n",
       "mean         8.060307\n",
       "std          0.989459\n",
       "min          5.039260\n",
       "25%          7.384510\n",
       "50%          8.054750\n",
       "75%          8.729755\n",
       "max         11.356270\n",
       "Name: mouse_move_total_rel_distance, dtype: float64"
      ]
     },
     "execution_count": 95,
     "metadata": {},
     "output_type": "execute_result"
    }
   ],
   "source": [
    "session['mouse_move_total_rel_distance'].describe()"
   ]
  },
  {
   "cell_type": "code",
   "execution_count": 96,
   "id": "7b6f5872-136f-48aa-93a0-5c038b2e12d4",
   "metadata": {},
   "outputs": [
    {
     "data": {
      "text/plain": [
       "8.054749999999999"
      ]
     },
     "execution_count": 96,
     "metadata": {},
     "output_type": "execute_result"
    }
   ],
   "source": [
    "session['mouse_move_total_rel_distance'].median()"
   ]
  },
  {
   "cell_type": "code",
   "execution_count": 97,
   "id": "bc43c08b-7c69-4c65-b314-c776b5d655d8",
   "metadata": {},
   "outputs": [
    {
     "data": {
      "text/plain": [
       "ModeResult(mode=8.46091, count=3)"
      ]
     },
     "execution_count": 97,
     "metadata": {},
     "output_type": "execute_result"
    }
   ],
   "source": [
    "stats.mode(session['mouse_move_total_rel_distance'])"
   ]
  },
  {
   "cell_type": "code",
   "execution_count": 98,
   "id": "db995afd-4cc9-45d5-807c-c3307411a592",
   "metadata": {},
   "outputs": [
    {
     "data": {
      "text/plain": [
       "0.9789369944728199"
      ]
     },
     "execution_count": 98,
     "metadata": {},
     "output_type": "execute_result"
    }
   ],
   "source": [
    "np.var(session['mouse_move_total_rel_distance'])"
   ]
  },
  {
   "cell_type": "code",
   "execution_count": 99,
   "id": "a069eed9-1f86-4804-bb06-2f586fc97f24",
   "metadata": {},
   "outputs": [
    {
     "data": {
      "text/plain": [
       "0.030860506933154713"
      ]
     },
     "execution_count": 99,
     "metadata": {},
     "output_type": "execute_result"
    }
   ],
   "source": [
    "stats.skew(session.mouse_move_total_rel_distance)"
   ]
  },
  {
   "cell_type": "code",
   "execution_count": 100,
   "id": "c6198643-042d-4882-ae6c-2deb34192da7",
   "metadata": {},
   "outputs": [
    {
     "data": {
      "text/plain": [
       "-0.11086024230458635"
      ]
     },
     "execution_count": 100,
     "metadata": {},
     "output_type": "execute_result"
    }
   ],
   "source": [
    "stats.kurtosis(session.mouse_move_total_rel_distance)"
   ]
  },
  {
   "cell_type": "code",
   "execution_count": 101,
   "id": "42b5555c-4eac-4b90-b350-6a70e3964caa",
   "metadata": {},
   "outputs": [
    {
     "data": {
      "text/plain": [
       "<Axes: >"
      ]
     },
     "execution_count": 101,
     "metadata": {},
     "output_type": "execute_result"
    },
    {
     "data": {
      "image/png": "[encoded data removed]",
      "text/plain": [
       "<Figure size 640x480 with 1 Axes>"
      ]
     },
     "metadata": {},
     "output_type": "display_data"
    }
   ],
   "source": [
    "session['mouse_move_total_rel_distance'].hist()"
   ]
  },
  {
   "cell_type": "code",
   "execution_count": 102,
   "id": "6734f32e-254e-4a1b-991d-466dcb4540dc",
   "metadata": {},
   "outputs": [
    {
     "data": {
      "text/plain": [
       "<seaborn.axisgrid.FacetGrid at 0x2b347f98950>"
      ]
     },
     "execution_count": 102,
     "metadata": {},
     "output_type": "execute_result"
    },
    {
     "data": {
      "image/png": "[encoded data removed]",
      "text/plain": [
       "<Figure size 500x500 with 1 Axes>"
      ]
     },
     "metadata": {},
     "output_type": "display_data"
    }
   ],
   "source": [
    "sns.displot(session.mouse_move_total_rel_distance)"
   ]
  },
  {
   "cell_type": "code",
   "execution_count": 103,
   "id": "83e605b0-2cf3-4a32-b696-b32aa72059c2",
   "metadata": {},
   "outputs": [
    {
     "name": "stdout",
     "output_type": "stream",
     "text": [
      "mouse_move_total_rel_distance likely belongs to a distribution different to normal\n"
     ]
    },
    {
     "name": "stderr",
     "output_type": "stream",
     "text": [
      "C:\\Users\\matej\\AppData\\Local\\Programs\\Python\\Python311\\Lib\\site-packages\\scipy\\stats\\_morestats.py:1882: UserWarning: p-value may not be accurate for N > 5000.\n",
      "  warnings.warn(\"p-value may not be accurate for N > 5000.\")\n"
     ]
    }
   ],
   "source": [
    "shapiro_test_mouse_move_total_rel_distance = shapiro(session.mouse_move_total_rel_distance)\n",
    "if shapiro_test_mouse_move_total_rel_distance.pvalue > 0.05:\n",
    "    print('mouse_move_total_rel_distance likely belongs to a normal distribution')\n",
    "else:\n",
    "    print('mouse_move_total_rel_distance likely belongs to a distribution different to normal')"
   ]
  },
  {
   "cell_type": "markdown",
   "id": "fb7801c8-0492-402d-987f-e22ceea06732",
   "metadata": {},
   "source": [
    "#### session.scroll_move_total_rel_distance"
   ]
  },
  {
   "cell_type": "code",
   "execution_count": 104,
   "id": "9e198b7f-335a-4132-a744-834b272e819d",
   "metadata": {},
   "outputs": [
    {
     "data": {
      "text/plain": [
       "count    10662.000000\n",
       "mean         8.988777\n",
       "std          1.910360\n",
       "min          2.119410\n",
       "25%          7.993113\n",
       "50%          9.345995\n",
       "75%         10.292475\n",
       "max         13.865950\n",
       "Name: scroll_move_total_rel_distance, dtype: float64"
      ]
     },
     "execution_count": 104,
     "metadata": {},
     "output_type": "execute_result"
    }
   ],
   "source": [
    "session['scroll_move_total_rel_distance'].describe()"
   ]
  },
  {
   "cell_type": "code",
   "execution_count": 105,
   "id": "f5fb96c7-9504-4a84-9ca0-bbfc74340b75",
   "metadata": {},
   "outputs": [
    {
     "data": {
      "text/plain": [
       "9.345994999999998"
      ]
     },
     "execution_count": 105,
     "metadata": {},
     "output_type": "execute_result"
    }
   ],
   "source": [
    "session['scroll_move_total_rel_distance'].median()"
   ]
  },
  {
   "cell_type": "code",
   "execution_count": 106,
   "id": "ac36b024-e553-4407-b571-365569441cfe",
   "metadata": {},
   "outputs": [
    {
     "data": {
      "text/plain": [
       "ModeResult(mode=6.00813, count=2)"
      ]
     },
     "execution_count": 106,
     "metadata": {},
     "output_type": "execute_result"
    }
   ],
   "source": [
    "stats.mode(session['scroll_move_total_rel_distance'])"
   ]
  },
  {
   "cell_type": "code",
   "execution_count": 108,
   "id": "f50e2bd2-12ca-4ac5-b6cc-b18a8a56ec4b",
   "metadata": {},
   "outputs": [
    {
     "data": {
      "text/plain": [
       "3.649132816440041"
      ]
     },
     "execution_count": 108,
     "metadata": {},
     "output_type": "execute_result"
    }
   ],
   "source": [
    "np.var(session['scroll_move_total_rel_distance'])"
   ]
  },
  {
   "cell_type": "code",
   "execution_count": 109,
   "id": "a692effe-8f5f-47b8-b9ba-b4515e4bc270",
   "metadata": {},
   "outputs": [
    {
     "data": {
      "text/plain": [
       "-0.7449409332365828"
      ]
     },
     "execution_count": 109,
     "metadata": {},
     "output_type": "execute_result"
    }
   ],
   "source": [
    "stats.skew(session.scroll_move_total_rel_distance)"
   ]
  },
  {
   "cell_type": "code",
   "execution_count": 110,
   "id": "0962dbc0-908a-44d7-bb0f-aff037fe49fd",
   "metadata": {},
   "outputs": [
    {
     "data": {
      "text/plain": [
       "0.298883299236016"
      ]
     },
     "execution_count": 110,
     "metadata": {},
     "output_type": "execute_result"
    }
   ],
   "source": [
    "stats.kurtosis(session.scroll_move_total_rel_distance)"
   ]
  },
  {
   "cell_type": "code",
   "execution_count": 111,
   "id": "3d59e77c-7cfb-4e24-8ec3-67a7cd09d20b",
   "metadata": {},
   "outputs": [
    {
     "data": {
      "text/plain": [
       "<Axes: >"
      ]
     },
     "execution_count": 111,
     "metadata": {},
     "output_type": "execute_result"
    },
    {
     "data": {
      "image/png": "[encoded data removed]",
      "text/plain": [
       "<Figure size 640x480 with 1 Axes>"
      ]
     },
     "metadata": {},
     "output_type": "display_data"
    }
   ],
   "source": [
    "session['scroll_move_total_rel_distance'].hist()"
   ]
  },
  {
   "cell_type": "code",
   "execution_count": 112,
   "id": "b0d1db83-fc45-4a98-9aab-8b0f71e5acc8",
   "metadata": {},
   "outputs": [
    {
     "data": {
      "text/plain": [
       "<seaborn.axisgrid.FacetGrid at 0x2b34af6ab90>"
      ]
     },
     "execution_count": 112,
     "metadata": {},
     "output_type": "execute_result"
    },
    {
     "data": {
      "image/png": "[encoded data removed]",
      "text/plain": [
       "<Figure size 500x500 with 1 Axes>"
      ]
     },
     "metadata": {},
     "output_type": "display_data"
    }
   ],
   "source": [
    "sns.displot(session.scroll_move_total_rel_distance)"
   ]
  },
  {
   "cell_type": "code",
   "execution_count": 113,
   "id": "54c2ccbb-4ffa-48ec-b7c3-5651d12477ed",
   "metadata": {},
   "outputs": [
    {
     "name": "stdout",
     "output_type": "stream",
     "text": [
      "scroll_move_total_rel_distance likely belongs to a distribution different to normal\n"
     ]
    },
    {
     "name": "stderr",
     "output_type": "stream",
     "text": [
      "C:\\Users\\matej\\AppData\\Local\\Programs\\Python\\Python311\\Lib\\site-packages\\scipy\\stats\\_morestats.py:1882: UserWarning: p-value may not be accurate for N > 5000.\n",
      "  warnings.warn(\"p-value may not be accurate for N > 5000.\")\n"
     ]
    }
   ],
   "source": [
    "shapiro_test_scroll_move_total_rel_distance = shapiro(session.scroll_move_total_rel_distance)\n",
    "if shapiro_test_scroll_move_total_rel_distance.pvalue > 0.05:\n",
    "    print('scroll_move_total_rel_distance likely belongs to a normal distribution')\n",
    "else:\n",
    "    print('scroll_move_total_rel_distance likely belongs to a distribution different to normal')"
   ]
  },
  {
   "cell_type": "markdown",
   "id": "703e68e9-8d0a-403c-ab30-6342673a70c4",
   "metadata": {},
   "source": [
    "#### session.screen_resolution"
   ]
  },
  {
   "cell_type": "code",
   "execution_count": 114,
   "id": "57942195-d152-4fcc-b9a7-9c1eff733bf7",
   "metadata": {},
   "outputs": [
    {
     "data": {
      "text/plain": [
       "count           10662\n",
       "unique             49\n",
       "top       1920 x 1080\n",
       "freq              464\n",
       "Name: screen_resolution, dtype: object"
      ]
     },
     "execution_count": 114,
     "metadata": {},
     "output_type": "execute_result"
    }
   ],
   "source": [
    "session['screen_resolution'].describe()"
   ]
  },
  {
   "cell_type": "code",
   "execution_count": 115,
   "id": "7e71e914-52ed-4bee-b839-631efb5eb4e2",
   "metadata": {},
   "outputs": [
    {
     "data": {
      "text/plain": [
       "screen_resolution\n",
       "1024 x 1024        237\n",
       "1024 x 1080        309\n",
       "1024 x 600         249\n",
       "1024 x 768         308\n",
       "1024 x 800         246\n",
       "1024 x higher       81\n",
       "1024 x lower       155\n",
       "1280 x 1024        295\n",
       "1280 x 1080        423\n",
       "1280 x 600         304\n",
       "1280 x 768         422\n",
       "1280 x 800         293\n",
       "1280 x higher      100\n",
       "1280 x lower       198\n",
       "1366 x 1024        220\n",
       "1366 x 1080        294\n",
       "1366 x 600         270\n",
       "1366 x 768         327\n",
       "1366 x 800         271\n",
       "1366 x higher       73\n",
       "1366 x lower       169\n",
       "1920 x 1024        315\n",
       "1920 x 1080        464\n",
       "1920 x 600         335\n",
       "1920 x 768         452\n",
       "1920 x 800         340\n",
       "1920 x higher       78\n",
       "1920 x lower       204\n",
       "800 x 1024         244\n",
       "800 x 1080         338\n",
       "800 x 600          270\n",
       "800 x 768          305\n",
       "800 x 800          261\n",
       "800 x higher        82\n",
       "800 x lower        155\n",
       "higher x 1024       74\n",
       "higher x 1080      102\n",
       "higher x 600        77\n",
       "higher x 768       103\n",
       "higher x 800        79\n",
       "higher x higher     37\n",
       "higher x lower      59\n",
       "lower x 1024       157\n",
       "lower x 1080       246\n",
       "lower x 600        167\n",
       "lower x 768        170\n",
       "lower x 800        143\n",
       "lower x higher      61\n",
       "lower x lower      100\n",
       "dtype: int64"
      ]
     },
     "execution_count": 115,
     "metadata": {},
     "output_type": "execute_result"
    }
   ],
   "source": [
    "session.groupby('screen_resolution').size()"
   ]
  },
  {
   "cell_type": "code",
   "execution_count": 121,
   "id": "5bf93716-7811-4169-ba05-58da29985ed3",
   "metadata": {},
   "outputs": [
    {
     "data": {
      "text/plain": [
       "<Axes: xlabel='screen_resolution'>"
      ]
     },
     "execution_count": 121,
     "metadata": {},
     "output_type": "execute_result"
    },
    {
     "data": {
      "image/png": "[encoded data removed]",
      "text/plain": [
       "<Figure size 1700x1100 with 1 Axes>"
      ]
     },
     "metadata": {},
     "output_type": "display_data"
    }
   ],
   "source": [
    "fig, ax = plt.subplots(figsize=(17,11))\n",
    "session.screen_resolution.value_counts().plot(kind='bar', ax=ax)"
   ]
  },
  {
   "cell_type": "markdown",
   "id": "08fae2e8-c9d4-4fb9-b338-291c36ac3e30",
   "metadata": {},
   "source": [
    "#### user.age"
   ]
  },
  {
   "cell_type": "code",
   "execution_count": 122,
   "id": "9f30c153-10bf-4cf1-9be8-d7ef7d0e4b0e",
   "metadata": {},
   "outputs": [
    {
     "data": {
      "text/plain": [
       "count    1393.000000\n",
       "mean       57.701364\n",
       "std        33.728162\n",
       "min         0.000000\n",
       "25%        28.000000\n",
       "50%        58.000000\n",
       "75%        87.000000\n",
       "max       116.000000\n",
       "Name: age, dtype: float64"
      ]
     },
     "execution_count": 122,
     "metadata": {},
     "output_type": "execute_result"
    }
   ],
   "source": [
    "user['age'].describe()"
   ]
  },
  {
   "cell_type": "code",
   "execution_count": 123,
   "id": "0abf4c3a-9b73-4331-a8b4-c337756baff0",
   "metadata": {},
   "outputs": [
    {
     "data": {
      "text/plain": [
       "age\n",
       "0.0      10\n",
       "1.0      17\n",
       "2.0       9\n",
       "3.0      12\n",
       "4.0      13\n",
       "         ..\n",
       "112.0    10\n",
       "113.0     9\n",
       "114.0    14\n",
       "115.0    11\n",
       "116.0     1\n",
       "Length: 117, dtype: int64"
      ]
     },
     "execution_count": 123,
     "metadata": {},
     "output_type": "execute_result"
    }
   ],
   "source": [
    "user.groupby('age').size()"
   ]
  },
  {
   "cell_type": "code",
   "execution_count": 127,
   "id": "45c747b0-4b39-4f7f-844b-8298fed30a78",
   "metadata": {},
   "outputs": [
    {
     "data": {
      "text/plain": [
       "<Axes: xlabel='age'>"
      ]
     },
     "execution_count": 127,
     "metadata": {},
     "output_type": "execute_result"
    },
    {
     "data": {
      "image/png": "[encoded data removed]",
      "text/plain": [
       "<Figure size 2500x1100 with 1 Axes>"
      ]
     },
     "metadata": {},
     "output_type": "display_data"
    }
   ],
   "source": [
    "fig, ax = plt.subplots(figsize=(25,11))\n",
    "user.age.value_counts().plot(kind='bar', ax=ax)"
   ]
  },
  {
   "cell_type": "markdown",
   "id": "3b2d11a0-c5ef-43e0-8bfd-a56d94b07395",
   "metadata": {},
   "source": [
    "#### user.sex"
   ]
  },
  {
   "cell_type": "code",
   "execution_count": 128,
   "id": "51c9285b-83e9-436c-8d86-9e0d42cbf23c",
   "metadata": {},
   "outputs": [
    {
     "data": {
      "text/plain": [
       "count     1267\n",
       "unique       2\n",
       "top          F\n",
       "freq       639\n",
       "Name: sex, dtype: object"
      ]
     },
     "execution_count": 128,
     "metadata": {},
     "output_type": "execute_result"
    }
   ],
   "source": [
    "user['sex'].describe()"
   ]
  },
  {
   "cell_type": "code",
   "execution_count": 129,
   "id": "f555433a-ad93-459d-9c2f-cefe39990272",
   "metadata": {},
   "outputs": [
    {
     "data": {
      "text/plain": [
       "sex\n",
       "F    639\n",
       "M    628\n",
       "dtype: int64"
      ]
     },
     "execution_count": 129,
     "metadata": {},
     "output_type": "execute_result"
    }
   ],
   "source": [
    "user.groupby('sex').size()"
   ]
  },
  {
   "cell_type": "code",
   "execution_count": 130,
   "id": "32045cce-ac63-4e71-b25a-b814a953da93",
   "metadata": {},
   "outputs": [
    {
     "data": {
      "text/plain": [
       "<Axes: xlabel='sex'>"
      ]
     },
     "execution_count": 130,
     "metadata": {},
     "output_type": "execute_result"
    },
    {
     "data": {
      "image/png": "[encoded data removed]",
      "text/plain": [
       "<Figure size 640x480 with 1 Axes>"
      ]
     },
     "metadata": {},
     "output_type": "display_data"
    }
   ],
   "source": [
    "user.sex.value_counts().plot(kind='bar')"
   ]
  },
  {
   "cell_type": "markdown",
   "id": "ff78724c-12fb-4b40-9e74-f3bd34f0a6fe",
   "metadata": {},
   "source": [
    "#### product.code"
   ]
  },
  {
   "cell_type": "code",
   "execution_count": 131,
   "id": "49e2b9da-cab5-48e9-95a1-a6e888db06c5",
   "metadata": {},
   "outputs": [
    {
     "data": {
      "text/plain": [
       "count     14941\n",
       "unique      133\n",
       "top          US\n",
       "freq       2457\n",
       "Name: code, dtype: object"
      ]
     },
     "execution_count": 131,
     "metadata": {},
     "output_type": "execute_result"
    }
   ],
   "source": [
    "product['code'].describe()"
   ]
  },
  {
   "cell_type": "code",
   "execution_count": 132,
   "id": "99d03399-d5a1-4629-b949-d6f89fa73fef",
   "metadata": {},
   "outputs": [
    {
     "data": {
      "text/plain": [
       "code\n",
       "AD     16\n",
       "AF     14\n",
       "AM     13\n",
       "AO     13\n",
       "AR    122\n",
       "     ... \n",
       "VN     14\n",
       "VU     11\n",
       "XK     14\n",
       "YE     18\n",
       "ZA     52\n",
       "Length: 133, dtype: int64"
      ]
     },
     "execution_count": 132,
     "metadata": {},
     "output_type": "execute_result"
    }
   ],
   "source": [
    "product.groupby('code').size()"
   ]
  },
  {
   "cell_type": "code",
   "execution_count": 134,
   "id": "10e0689a-1a48-42c9-ae17-937b691bd5ea",
   "metadata": {},
   "outputs": [
    {
     "data": {
      "text/plain": [
       "<Axes: xlabel='code'>"
      ]
     },
     "execution_count": 134,
     "metadata": {},
     "output_type": "execute_result"
    },
    {
     "data": {
      "image/png": "[encoded data removed]",
      "text/plain": [
       "<Figure size 3000x1100 with 1 Axes>"
      ]
     },
     "metadata": {},
     "output_type": "display_data"
    }
   ],
   "source": [
    "fig, ax = plt.subplots(figsize=(30,11))\n",
    "product.code.value_counts().plot(kind='bar', ax=ax)"
   ]
  },
  {
   "cell_type": "markdown",
   "id": "1d5755d5-5cf2-44da-8f94-1e4a88c0bc7e",
   "metadata": {},
   "source": [
    "#### session.browser_name"
   ]
  },
  {
   "cell_type": "code",
   "execution_count": 140,
   "id": "437bc691-e138-4e0d-93db-bf1750756851",
   "metadata": {},
   "outputs": [
    {
     "data": {
      "text/plain": [
       "count     10662\n",
       "unique        7\n",
       "top        edge\n",
       "freq       3196\n",
       "Name: browser_name, dtype: object"
      ]
     },
     "execution_count": 140,
     "metadata": {},
     "output_type": "execute_result"
    }
   ],
   "source": [
    "session['browser_name'].describe()"
   ]
  },
  {
   "cell_type": "code",
   "execution_count": 139,
   "id": "e9969680-7e4e-48b9-9b3a-ebf04662220d",
   "metadata": {},
   "outputs": [
    {
     "data": {
      "text/plain": [
       "browser_name\n",
       "chrome     3165\n",
       "edge       3196\n",
       "firefox    1076\n",
       "mobile     1075\n",
       "opera       553\n",
       "other       517\n",
       "safari     1080\n",
       "dtype: int64"
      ]
     },
     "execution_count": 139,
     "metadata": {},
     "output_type": "execute_result"
    }
   ],
   "source": [
    "session.groupby('browser_name').size()"
   ]
  },
  {
   "cell_type": "code",
   "execution_count": 138,
   "id": "67701905-bb6e-4e55-9f10-fe44b65108f0",
   "metadata": {},
   "outputs": [
    {
     "data": {
      "text/plain": [
       "<Axes: xlabel='browser_name'>"
      ]
     },
     "execution_count": 138,
     "metadata": {},
     "output_type": "execute_result"
    },
    {
     "data": {
      "image/png": "[encoded data removed]",
      "text/plain": [
       "<Figure size 640x480 with 1 Axes>"
      ]
     },
     "metadata": {},
     "output_type": "display_data"
    }
   ],
   "source": [
    "session.browser_name.value_counts().plot(kind='bar')"
   ]
  }
 ],
 "metadata": {
  "kernelspec": {
   "display_name": "Python 3 (ipykernel)",
   "language": "python",
   "name": "python3"
  },
  "language_info": {
   "codemirror_mode": {
    "name": "ipython",
    "version": 3
   },
   "file_extension": ".py",
   "mimetype": "text/x-python",
   "name": "python",
   "nbconvert_exporter": "python",
   "pygments_lexer": "ipython3",
   "version": "3.11.4"
  }
 },
 "nbformat": 4,
 "nbformat_minor": 5
}
