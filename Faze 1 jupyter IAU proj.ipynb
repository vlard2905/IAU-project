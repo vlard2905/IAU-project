{
 "cells": [
  {
   "cell_type": "code",
   "execution_count": 3,
   "id": "fc6e59f2",
   "metadata": {},
   "outputs": [],
   "source": [
    "import matplotlib.pyplot as plt\n",
    "import seaborn as sns\n",
    "import pandas as pd\n",
    "import numpy as np\n",
    "import scipy.stats as stats"
   ]
  },
  {
   "cell_type": "code",
   "execution_count": 4,
   "id": "216da6a2",
   "metadata": {},
   "outputs": [],
   "source": [
    "user = pd.read_csv(\"dataset_iau/user.csv\", sep='\\t')\n",
    "session = pd.read_csv(\"dataset_iau/session.csv\", sep='\\t')\n",
    "product = pd.read_csv(\"dataset_iau/product.csv\", sep='\\t')"
   ]
  },
  {
   "cell_type": "markdown",
   "id": "d68fe720-3483-4bb8-bc35-0e2d16359c4c",
   "metadata": {},
   "source": [
    "# Ako statisticky opisat atribut"
   ]
  },
  {
   "cell_type": "markdown",
   "id": "4101524c-67f6-4b11-ae60-65c500a1462b",
   "metadata": {},
   "source": [
    "1. describe\n",
    "2. groupby.size() .... iris.groupby('species').size()\n",
    "3. Univariate analysis (Mean, Median, Modus, Variance, Standard Deviation) = Analýza jednotlivých atribútov\n",
    "\n",
    "iris['petal_length'].mean()\n",
    "iris['petal_length'].median()\n",
    "stats.mode(iris['petal_length'])\n",
    "np.var(iris['petal_length'])\n",
    "np.std(iris['petal_length'])\n",
    "\n",
    "4. print(\"Pearson correlation: %.3f\" % iris.petal_length.corr(iris.petal_width))\n",
    "5. iris.corr() ...... tu bol error lebo nonnumeric data v cviceni"
   ]
  },
  {
   "cell_type": "markdown",
   "id": "a47bb70e-22a8-4b99-a72b-de9163e6a62e",
   "metadata": {},
   "source": [
    "# Plots"
   ]
  },
  {
   "cell_type": "markdown",
   "id": "67b91ce5-f312-40c2-8a56-c5f2d9fdaafc",
   "metadata": {},
   "source": [
    "1. sns.boxplot(data=iris, x=\"sepal_length\", y=\"species\")\n",
    "2. iris.plot(kind='box', subplots=True, layout=(2,2), sharex=False, sharey=False)\n",
    "3. iris.hist()\n",
    "4. sns.histplot(iris['petal_width'], bins=10)"
   ]
  },
  {
   "cell_type": "markdown",
   "id": "f63f54b9-d6c5-4c79-bb97-ff0c2ff442b0",
   "metadata": {},
   "source": [
    "# Identifikuj vztahy medzi atributmi"
   ]
  },
  {
   "cell_type": "markdown",
   "id": "faa67d8b-342a-4232-a12c-f46c9f048c21",
   "metadata": {},
   "source": [
    "1. sns.scatterplot(data=iris, x='petal_length', y='petal_width')\n",
    "2. sns.regplot(x=\"petal_length\", y=\"petal_width\", data=iris)   ....  Plot data and a linear regression model fit\n",
    "3. sns.pairplot(iris, hue=\"species\")"
   ]
  }
 ],
 "metadata": {
  "kernelspec": {
   "display_name": "Python 3 (ipykernel)",
   "language": "python",
   "name": "python3"
  },
  "language_info": {
   "codemirror_mode": {
    "name": "ipython",
    "version": 3
   },
   "file_extension": ".py",
   "mimetype": "text/x-python",
   "name": "python",
   "nbconvert_exporter": "python",
   "pygments_lexer": "ipython3",
   "version": "3.11.4"
  }
 },
 "nbformat": 4,
 "nbformat_minor": 5
}
