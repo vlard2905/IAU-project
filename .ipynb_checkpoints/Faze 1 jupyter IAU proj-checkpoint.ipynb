{
 "cells": [
  {
   "cell_type": "code",
   "execution_count": 1,
   "id": "fc6e59f2",
   "metadata": {},
   "outputs": [],
   "source": [
    "import matplotlib.pyplot as plt\n",
    "import seaborn as sns\n",
    "import pandas as pd\n",
    "import numpy as np\n",
    "import scipy.stats as stats"
   ]
  },
  {
   "cell_type": "code",
   "execution_count": 2,
   "id": "216da6a2",
   "metadata": {},
   "outputs": [
    {
     "ename": "NameError",
     "evalue": "name 'pd' is not defined",
     "output_type": "error",
     "traceback": [
      "\u001b[1;31m---------------------------------------------------------------------------\u001b[0m",
      "\u001b[1;31mNameError\u001b[0m                                 Traceback (most recent call last)",
      "Cell \u001b[1;32mIn[2], line 1\u001b[0m\n\u001b[1;32m----> 1\u001b[0m user \u001b[38;5;241m=\u001b[39m pd\u001b[38;5;241m.\u001b[39mread_csv(\u001b[38;5;124m\"\u001b[39m\u001b[38;5;124mdataset_iau/user.csv\u001b[39m\u001b[38;5;124m\"\u001b[39m, sep\u001b[38;5;241m=\u001b[39m\u001b[38;5;124m'\u001b[39m\u001b[38;5;130;01m\\t\u001b[39;00m\u001b[38;5;124m'\u001b[39m)\n\u001b[0;32m      2\u001b[0m session \u001b[38;5;241m=\u001b[39m pd\u001b[38;5;241m.\u001b[39mread_csv(\u001b[38;5;124m\"\u001b[39m\u001b[38;5;124mdataset_iau/session.csv\u001b[39m\u001b[38;5;124m\"\u001b[39m, sep\u001b[38;5;241m=\u001b[39m\u001b[38;5;124m'\u001b[39m\u001b[38;5;130;01m\\t\u001b[39;00m\u001b[38;5;124m'\u001b[39m)\n\u001b[0;32m      3\u001b[0m product \u001b[38;5;241m=\u001b[39m pd\u001b[38;5;241m.\u001b[39mread_csv(\u001b[38;5;124m\"\u001b[39m\u001b[38;5;124mdataset_iau/product.csv\u001b[39m\u001b[38;5;124m\"\u001b[39m, sep\u001b[38;5;241m=\u001b[39m\u001b[38;5;124m'\u001b[39m\u001b[38;5;130;01m\\t\u001b[39;00m\u001b[38;5;124m'\u001b[39m)\n",
      "\u001b[1;31mNameError\u001b[0m: name 'pd' is not defined"
     ]
    }
   ],
   "source": [
    "user = pd.read_csv(\"dataset_iau/user.csv\", sep='\\t')\n",
    "session = pd.read_csv(\"dataset_iau/session.csv\", sep='\\t')\n",
    "product = pd.read_csv(\"dataset_iau/product.csv\", sep='\\t')"
   ]
  },
  {
   "cell_type": "markdown",
   "id": "d68fe720-3483-4bb8-bc35-0e2d16359c4c",
   "metadata": {},
   "source": [
    "# Ako statisticky opisat atribut"
   ]
  },
  {
   "cell_type": "markdown",
   "id": "4101524c-67f6-4b11-ae60-65c500a1462b",
   "metadata": {},
   "source": [
    "1. describe\n",
    "2. groupby.size() .... iris.groupby('species').size()\n",
    "3. Univariate analysis (Mean, Median, Modus, Variance, Standard Deviation) = Analýza jednotlivých atribútov\n",
    "\n",
    "iris['petal_length'].mean()\n",
    "iris['petal_length'].median()\n",
    "stats.mode(iris['petal_length'])\n",
    "np.var(iris['petal_length'])\n",
    "np.std(iris['petal_length'])\n",
    "\n",
    "4. print(\"Pearson correlation: %.3f\" % iris.petal_length.corr(iris.petal_width))\n",
    "5. iris.corr() ...... tu bol error lebo nonnumeric data v cviceni"
   ]
  },
  {
   "cell_type": "markdown",
   "id": "a47bb70e-22a8-4b99-a72b-de9163e6a62e",
   "metadata": {},
   "source": [
    "# Plots"
   ]
  },
  {
   "cell_type": "markdown",
   "id": "67b91ce5-f312-40c2-8a56-c5f2d9fdaafc",
   "metadata": {},
   "source": [
    "1. sns.boxplot(data=iris, x=\"sepal_length\", y=\"species\")\n",
    "2. iris.plot(kind='box', subplots=True, layout=(2,2), sharex=False, sharey=False)\n",
    "3. iris.hist()\n",
    "4. sns.histplot(iris['petal_width'], bins=10)"
   ]
  },
  {
   "cell_type": "markdown",
   "id": "f63f54b9-d6c5-4c79-bb97-ff0c2ff442b0",
   "metadata": {},
   "source": [
    "# Identifikuj vztahy medzi atributmi"
   ]
  },
  {
   "cell_type": "markdown",
   "id": "faa67d8b-342a-4232-a12c-f46c9f048c21",
   "metadata": {},
   "source": [
    "1. sns.scatterplot(data=iris, x='petal_length', y='petal_width')\n",
    "2. sns.regplot(x=\"petal_length\", y=\"petal_width\", data=iris)   ....  Plot data and a linear regression model fit\n",
    "3. sns.pairplot(iris, hue=\"species\")\n",
    "4. fig, ax = plt.subplots(figsize=(10,8))\n",
    "sns.heatmap(iris.corr(), ax=ax, annot=True, fmt=\".3f\") ......  neviem co toto ma spravit\n",
    "5. "
   ]
  },
  {
   "cell_type": "markdown",
   "id": "0c7ce2cb",
   "metadata": {},
   "source": [
    "# Title"
   ]
  },
  {
   "cell_type": "markdown",
   "id": "cc02f577",
   "metadata": {},
   "source": [
    "plain text"
   ]
  },
  {
   "cell_type": "code",
   "execution_count": null,
   "id": "6eeefd9d",
   "metadata": {},
   "outputs": [],
   "source": []
  }
 ],
 "metadata": {
  "kernelspec": {
   "display_name": "Python 3 (ipykernel)",
   "language": "python",
   "name": "python3"
  },
  "language_info": {
   "codemirror_mode": {
    "name": "ipython",
    "version": 3
   },
   "file_extension": ".py",
   "mimetype": "text/x-python",
   "name": "python",
   "nbconvert_exporter": "python",
   "pygments_lexer": "ipython3",
   "version": "3.11.4"
  }
 },
 "nbformat": 4,
 "nbformat_minor": 5
}
